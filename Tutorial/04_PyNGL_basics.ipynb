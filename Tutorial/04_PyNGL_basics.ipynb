{
 "cells": [
  {
   "cell_type": "markdown",
   "metadata": {},
   "source": [
    "# 4. PyNGL basics\n",
    "\n",
    "PyNGL is a Python language module for creating 2D high performance visualizations of scientific data. It is based on NCL graphics but still not as extensive as NCL's last version 6.6.2.\n",
    "\n",
    "The aim of this notebook is to give you an introduction to PyNGL, read your data from file, create plots, and write the graphics output to a specified graphics file format.\n",
    "\n",
    "Content\n",
    "1. Import PyNGL\n",
    "2. Graphics output\n",
    "3. Plot types\n",
    "4. Plot resources\n",
    "5. Text\n",
    "6. Annotations\n",
    "7. Panels\n",
    "\n",
    "<br>\n",
    "\n",
    "## 4.1 Import PyNGL\n",
    "\n",
    "The Python module of PyNGL is called **Ngl**.\n"
   ]
  },
  {
   "cell_type": "code",
   "execution_count": 1,
   "metadata": {},
   "outputs": [],
   "source": [
    "import Ngl"
   ]
  },
  {
   "cell_type": "markdown",
   "metadata": {},
   "source": [
    "To create a visualization of your data you need to do\n",
    "- read the data\n",
    "- open a graphics output channel called workstation\n",
    "- generate the graphic\n",
    "- save the graphic on disk\n",
    "\n",
    "How to read the data has been explained in **03_Xarray_PyNIO_basics**, we will use it here without further explainations.\n",
    "\n",
    "## 4.2 Graphics output\n",
    "\n",
    "Let us start opening a graphics output channel and link it to the variable **wks**. You can call it like ever you want but it is used very often by NCL users.\n",
    "\n",
    "The workstation types are\n",
    "- ps\n",
    "- eps\n",
    "- epsi\n",
    "- pdf\n",
    "- newpdf  (creates smaller output)\n",
    "- x11\n",
    "\n",
    "In our first example we want to use **PNG** as output format to make it possible to display the plots in the notebook. To open a workstation we use the function **Ngl.open_wks**. The name of the graphics output file shall be **plot_test1.png**. The suffix .png will be appended automatically to the basename of the file name.\n"
   ]
  },
  {
   "cell_type": "code",
   "execution_count": 2,
   "metadata": {},
   "outputs": [],
   "source": [
    "wks = Ngl.open_wks('png', 'plot_test1')"
   ]
  },
  {
   "cell_type": "markdown",
   "metadata": {},
   "source": [
    "That is of course a very simple case but if you want to specify the size or orientation of the graphics you have to work with **resources**. NCL users already know how to deal with resources, and it shouldn't be difficult to Python users. Resources are the same as attributes of Python objects, if set the user is able to manage a lot of settings for PyNGL functions.\n",
    "\n",
    "Let us say, we want to generate a **PDF** file of size **DIN A4**. First, we have to assign a PyNGL object variable **wks_res** (you can call it like you want) with the function **Ngl.Resources()** to store the size settings for the workstation. Notice, that we now use Ngl.open_wks with three parameters, and we have to delete the first workstation.\n"
   ]
  },
  {
   "cell_type": "code",
   "execution_count": 3,
   "metadata": {},
   "outputs": [],
   "source": [
    "wks_res = Ngl.Resources()\n",
    "wks_res.wkPaperSize = 'A4'\n",
    "\n",
    "wks = Ngl.open_wks('pdf', 'plot_test_A4', wks_res)"
   ]
  },
  {
   "cell_type": "markdown",
   "metadata": {},
   "source": [
    "There are many **wk** resources available (see [NCL's wk resources page](http://ncl.ucar.edu/Document/Graphics/Resources/wk.shtml#wkPaperSize)). Read the resources manual carefully because PyNGL and NCL make a lot of differences depending on the selected output format.\n",
    "\n",
    "The next example shows how to set the size of the output to **legal** giving the width and height in inches instead of _wkPaperSize = 'legal'_. It will create a PDF file with width 8.5 inches, height 14.0 inches, and the orientation is portrait (default).\n"
   ]
  },
  {
   "cell_type": "code",
   "execution_count": 4,
   "metadata": {},
   "outputs": [],
   "source": [
    "wks_res = Ngl.Resources()\n",
    "\n",
    "wks_res.wkPaperWidthF  =  8.5    # in inches\n",
    "wks_res.wkPaperHeightF = 14.0    # in inches\n",
    " \n",
    "wks = Ngl.open_wks('pdf',' plot_test_legal', wks_res)"
   ]
  },
  {
   "cell_type": "markdown",
   "metadata": {},
   "source": [
    "Now, we want to change the orientation of the legal size PDF file to landscape."
   ]
  },
  {
   "cell_type": "code",
   "execution_count": 5,
   "metadata": {},
   "outputs": [],
   "source": [
    "wks_res = Ngl.Resources()\n",
    "\n",
    "wks_res.wkPaperSize   = 'legal'\n",
    "wks_res.wkOrientation = 'landscape'\n",
    " \n",
    "wks = Ngl.open_wks('pdf', 'plot_test_legal_landscape', wks_res)"
   ]
  },
  {
   "cell_type": "markdown",
   "metadata": {},
   "source": [
    "Ok, we want to start with a clean script. We delete the workstation from above using the function **Ngl.delete_wks**."
   ]
  },
  {
   "cell_type": "code",
   "execution_count": 6,
   "metadata": {},
   "outputs": [],
   "source": [
    "Ngl.delete_wks(wks)"
   ]
  },
  {
   "cell_type": "code",
   "execution_count": null,
   "metadata": {},
   "outputs": [],
   "source": []
  }
 ],
 "metadata": {
  "kernelspec": {
   "display_name": "Python 3",
   "language": "python",
   "name": "python3"
  },
  "language_info": {
   "codemirror_mode": {
    "name": "ipython",
    "version": 3
   },
   "file_extension": ".py",
   "mimetype": "text/x-python",
   "name": "python",
   "nbconvert_exporter": "python",
   "pygments_lexer": "ipython3",
   "version": "3.7.3"
  }
 },
 "nbformat": 4,
 "nbformat_minor": 2
}
