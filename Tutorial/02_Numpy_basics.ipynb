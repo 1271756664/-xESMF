{
 "cells": [
  {
   "cell_type": "markdown",
   "metadata": {},
   "source": [
    "# 2. Numpy basics\n",
    "\n",
    "Numpy is a python module for scientific computing (linear algebra, Fourier transform, random number capabilities), and efficient handling of N-dimensional arrays. Have a closer look at https://numpy.org/.\n",
    "\n",
    "## 2.1 Import numpy\n",
    "\n",
    "First, we have to import the numpy module to our environment and, just to make it shorter, we want to use an abbreviation np instead of numpy."
   ]
  },
  {
   "cell_type": "code",
   "execution_count": 2,
   "metadata": {},
   "outputs": [],
   "source": [
    "import numpy as np"
   ]
  },
  {
   "cell_type": "markdown",
   "metadata": {},
   "source": [
    "## 2.2 Numpy arrays\n",
    "\n",
    "In addition to the capabilities of performing calculations with numpy, numpy's great strength is the use and the modification of arrays.\n",
    "\n",
    "### 2.2.1 Create an array\n",
    "\n",
    "In the chapter before you've learned how to create and use lists which can be used as a starting point to create a numpy array with **_np.array_**."
   ]
  },
  {
   "cell_type": "code",
   "execution_count": 3,
   "metadata": {},
   "outputs": [
    {
     "name": "stdout",
     "output_type": "stream",
     "text": [
      "--> temp_list:   [10, 12, 14, 29, 18, 21] <class 'list'>\n",
      "--> temp_array:  [10 12 14 29 18 21] <class 'numpy.ndarray'>\n"
     ]
    }
   ],
   "source": [
    "temp_list  = [10, 12, 14, 29, 18, 21]\n",
    "temp_array = np.array(temp_list)\n",
    "\n",
    "print('--> temp_list:  ',temp_list,type(temp_list))\n",
    "print('--> temp_array: ',temp_array,type(temp_array))"
   ]
  },
  {
   "cell_type": "markdown",
   "metadata": {},
   "source": [
    "### 2.2.2 Array attributes\n",
    "\n",
    "Numpy provides attributes for the arrays to retrieve the dimension size, shape, size, data type, and data itself."
   ]
  },
  {
   "cell_type": "code",
   "execution_count": 4,
   "metadata": {},
   "outputs": [
    {
     "name": "stdout",
     "output_type": "stream",
     "text": [
      "--> number of array dimensions:  1\n",
      "--> shape  of array dimensions:  (6,)\n",
      "--> size   of array dimensions:  6\n",
      "--> dtype  of array dimensions:  int64\n"
     ]
    }
   ],
   "source": [
    "ndim  = temp_array.ndim\n",
    "shape = temp_array.shape\n",
    "size  = temp_array.size\n",
    "dtype = temp_array.dtype\n",
    "\n",
    "print('--> number of array dimensions: ', ndim)\n",
    "print('--> shape  of array dimensions: ', shape)\n",
    "print('--> size   of array dimensions: ', size)\n",
    "print('--> dtype  of array dimensions: ', dtype)"
   ]
  },
  {
   "cell_type": "markdown",
   "metadata": {},
   "source": [
    "You can convert the array from the given data type to another. Here, we want to convert it from integer to floating point values."
   ]
  },
  {
   "cell_type": "code",
   "execution_count": 5,
   "metadata": {},
   "outputs": [
    {
     "name": "stdout",
     "output_type": "stream",
     "text": [
      "--> type(temp_array):  <class 'numpy.ndarray'>\n",
      "--> temp_array.astype(float)):  [10. 12. 14. 29. 18. 21.]\n"
     ]
    }
   ],
   "source": [
    "print('--> type(temp_array): ',type(temp_array))\n",
    "\n",
    "print('--> temp_array.astype(float)): ',temp_array.astype(float))"
   ]
  },
  {
   "cell_type": "markdown",
   "metadata": {},
   "source": [
    "### 2.2.3 Indexing and slicing\n",
    "\n",
    "Indexing and sclicing of arrays is equivalent to indexing and slicing of lists (see chapter 01)."
   ]
  },
  {
   "cell_type": "code",
   "execution_count": 6,
   "metadata": {},
   "outputs": [
    {
     "name": "stdout",
     "output_type": "stream",
     "text": [
      "--> temp_array[:]:     [10 12 14 29 18 21]\n",
      "--> temp_array[1]):    12\n",
      "--> temp_array[0:3]:   [10 12 14]\n",
      "--> temp_array[:3]:    [10 12 14]\n",
      "--> temp_array[3:]:    [29 18 21]\n",
      "--> temp_array[-1]:    21\n",
      "--> temp_array[-3:-1]: [29 18]\n"
     ]
    }
   ],
   "source": [
    "print('--> temp_array[:]:    ', temp_array[:])\n",
    "print('--> temp_array[1]):   ', temp_array[1])\n",
    "print('--> temp_array[0:3]:  ', temp_array[0:3])\n",
    "print('--> temp_array[:3]:   ', temp_array[:3])\n",
    "print('--> temp_array[3:]:   ', temp_array[3:])\n",
    "print('--> temp_array[-1]:   ', temp_array[-1])\n",
    "print('--> temp_array[-3:-1]:', temp_array[-3:-1])"
   ]
  },
  {
   "cell_type": "markdown",
   "metadata": {},
   "source": [
    "## 2.3 Create and reshape arrays\n",
    "\n",
    "To generate an evenly spaced array, let's say (0,1,2,3,4), you can use the **_np.arange_** function. **_np.range_** is similar to the range function but it creates an array instead of a list.\n",
    "\n",
    "To create an array starting at 0 and have 5 elements you can use one single input value as parameter:"
   ]
  },
  {
   "cell_type": "code",
   "execution_count": 7,
   "metadata": {},
   "outputs": [
    {
     "name": "stdout",
     "output_type": "stream",
     "text": [
      "[0 1 2 3 4]\n"
     ]
    }
   ],
   "source": [
    "a_array = np.arange(5)\n",
    "print(a_array)"
   ]
  },
  {
   "cell_type": "markdown",
   "metadata": {},
   "source": [
    "To create an array giving the start, end, and increment value:\n",
    "```\n",
    "start value = 2\n",
    "end value   = 10\n",
    "increment   = 2\n",
    "```"
   ]
  },
  {
   "cell_type": "code",
   "execution_count": 8,
   "metadata": {},
   "outputs": [
    {
     "name": "stdout",
     "output_type": "stream",
     "text": [
      "[2 4 6 8]\n"
     ]
    }
   ],
   "source": [
    "a_array = np.arange(2, 10, 2)\n",
    "print(a_array)"
   ]
  },
  {
   "cell_type": "markdown",
   "metadata": {},
   "source": [
    "To create an array with an increment of type float:"
   ]
  },
  {
   "cell_type": "code",
   "execution_count": 9,
   "metadata": {},
   "outputs": [
    {
     "name": "stdout",
     "output_type": "stream",
     "text": [
      "[2.  3.5 5.  6.5 8.  9.5]\n"
     ]
    }
   ],
   "source": [
    "a_array = np.arange(2, 10, 1.5)\n",
    "print(a_array)"
   ]
  },
  {
   "cell_type": "markdown",
   "metadata": {},
   "source": [
    "If you want to create an array on n-elements without knowing the exact increment the **_np.linspace_** function is what you are looking for. You have to give the start, end value, and the number of elements to be generated.\n",
    "For example\n",
    "```\n",
    "start value        = 1\n",
    "end value          = 2\n",
    "number of elements = 11\n",
    "```"
   ]
  },
  {
   "cell_type": "code",
   "execution_count": 10,
   "metadata": {},
   "outputs": [
    {
     "name": "stdout",
     "output_type": "stream",
     "text": [
      "[1.  1.1 1.2 1.3 1.4 1.5 1.6 1.7 1.8 1.9 2. ]\n"
     ]
    }
   ],
   "source": [
    "b_array = np.linspace(1, 2, num=11)\n",
    "print(b_array)"
   ]
  },
  {
   "cell_type": "markdown",
   "metadata": {},
   "source": [
    "### 2.3.1 Reshape\n",
    "\n",
    "So far we've only worked with one-dimensional arrays in this section, and we'll see how easy it is to convert them into two- or three-dimensional arrays. "
   ]
  },
  {
   "cell_type": "code",
   "execution_count": 11,
   "metadata": {},
   "outputs": [
    {
     "name": "stdout",
     "output_type": "stream",
     "text": [
      "a:\n",
      "  [ 0  1  2  3  4  5  6  7  8  9 10 11]\n",
      "\n",
      "a_2d:\n",
      "  [[ 0  1  2]\n",
      " [ 3  4  5]\n",
      " [ 6  7  8]\n",
      " [ 9 10 11]]\n",
      "\n",
      "a_3d:\n",
      "  [[[ 0  1]\n",
      "  [ 2  3]\n",
      "  [ 4  5]]\n",
      "\n",
      " [[ 6  7]\n",
      "  [ 8  9]\n",
      "  [10 11]]]\n"
     ]
    }
   ],
   "source": [
    "a = np.arange(0, 12, 1,)\n",
    "print('a:\\n ', a)\n",
    "\n",
    "a_2d = a.reshape(4, 3)\n",
    "print('\\na_2d:\\n ', a_2d)\n",
    "\n",
    "a_3d = a.reshape(2, 3, 2)\n",
    "print('\\na_3d:\\n ', a_3d)"
   ]
  },
  {
   "cell_type": "markdown",
   "metadata": {},
   "source": [
    "Of course, you can convert an n-dimensional array to an one-dimensional array using the attribute **_flatten_**."
   ]
  },
  {
   "cell_type": "code",
   "execution_count": 12,
   "metadata": {},
   "outputs": [
    {
     "name": "stdout",
     "output_type": "stream",
     "text": [
      "a_1d:  [ 0  1  2  3  4  5  6  7  8  9 10 11]\n"
     ]
    }
   ],
   "source": [
    "a_1d = a_3d.flatten()\n",
    "print('a_1d: ', a_1d)"
   ]
  },
  {
   "cell_type": "markdown",
   "metadata": {},
   "source": [
    "There is a numpy function doing this too, but it is called **_ravel_**."
   ]
  },
  {
   "cell_type": "code",
   "execution_count": 13,
   "metadata": {},
   "outputs": [
    {
     "name": "stdout",
     "output_type": "stream",
     "text": [
      "a_1d:  [ 0  1  2  3  4  5  6  7  8  9 10 11]\n"
     ]
    }
   ],
   "source": [
    "a_1d = np.ravel(a_3d)\n",
    "print('a_1d: ', a_1d)"
   ]
  },
  {
   "cell_type": "markdown",
   "metadata": {},
   "source": [
    "Adding or multiplying arrays of the same size is simple.\n",
    "We define two arrays, each has 5 elements, and compute the sum and the product of them."
   ]
  },
  {
   "cell_type": "code",
   "execution_count": 14,
   "metadata": {},
   "outputs": [
    {
     "name": "stdout",
     "output_type": "stream",
     "text": [
      "m =  [2.1 3.  4.7 5.3 6.2]\n",
      "n =  [0 1 2 3 4]\n",
      "m + n =  [ 2.1  4.   6.7  8.3 10.2]\n",
      "m * n =  [ 0.   3.   9.4 15.9 24.8]\n"
     ]
    }
   ],
   "source": [
    "m = np.array([2.1, 3.0, 4.7, 5.3, 6.2])\n",
    "n = np.arange(5)\n",
    "print('m = ', m)\n",
    "print('n = ', n)\n",
    "\n",
    "mn_add = m + n\n",
    "mn_mul = m * n\n",
    "\n",
    "print('m + n = ', mn_add)\n",
    "print('m * n = ', mn_mul)"
   ]
  },
  {
   "cell_type": "markdown",
   "metadata": {},
   "source": [
    "## 2.4 Mathematical attributes and functions\n",
    "\n",
    "The attributes of a numpy array can be used to retrieve the minimum or maximum value, or to compute the sum, mean, or standard deviation of arrays."
   ]
  },
  {
   "cell_type": "code",
   "execution_count": 15,
   "metadata": {},
   "outputs": [
    {
     "name": "stdout",
     "output_type": "stream",
     "text": [
      "m_min:    2.1\n",
      "m_max:    6.2\n",
      "m_sum:    21.3\n",
      "m_mean:   4.26\n",
      "m_std:    1.502797391533536\n",
      "m_round:  [2. 3. 5. 5. 6.]\n"
     ]
    }
   ],
   "source": [
    "m_min   = m.min()\n",
    "m_max   = m.max()\n",
    "m_sum   = m.sum()\n",
    "m_mean  = m.mean()\n",
    "m_std   = m.std()\n",
    "m_round = m.round()\n",
    "\n",
    "print('m_min:   ',m_min)\n",
    "print('m_max:   ',m_max)\n",
    "print('m_sum:   ',m_sum)\n",
    "print('m_mean:  ',m_mean)\n",
    "print('m_std:   ',m.std())\n",
    "print('m_round: ',m.round())"
   ]
  },
  {
   "cell_type": "markdown",
   "metadata": {},
   "source": [
    "Numpy also provides many mathematical routines, see https://docs.scipy.org/doc/numpy/reference/routines.math.html."
   ]
  },
  {
   "cell_type": "code",
   "execution_count": 16,
   "metadata": {},
   "outputs": [
    {
     "name": "stdout",
     "output_type": "stream",
     "text": [
      "m_sqrt:  [1.44913767 1.73205081 2.16794834 2.30217289 2.48997992]\n",
      "m_exp:   [  8.16616991  20.08553692 109.94717245 200.33680997 492.74904109]\n",
      "mn_add:  [ 2.1  4.   6.7  8.3 10.2]\n"
     ]
    }
   ],
   "source": [
    "m_sqrt = np.sqrt(m)\n",
    "m_exp  = np.exp(m)\n",
    "mn_add = np.add(m,n)\n",
    "\n",
    "print('m_sqrt: ', m_sqrt)\n",
    "print('m_exp:  ', m_exp)\n",
    "print('mn_add: ', mn_add)"
   ]
  },
  {
   "cell_type": "code",
   "execution_count": 17,
   "metadata": {},
   "outputs": [
    {
     "name": "stdout",
     "output_type": "stream",
     "text": [
      "data_radians:  [0.  1.5 3.  4.5 6. ]\n",
      "data_sin:      [ 0.          0.99749499  0.14112001 -0.97753012 -0.2794155 ]\n",
      "data_cos:      [ 1.          0.0707372  -0.9899925  -0.2107958   0.96017029]\n",
      "data_degrees:  [  0.          57.15225282   8.08558087 -56.00835009 -16.00932878]\n"
     ]
    }
   ],
   "source": [
    "data_radians = np.linspace(0., 6., 5)\n",
    "print('data_radians: ', data_radians)\n",
    "\n",
    "data_sin = np.sin(data_radians)\n",
    "print('data_sin:     ', data_sin)\n",
    "\n",
    "data_cos = np.cos(data_radians)\n",
    "print('data_cos:     ', data_cos)\n",
    "\n",
    "data_degrees = np.degrees(data_sin)\n",
    "print('data_degrees: ', data_degrees)"
   ]
  },
  {
   "cell_type": "markdown",
   "metadata": {},
   "source": [
    "## 2.5 Creating arrays for masking\n",
    "\n",
    "Being able to create arrays containing only zeros ore only ones can be very helpful if you want to mask your data. Numpy provides the functions **_np.zeros_** and **_np.ones_**."
   ]
  },
  {
   "cell_type": "code",
   "execution_count": 18,
   "metadata": {},
   "outputs": [
    {
     "name": "stdout",
     "output_type": "stream",
     "text": [
      "zeros:  [[0. 0. 0. 0.]\n",
      " [0. 0. 0. 0.]\n",
      " [0. 0. 0. 0.]]\n",
      "zeros type integer:  [[0 0 0 0]\n",
      " [0 0 0 0]\n",
      " [0 0 0 0]]\n",
      "ones:  [[1. 1. 1. 1.]\n",
      " [1. 1. 1. 1.]\n",
      " [1. 1. 1. 1.]]\n",
      "ones type integer:  [[1 1 1 1]\n",
      " [1 1 1 1]\n",
      " [1 1 1 1]]\n"
     ]
    }
   ],
   "source": [
    "zeros = np.zeros((3,4))\n",
    "print('zeros: ',zeros)\n",
    "\n",
    "zeros = np.zeros((3,4),dtype=int)\n",
    "print('zeros type integer: ',zeros)\n",
    "\n",
    "ones = np.ones((3,4))\n",
    "print('ones: ',ones)\n",
    "\n",
    "ones = np.ones((3,4),dtype=int)\n",
    "print('ones type integer: ',ones)"
   ]
  },
  {
   "cell_type": "markdown",
   "metadata": {},
   "source": [
    "## 2.5 Array stacking\n",
    "\n",
    "Numpy gives you the possibilities to stack arrays on different axes using the functions **_np.vstack_** and **_hstack_**."
   ]
  },
  {
   "cell_type": "code",
   "execution_count": 19,
   "metadata": {},
   "outputs": [
    {
     "name": "stdout",
     "output_type": "stream",
     "text": [
      "np.vstack(zeros,ones): \n",
      " [[0 0 0 0]\n",
      " [0 0 0 0]\n",
      " [0 0 0 0]\n",
      " [1 1 1 1]\n",
      " [1 1 1 1]\n",
      " [1 1 1 1]]\n",
      "np.hstack(zeros,ones): \n",
      " [[0 0 0 0 1 1 1 1]\n",
      " [0 0 0 0 1 1 1 1]\n",
      " [0 0 0 0 1 1 1 1]]\n"
     ]
    }
   ],
   "source": [
    "v = np.vstack((zeros,ones))\n",
    "h = np.hstack((zeros,ones))\n",
    "\n",
    "print('np.vstack(zeros,ones): \\n', v)\n",
    "print('np.hstack(zeros,ones): \\n', h)"
   ]
  },
  {
   "cell_type": "markdown",
   "metadata": {},
   "source": [
    "## 2.6 Shallow and deep copy\n",
    "\n",
    "Maybe you have recognized that copying an array a doen't mean to get a physical copy. If you change your copy the origin array will be changed to because it isn't a physical copy it is more or less a link to the origin array. It's called a **shallow copy**."
   ]
  },
  {
   "cell_type": "code",
   "execution_count": 20,
   "metadata": {},
   "outputs": [
    {
     "name": "stdout",
     "output_type": "stream",
     "text": [
      "a_origin: \n",
      " [[ 0  1  2  3]\n",
      " [ 4  5  6  7]\n",
      " [ 8  9 10 11]]\n",
      "b_copy_of_a:  [[  0   1   2   3]\n",
      " [  4   5   6 999]\n",
      " [  8   9  10  11]]\n",
      "a_origin:     [[  0   1   2   3]\n",
      " [  4   5   6 999]\n",
      " [  8   9  10  11]]\n"
     ]
    }
   ],
   "source": [
    "a_origin = np.arange(12).reshape(3,4)\n",
    "print('a_origin: \\n', a_origin)\n",
    "\n",
    "b_copy_of_a = a_origin\n",
    "\n",
    "b_copy_of_a[1,3] = 999\n",
    "\n",
    "print('b_copy_of_a: ', b_copy_of_a)\n",
    "print('a_origin:    ', a_origin)"
   ]
  },
  {
   "cell_type": "markdown",
   "metadata": {},
   "source": [
    "To create a physical copy, so called **deep copy**, you have to use numpy's **_np.copy_** function."
   ]
  },
  {
   "cell_type": "code",
   "execution_count": 21,
   "metadata": {},
   "outputs": [
    {
     "name": "stdout",
     "output_type": "stream",
     "text": [
      "a_origin: \n",
      " [[ 0  1  2  3]\n",
      " [ 4  5  6  7]\n",
      " [ 8  9 10 11]]\n",
      "c_deep_copy: \n",
      " [[  0   1   2   3]\n",
      " [  4   5   6 222]\n",
      " [  8   9  10  11]]\n"
     ]
    }
   ],
   "source": [
    "a_origin = np.arange(12).reshape(3,4)\n",
    "\n",
    "c_deep_copy = a_origin.copy()\n",
    "\n",
    "c_deep_copy[1,3] = 222\n",
    "\n",
    "print('a_origin: \\n', a_origin)\n",
    "print('c_deep_copy: \\n', c_deep_copy)"
   ]
  },
  {
   "cell_type": "markdown",
   "metadata": {},
   "source": [
    "## 2.7 Most useful functions\n",
    "\n",
    "Working with arrays 1- or multiple-dimensional arrays makes the programs sometimes slow when you have to find values in given ranges or to change values to set missing values for invalid data. Usually, you would thinl about a for or while loop to go through all elements of an array, but numpy has efficient functions to do it in just one line.\n",
    "\n",
    "Useful functions\n",
    "```\n",
    "np.where\n",
    "np.argwhere\n",
    "np.all\n",
    "np.any\n",
    "```\n",
    "\n",
    "The **_np.where_** function allows you to look at the array using a logical expression. If it is True than let the value untouched but when it is False change it to the given value, maybe a kind of a missing value, but this is NOT the same as a netCDF missing value (see below **_masked arrays_**)."
   ]
  },
  {
   "cell_type": "code",
   "execution_count": 22,
   "metadata": {},
   "outputs": [
    {
     "name": "stdout",
     "output_type": "stream",
     "text": [
      "x:  [-1  2  0  5 -3 -2]\n",
      "x_ge0:  [-9999     2     0     5 -9999 -9999]\n"
     ]
    }
   ],
   "source": [
    "x = np.array([-1, 2, 0, 5, -3, -2])\n",
    "\n",
    "x_ge0 = np.where(x >= 0, x, -9999)\n",
    "\n",
    "print('x: ', x)\n",
    "print('x_ge0: ', x_ge0)"
   ]
  },
  {
   "cell_type": "markdown",
   "metadata": {},
   "source": [
    "In the upper example the values of the array were located and directly changed when the condition is False. But sometimes you want to retrieve the indices of the values instead the values themselves, because you need the same indices later again. Then use the **_np.argwhere_** function with a logical condition."
   ]
  },
  {
   "cell_type": "code",
   "execution_count": 23,
   "metadata": {},
   "outputs": [
    {
     "name": "stdout",
     "output_type": "stream",
     "text": [
      "--> indices x >= 0: \n",
      " [[0]\n",
      " [4]\n",
      " [5]]\n",
      "y[x_ind] where x >= 0: \n",
      " [-9999     2     0     5 -9999 -9999]\n"
     ]
    }
   ],
   "source": [
    "x_ind = np.argwhere(x < 0)\n",
    "\n",
    "print('--> indices x >= 0: \\n', x_ind)\n",
    "\n",
    "y = x\n",
    "\n",
    "y[x_ind] = -9999\n",
    "\n",
    "print('y[x_ind] where x >= 0: \\n', y)"
   ]
  },
  {
   "cell_type": "markdown",
   "metadata": {},
   "source": [
    "To see if the values of an array are less than 0 for instance you can't try do it like below - ah, no that would be too easy.\n",
    "\n",
    "```\n",
    "if(x < 0):\n",
    "   print('some elements are less 0')\n",
    "else:\n",
    "   print('no values are less 0')\n",
    "\n",
    "if(x > 0):\n",
    "   print('all elements are greater than 0')\n",
    "else:\n",
    "   print('not all values are greater than 0')\n",
    "```\n",
    "\n",
    "**The result would be the following error:**\n",
    "\n",
    "```\n",
    "---------------------------------------------------------------------------\n",
    "ValueError                                Traceback (most recent call last)\n",
    "<ipython-input-23-6f0311fb54a3> in <module>\n",
    "----> 1 if(x < 0):\n",
    "      2    print('some elements are less 0')\n",
    "      3 else:\n",
    "      4    print('no values are less 0')\n",
    "      5 \n",
    "\n",
    "ValueError: The truth value of an array with more than one element is ambiguous. Use a.any() or a.all()\n",
    "```\n"
   ]
  },
  {
   "cell_type": "markdown",
   "metadata": {},
   "source": [
    "The last line of the error message gives you the right hint to use the array functions **_any_** or **_all_**."
   ]
  },
  {
   "cell_type": "code",
   "execution_count": 24,
   "metadata": {},
   "outputs": [
    {
     "name": "stdout",
     "output_type": "stream",
     "text": [
      "no values are less 0\n",
      "not all values are greater than 0\n"
     ]
    }
   ],
   "source": [
    "if(x.any() < 0):\n",
    "   print('some elements are less 0')\n",
    "else:\n",
    "   print('no values are less 0')\n",
    "\n",
    "if(x.all() > 0):\n",
    "   print('all elements are greater than 0')\n",
    "else:\n",
    "   print('not all values are greater than 0')"
   ]
  },
  {
   "cell_type": "markdown",
   "metadata": {},
   "source": [
    "Or you can use the numpy function **_np.any_** or **_np.all_**."
   ]
  },
  {
   "cell_type": "code",
   "execution_count": 25,
   "metadata": {},
   "outputs": [
    {
     "name": "stdout",
     "output_type": "stream",
     "text": [
      "some elements are less 0\n",
      "not all values are greater than 0\n"
     ]
    }
   ],
   "source": [
    "if(np.any(x < 0)):\n",
    "   print('some elements are less 0')\n",
    "else:\n",
    "   print('no values are less 0')\n",
    "\n",
    "if(np.all(x > 0)):\n",
    "   print('all elements are greater than 0')\n",
    "else:\n",
    "   print('not all values are greater than 0')"
   ]
  },
  {
   "cell_type": "markdown",
   "metadata": {},
   "source": [
    "## 2.8 Read data from CSV file\n",
    "\n",
    "Numpy also provides functions to read data from files. Our next example shows how to read data from a CSV file. The input CSV file **_pw.dat_** looks like \n",
    "```\n",
    " ID      LAT      LON      PW\n",
    "BLAC    36.75   -97.25    48.00\n",
    "BREC    36.41   -97.69    46.30\n",
    "BURB    36.63   -96.81    49.80\n",
    "...\n",
    "```\n",
    "We want to read all values, and because the mixed data types in the file, we read all as strings. We don't need the header line so we skip it."
   ]
  },
  {
   "cell_type": "code",
   "execution_count": 26,
   "metadata": {},
   "outputs": [
    {
     "name": "stdout",
     "output_type": "stream",
     "text": [
      "ID:  \n",
      " ['BLAC' 'BREC' 'BURB' 'DQUA' 'FBYN' 'GUTH' 'HBRK' 'HKLO' 'JTNT' 'LMNO'\n",
      " 'LTHM' 'MEDF' 'NDS1' 'OILT' 'PRCO' 'REDR' 'RWDN' 'SA14' 'SG01' 'SG09'\n",
      " 'SG10' 'SG11' 'SG12' 'SG13' 'SG14' 'SG15' 'SG16' 'SG18' 'SG19' 'SG20'\n",
      " 'SG22' 'VCIO']\n",
      "lat: \n",
      " ['36.75' '36.41' '36.63' '34.11' '40.08' '35.85' '38.31' '35.68' '33.02'\n",
      " '36.69' '39.58' '36.79' '37.30' '36.03' '34.98' '36.36' '40.09' '36.56'\n",
      " '36.60' '36.43' '36.88' '37.33' '38.20' '38.12' '37.84' '38.20' '37.38'\n",
      " '34.88' '35.36' '35.56' '35.26' '36.07']\n",
      "lon: \n",
      " ['-97.25' '-97.69' '-96.81' '-94.29' '-97.31' '-97.48' '-97.29' '-95.86'\n",
      " '-100.98' '-97.48' '-94.17' '-97.75' '-95.60' '-96.50' '-97.52' '-97.15'\n",
      " '-100.65' '-100.61' '-97.49' '-98.28' '-98.29' '-99.31' '-99.32' '-97.51'\n",
      " '-97.02' '-95.59' '-96.18' '-98.20' '-98.98' '-98.02' '-97.48' '-99.22']\n",
      "pw:  \n",
      " ['48.00' '46.30' '49.80' '45.00' '38.20' '46.60' '34.30' '50.20' '39.80'\n",
      " '47.10' '40.40' '46.70' '39.90' '48.80' '46.50' '50.40' '26.40' '22.40'\n",
      " '49.00' '43.20' '41.40' '33.60' '33.90' '36.30' '40.20' '31.70' '42.80'\n",
      " '45.90' '45.30' '47.90' '46.80' '38.60']\n"
     ]
    }
   ],
   "source": [
    "lines = np.loadtxt('/Users/k204045/data/Station_data/pw.dat', dtype='str', skiprows=1)\n",
    "ID  = lines[:,0]\n",
    "lat = lines[:,1]\n",
    "lon = lines[:,2]\n",
    "pw  = lines[:,3]\n",
    "\n",
    "print('ID:  \\n', ID)\n",
    "print('lat: \\n', lat)\n",
    "print('lon: \\n', lon)\n",
    "print('pw:  \\n', pw)"
   ]
  },
  {
   "cell_type": "markdown",
   "metadata": {},
   "source": [
    "If you don't need the IDs then you can directly read the lat, lon, and pw values using the **_usecols_** parameter. There is no need to use the **_dtype_** parameter anymore because the default data type is float, and that's what we want."
   ]
  },
  {
   "cell_type": "code",
   "execution_count": 27,
   "metadata": {},
   "outputs": [
    {
     "name": "stdout",
     "output_type": "stream",
     "text": [
      "\n",
      "--> data: \n",
      " [[  36.75  -97.25   48.  ]\n",
      " [  36.41  -97.69   46.3 ]\n",
      " [  36.63  -96.81   49.8 ]\n",
      " [  34.11  -94.29   45.  ]\n",
      " [  40.08  -97.31   38.2 ]\n",
      " [  35.85  -97.48   46.6 ]\n",
      " [  38.31  -97.29   34.3 ]\n",
      " [  35.68  -95.86   50.2 ]\n",
      " [  33.02 -100.98   39.8 ]\n",
      " [  36.69  -97.48   47.1 ]\n",
      " [  39.58  -94.17   40.4 ]\n",
      " [  36.79  -97.75   46.7 ]\n",
      " [  37.3   -95.6    39.9 ]\n",
      " [  36.03  -96.5    48.8 ]\n",
      " [  34.98  -97.52   46.5 ]\n",
      " [  36.36  -97.15   50.4 ]\n",
      " [  40.09 -100.65   26.4 ]\n",
      " [  36.56 -100.61   22.4 ]\n",
      " [  36.6   -97.49   49.  ]\n",
      " [  36.43  -98.28   43.2 ]\n",
      " [  36.88  -98.29   41.4 ]\n",
      " [  37.33  -99.31   33.6 ]\n",
      " [  38.2   -99.32   33.9 ]\n",
      " [  38.12  -97.51   36.3 ]\n",
      " [  37.84  -97.02   40.2 ]\n",
      " [  38.2   -95.59   31.7 ]\n",
      " [  37.38  -96.18   42.8 ]\n",
      " [  34.88  -98.2    45.9 ]\n",
      " [  35.36  -98.98   45.3 ]\n",
      " [  35.56  -98.02   47.9 ]\n",
      " [  35.26  -97.48   46.8 ]\n",
      " [  36.07  -99.22   38.6 ]]\n",
      "\n",
      "--> lon:  \n",
      " [36.75 36.41 36.63 34.11 40.08 35.85 38.31 35.68 33.02 36.69 39.58 36.79\n",
      " 37.3  36.03 34.98 36.36 40.09 36.56 36.6  36.43 36.88 37.33 38.2  38.12\n",
      " 37.84 38.2  37.38 34.88 35.36 35.56 35.26 36.07]\n",
      "--> lon:  \n",
      " [ -97.25  -97.69  -96.81  -94.29  -97.31  -97.48  -97.29  -95.86 -100.98\n",
      "  -97.48  -94.17  -97.75  -95.6   -96.5   -97.52  -97.15 -100.65 -100.61\n",
      "  -97.49  -98.28  -98.29  -99.31  -99.32  -97.51  -97.02  -95.59  -96.18\n",
      "  -98.2   -98.98  -98.02  -97.48  -99.22]\n",
      "--> pw:   \n",
      " [48.  46.3 49.8 45.  38.2 46.6 34.3 50.2 39.8 47.1 40.4 46.7 39.9 48.8\n",
      " 46.5 50.4 26.4 22.4 49.  43.2 41.4 33.6 33.9 36.3 40.2 31.7 42.8 45.9\n",
      " 45.3 47.9 46.8 38.6]\n"
     ]
    }
   ],
   "source": [
    "data = np.loadtxt('/Users/k204045/data/Station_data/pw.dat', usecols=(1,2,3), skiprows=1)\n",
    "\n",
    "print()\n",
    "print('--> data: \\n', data)\n",
    "print()\n",
    "print('--> lon:  \\n', data[:,0])\n",
    "print('--> lon:  \\n', data[:,1])\n",
    "print('--> pw:   \\n', data[:,2])"
   ]
  },
  {
   "cell_type": "markdown",
   "metadata": {},
   "source": [
    "However, we want to have the IDs, too. It's never too late... \n",
    "But again, we have to tell numpy to use the data type string."
   ]
  },
  {
   "cell_type": "code",
   "execution_count": 28,
   "metadata": {},
   "outputs": [
    {
     "name": "stdout",
     "output_type": "stream",
     "text": [
      "IDs: \n",
      " ['BLAC' 'BREC' 'BURB' 'DQUA' 'FBYN' 'GUTH' 'HBRK' 'HKLO' 'JTNT' 'LMNO'\n",
      " 'LTHM' 'MEDF' 'NDS1' 'OILT' 'PRCO' 'REDR' 'RWDN' 'SA14' 'SG01' 'SG09'\n",
      " 'SG10' 'SG11' 'SG12' 'SG13' 'SG14' 'SG15' 'SG16' 'SG18' 'SG19' 'SG20'\n",
      " 'SG22' 'VCIO']\n"
     ]
    }
   ],
   "source": [
    "IDs = np.loadtxt('/Users/k204045/data/Station_data/pw.dat', dtype='str', usecols=(0), skiprows=1)\n",
    "\n",
    "print('IDs: \\n', IDs)"
   ]
  },
  {
   "cell_type": "markdown",
   "metadata": {},
   "source": [
    "## 2.9 Masking\n",
    "\n",
    "In our daily work we are confronted with data which we want to mask to see only the values in sections we need. Masking is sometimes tricky and you have to take care.\n",
    "\n",
    "In the following example we try to demonstrate how to mask a 2-dimensional array by a given mask array containing zeros and ones, where 0 means 'don't mask', and 1 means 'mask'."
   ]
  },
  {
   "cell_type": "code",
   "execution_count": 29,
   "metadata": {},
   "outputs": [
    {
     "name": "stdout",
     "output_type": "stream",
     "text": [
      "field:      \n",
      " [[1 2]\n",
      " [3 4]\n",
      " [5 6]\n",
      " [7 8]]\n",
      "mask:       \n",
      " [[0 0]\n",
      " [1 0]\n",
      " [1 1]\n",
      " [1 0]]\n",
      "mask_field: \n",
      " [[1 2]\n",
      " [-- 4]\n",
      " [-- --]\n",
      " [-- 8]]\n"
     ]
    }
   ],
   "source": [
    "field = np.arange(1,9,1).reshape((4,2))\n",
    "\n",
    "mask = np.array([[0,0],[1,0],[1,1],[1,0]])\n",
    "\n",
    "mask_field = np.ma.MaskedArray(field,mask)\n",
    "\n",
    "print('field:      \\n', field)\n",
    "print('mask:       \\n', mask)\n",
    "print('mask_field: \\n', mask_field)"
   ]
  },
  {
   "cell_type": "markdown",
   "metadata": {},
   "source": [
    "For the next example we want to get data from one array depending on data of a second array.\n",
    "\n",
    "To create two arrays with random data of type integer we use numpy's random generator."
   ]
  },
  {
   "cell_type": "code",
   "execution_count": 30,
   "metadata": {},
   "outputs": [
    {
     "name": "stdout",
     "output_type": "stream",
     "text": [
      "--> A: \n",
      " [ 2 -1  3 -2 -3 -2  1  0  4  4]\n",
      "--> B: \n",
      " [ 0  0 -1 -2  2 -2 -1 -3  3 -1]\n"
     ]
    }
   ],
   "source": [
    "A = np.random.randint(-3, high=5, size=10)\n",
    "B = np.random.randint(-4, high=4, size=10)\n",
    "\n",
    "print('--> A: \\n', A)\n",
    "print('--> B: \\n', B)"
   ]
  },
  {
   "cell_type": "markdown",
   "metadata": {},
   "source": [
    "Now, we want only the values of array A which are\n",
    "1. greater equal array B values\n",
    "2. less than array B values\n",
    "\n",
    "First, we have to find the indices of those values. Numpy has routines to do that for us, presupposed that both arrays are of the same shape."
   ]
  },
  {
   "cell_type": "code",
   "execution_count": 31,
   "metadata": {},
   "outputs": [
    {
     "name": "stdout",
     "output_type": "stream",
     "text": [
      "--> ind_ge: \n",
      " [True, False, True, True, False, True, True, True, True, True]\n",
      "--> ind_lt: \n",
      " [False, True, False, False, True, False, False, False, False, False]\n"
     ]
    }
   ],
   "source": [
    "ind_ge = list(np.greater_equal(A,B))\n",
    "ind_lt = list(np.less(A,B))\n",
    "\n",
    "print('--> ind_ge: \\n', ind_ge)\n",
    "print('--> ind_lt: \\n', ind_lt)"
   ]
  },
  {
   "cell_type": "markdown",
   "metadata": {},
   "source": [
    "This is the same as"
   ]
  },
  {
   "cell_type": "code",
   "execution_count": 32,
   "metadata": {},
   "outputs": [
    {
     "name": "stdout",
     "output_type": "stream",
     "text": [
      "--> ind_ge: \n",
      " [True, False, True, True, False, True, True, True, True, True]\n",
      "--> ind_lt: \n",
      " [False, True, False, False, True, False, False, False, False, False]\n"
     ]
    }
   ],
   "source": [
    "ind_ge = list(A>=B)\n",
    "ind_lt = list(A<B)\n",
    "\n",
    "print('--> ind_ge: \\n', ind_ge)\n",
    "print('--> ind_lt: \\n', ind_lt)"
   ]
  },
  {
   "cell_type": "markdown",
   "metadata": {},
   "source": [
    "Use these indices to get the data we want."
   ]
  },
  {
   "cell_type": "code",
   "execution_count": 33,
   "metadata": {},
   "outputs": [
    {
     "name": "stdout",
     "output_type": "stream",
     "text": [
      "--> A_ge: \n",
      " [ 2  3 -2 -2  1  0  4  4]\n",
      "--> A_lt: \n",
      " [-1 -3]\n"
     ]
    }
   ],
   "source": [
    "A_ge = A[ind_ge]\n",
    "A_lt = A[ind_lt]\n",
    "\n",
    "print('--> A_ge: \\n', A_ge)\n",
    "print('--> A_lt: \\n', A_lt)"
   ]
  },
  {
   "cell_type": "markdown",
   "metadata": {},
   "source": [
    "In this case we get only the values of the array A which conforms the condition, and not the complete masked array. This has to be done with the numpy.ma.MaskedArray."
   ]
  },
  {
   "cell_type": "code",
   "execution_count": 34,
   "metadata": {},
   "outputs": [
    {
     "name": "stdout",
     "output_type": "stream",
     "text": [
      "--> A_ge2: \n",
      " [-- -1 -- -- -3 -- -- -- -- --]\n",
      "--> A_lt2: \n",
      " [2 -- 3 -2 -- -2 1 0 4 4]\n"
     ]
    }
   ],
   "source": [
    "A_ge2 = np.ma.MaskedArray(A, ind_ge)\n",
    "A_lt2 = np.ma.MaskedArray(A, ind_lt)\n",
    "\n",
    "print('--> A_ge2: \\n', A_ge2)\n",
    "print('--> A_lt2: \\n', A_lt2)"
   ]
  },
  {
   "cell_type": "code",
   "execution_count": 35,
   "metadata": {},
   "outputs": [
    {
     "name": "stdout",
     "output_type": "stream",
     "text": [
      "<class 'numpy.ndarray'>\n",
      "<class 'numpy.ma.core.MaskedArray'>\n"
     ]
    }
   ],
   "source": [
    "print(type(A_ge))\n",
    "print(type(A_ge2))"
   ]
  },
  {
   "cell_type": "markdown",
   "metadata": {},
   "source": [
    "Here is just a brief example in order to locate all the values of an array that are not equal to zero. Of course, it also shows how to locate the values equal to zero.\n",
    "\n",
    "Count and locate the non zero values of an array, select them, and mask the array to save the shape of the array."
   ]
  },
  {
   "cell_type": "code",
   "execution_count": 36,
   "metadata": {},
   "outputs": [
    {
     "name": "stdout",
     "output_type": "stream",
     "text": [
      "--> C:                [ 0 -1  0 -2  0 -2  0 -2  0  0]\n",
      "--> C_count_nonzero:  4\n",
      "--> C_nonzero_ind:    (array([1, 3, 5, 7]),)\n",
      "--> C2:               [-1 -2 -2 -2]\n",
      "--> C3:               [-- -1 -- -2 -- -2 -- -2 -- --]\n"
     ]
    }
   ],
   "source": [
    "C = np.random.randint(-2, high=1, size=10)\n",
    "\n",
    "C_count_nonzero = np.count_nonzero(C)\n",
    "C_nonzero_ind   = np.nonzero(C)\n",
    "\n",
    "C2 = C[C_nonzero_ind]\n",
    "\n",
    "C3 = np.ma.MaskedArray(C, C==0)\n",
    "\n",
    "print('--> C:               ', C)\n",
    "print('--> C_count_nonzero: ', C_count_nonzero)\n",
    "print('--> C_nonzero_ind:   ', C_nonzero_ind)\n",
    "print('--> C2:              ', C2)\n",
    "print('--> C3:              ', C3)"
   ]
  },
  {
   "cell_type": "markdown",
   "metadata": {},
   "source": [
    "Now, we look at the zeros.\n",
    "\n",
    "Count and locate the zero values of an array, select them, and mask the array to save the shape of the array."
   ]
  },
  {
   "cell_type": "code",
   "execution_count": 37,
   "metadata": {},
   "outputs": [
    {
     "name": "stdout",
     "output_type": "stream",
     "text": [
      "--> Z_count_zero:  6\n",
      "--> Z_zero_ind:    [0 2 4 6 8 9]\n",
      "--> Z:             [0 0 0 0 0 0]\n",
      "--> Z2:            [0 -- 0 -- 0 -- 0 -- 0 0]\n"
     ]
    }
   ],
   "source": [
    "Z_count_zero = np.count_nonzero(C==0)\n",
    "\n",
    "Z_zero_ind = np.argwhere(C==0)\n",
    "\n",
    "Z = C[Z_zero_ind]\n",
    "\n",
    "Z2 = np.ma.MaskedArray(C, C!=0)\n",
    "\n",
    "print('--> Z_count_zero: ', Z_count_zero)\n",
    "print('--> Z_zero_ind:   ', Z_zero_ind.flatten())\n",
    "print('--> Z:            ', Z.flatten())\n",
    "print('--> Z2:           ', Z2)"
   ]
  },
  {
   "cell_type": "markdown",
   "metadata": {},
   "source": [
    "## 2.10 Some hints\n",
    "\n",
    "You've learned to generate random arrays, arrays of zeros or ones but one important array generation ist still missing - the array with missing values.\n",
    "\n",
    "To generate an array which contains only missing values use the numpy routine **_np.full_**."
   ]
  },
  {
   "cell_type": "code",
   "execution_count": 38,
   "metadata": {},
   "outputs": [
    {
     "name": "stdout",
     "output_type": "stream",
     "text": [
      "[1.e+20 1.e+20 1.e+20 1.e+20 1.e+20 1.e+20 1.e+20 1.e+20 1.e+20 1.e+20\n",
      " 1.e+20 1.e+20 1.e+20 1.e+20 1.e+20 1.e+20 1.e+20 1.e+20 1.e+20 1.e+20\n",
      " 1.e+20 1.e+20 1.e+20 1.e+20 1.e+20 1.e+20 1.e+20 1.e+20 1.e+20 1.e+20\n",
      " 1.e+20 1.e+20 1.e+20 1.e+20 1.e+20 1.e+20 1.e+20 1.e+20 1.e+20 1.e+20\n",
      " 1.e+20 1.e+20 1.e+20 1.e+20 1.e+20 1.e+20 1.e+20 1.e+20 1.e+20 1.e+20\n",
      " 1.e+20 1.e+20 1.e+20 1.e+20 1.e+20 1.e+20 1.e+20 1.e+20 1.e+20 1.e+20\n",
      " 1.e+20 1.e+20 1.e+20 1.e+20 1.e+20 1.e+20 1.e+20 1.e+20 1.e+20 1.e+20\n",
      " 1.e+20 1.e+20 1.e+20 1.e+20 1.e+20 1.e+20 1.e+20 1.e+20 1.e+20 1.e+20\n",
      " 1.e+20 1.e+20 1.e+20 1.e+20 1.e+20 1.e+20 1.e+20 1.e+20 1.e+20 1.e+20\n",
      " 1.e+20 1.e+20 1.e+20 1.e+20 1.e+20 1.e+20 1.e+20 1.e+20 1.e+20 1.e+20]\n"
     ]
    }
   ],
   "source": [
    "empty_array = np.full(100,1.0e20)\n",
    "print(empty_array)"
   ]
  },
  {
   "cell_type": "markdown",
   "metadata": {},
   "source": [
    "In some cases it is more efficient to start with an empty (missing value) array."
   ]
  },
  {
   "cell_type": "code",
   "execution_count": null,
   "metadata": {},
   "outputs": [],
   "source": []
  }
 ],
 "metadata": {
  "kernelspec": {
   "display_name": "Python 3",
   "language": "python",
   "name": "python3"
  },
  "language_info": {
   "codemirror_mode": {
    "name": "ipython",
    "version": 3
   },
   "file_extension": ".py",
   "mimetype": "text/x-python",
   "name": "python",
   "nbconvert_exporter": "python",
   "pygments_lexer": "ipython3",
   "version": "3.7.3"
  }
 },
 "nbformat": 4,
 "nbformat_minor": 2
}
