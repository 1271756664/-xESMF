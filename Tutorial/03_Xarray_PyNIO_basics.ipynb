{
 "cells": [
  {
   "cell_type": "markdown",
   "metadata": {},
   "source": [
    "# 3. Xarray & PyNIO\n",
    "\n",
    "To read and write scientific data xarray and PyNIO are very efficient, and easy to use because the internal data structure is netCDF like. Xarray can read netCDF and Grib files, and handle the metadata following the netCDF CF-convention. The same is true for PyNIO, that can additionally read HDF and WRF files. \n",
    "\n",
    "See also http://xarray.pydata.org and https://github.com/NCAR/pynio.\n",
    "\n",
    "The examples below shows the use of xarray and PyNIO software to read data from file, work with coordinates and metadata.\n",
    "\n",
    "\n",
    "## 3.1 Read a netCDF file\n",
    "\n",
    "We want to start directly with opening and reading the netCDF file tsurf.nc from the subdirectory data. \n",
    "\n",
    "Import the common used modules and define the variable fname (file name)."
   ]
  },
  {
   "cell_type": "code",
   "execution_count": null,
   "metadata": {},
   "outputs": [],
   "source": [
    "import numpy as np\n",
    "\n",
    "fname = './data/tsurf.nc'"
   ]
  },
  {
   "cell_type": "markdown",
   "metadata": {},
   "source": [
    "**1. xarray**\n",
    "\n",
    "First we have to load the xarray module, and because we are too lazy, we want to use the abbreviation **xr** for it. \n",
    "\n",
    "The function <i>**xr.open_dataset**</i> of xarray is used to read the content of the file. \n",
    "\n",
    "The variable name **_ds_** is often used and is the abbreviation of **_dataset_**."
   ]
  },
  {
   "cell_type": "code",
   "execution_count": null,
   "metadata": {},
   "outputs": [],
   "source": [
    "import xarray as xr\n",
    "\n",
    "ds = xr.open_dataset(fname)\n",
    "\n",
    "print(ds)"
   ]
  },
  {
   "cell_type": "markdown",
   "metadata": {},
   "source": [
    "Printing the dataset content gives you an overview of the dimension and variable names, their sizes, and the global file attributes.\n",
    "\n",
    "<br>\n",
    "\n",
    "**2. PyNIO**\n",
    "\n",
    "Like above, we have to import the module first, but this time it's **Nio** (that's short enough). \n",
    "\n",
    "PyNIO's function to read the file is <i>**Nio.open_file**</i>.\n",
    "\n",
    "The name **_f_** of the file object is often used in NCL scripts, that's why we use it here as well, but you can call it what ever you want."
   ]
  },
  {
   "cell_type": "code",
   "execution_count": null,
   "metadata": {},
   "outputs": [],
   "source": [
    "import Nio\n",
    "\n",
    "f =  Nio.open_file(fname,\"r\")\n",
    "\n",
    "print(f)"
   ]
  },
  {
   "cell_type": "markdown",
   "metadata": {},
   "source": [
    "This is very similar to the _ncdump_ output, and corresponds to the output from xarray.\n",
    "\n",
    "<br>\n",
    "\n",
    "## 3.2 Show variable names and coordinates\n",
    "\n",
    "It is always good to have a closer look at your data, and this can be done very easily with xarray and PyNIO.\n",
    "\n",
    "Ok, show me the variables stored in that file (ups - just one :D) and the coordinate variables, too.\n",
    "\n",
    "**1. xarray**"
   ]
  },
  {
   "cell_type": "code",
   "execution_count": null,
   "metadata": {},
   "outputs": [],
   "source": [
    "coords    = ds.coords\n",
    "variables = ds.variables\n",
    "\n",
    "print('--> coords:    \\n\\n', coords)\n",
    "print('--> variables: \\n\\n', variables)"
   ]
  },
  {
   "cell_type": "markdown",
   "metadata": {},
   "source": [
    "Ah, that's better. Here we can see the time displayed in a readable way, because xarray use the datetime64 module under the hood. Also the variable and coordinate attributes are shown.\n",
    "\n",
    "<br>\n",
    "\n",
    "**2. PyNIO**\n",
    "\n",
    "Let us see how PyNIO will do that.\n"
   ]
  },
  {
   "cell_type": "code",
   "execution_count": null,
   "metadata": {},
   "outputs": [],
   "source": [
    "coords_nio    = f.dimensions.keys()\n",
    "variables_nio = f.variables.keys()\n",
    "\n",
    "print(coords_nio)\n",
    "print(variables_nio)\n",
    "\n",
    "#print f.variables['varName']\n"
   ]
  },
  {
   "cell_type": "code",
   "execution_count": null,
   "metadata": {},
   "outputs": [],
   "source": [
    "coord_nio = f.dimensions.keys()\n",
    "varNames  = f.variables.keys()\n",
    "\n",
    "for i in varNames:\n",
    "    print(f.variables[i])\n",
    "    print(f.variables[i][:])"
   ]
  },
  {
   "cell_type": "markdown",
   "metadata": {},
   "source": [
    "\n",
    "## 3.3  Select variable and coordinate variables\n",
    "\n",
    "At the moment, we only have created a dataset respectively a file object containing the coordinate variables and variable data. Now, we want to select the variable **tsurf** and the coordinate variables **lat** and **lon**.\n",
    "\n",
    "**1. xarray**\n"
   ]
  },
  {
   "cell_type": "code",
   "execution_count": null,
   "metadata": {},
   "outputs": [],
   "source": [
    "tsurf = ds.tsurf\n",
    "lat   = tsurf.lat\n",
    "lon   = tsurf.lon\n",
    "\n",
    "print('Variable tsurf: \\n', tsurf.data)\n",
    "print('\\nCoordinate variable lat: \\n', lat.data)\n",
    "print('\\nCoordinate variable lon: \\n', lon.data)"
   ]
  },
  {
   "cell_type": "markdown",
   "metadata": {},
   "source": [
    "\n",
    "\n",
    "**2. PyNIO**\n",
    "\n",
    "If you use PyNIO to open a file the handling differs a little bit. While with xarray you can retrieve the coordinate variable data from the file, PyNIO gets them from the file object."
   ]
  },
  {
   "cell_type": "code",
   "execution_count": null,
   "metadata": {},
   "outputs": [],
   "source": [
    "tsurf_nio = f.variables['tsurf'][:,:,:]\n",
    "lat_nio   = f.variables['lat'][:]\n",
    "lon_nio   = f.variables['lon'][:]\n",
    "\n",
    "print('Variable tsurf_nio: \\n', tsurf_nio)\n",
    "print('\\nCoordinate variable lat_nio: \\n', lat_nio)\n",
    "print('\\nCoordinate variable lon_nio: \\n', lon_nio)\n"
   ]
  },
  {
   "cell_type": "markdown",
   "metadata": {},
   "source": [
    "The variables have different data types:\n",
    "\n",
    "- xarray gets the variable object data into a special data array which is called DataArray.\n",
    "- PyNIO gets the variable object data into a numpy ndarray."
   ]
  },
  {
   "cell_type": "code",
   "execution_count": null,
   "metadata": {},
   "outputs": [],
   "source": [
    "print(type(tsurf))\n",
    "print(type(tsurf_nio))"
   ]
  },
  {
   "cell_type": "markdown",
   "metadata": {},
   "source": [
    "## 3.3 Dimensions, shape and size\n",
    "\n",
    "To get more informations about the dimension, shape and size of a variable we can use the approbriate attributes.\n",
    "\n",
    "**1. xarray**\n"
   ]
  },
  {
   "cell_type": "code",
   "execution_count": null,
   "metadata": {},
   "outputs": [],
   "source": [
    "dimensions = ds.dims\n",
    "shape = tsurf.shape\n",
    "size  = tsurf.size\n",
    "rank  = len(shape)\n",
    "\n",
    "print('dimensions: ', dimensions)\n",
    "print('shape:      ', shape)\n",
    "print('size:       ', size)\n",
    "print('rank:       ', rank)"
   ]
  },
  {
   "cell_type": "markdown",
   "metadata": {},
   "source": [
    "\n",
    "**2. PyNIO**\n"
   ]
  },
  {
   "cell_type": "code",
   "execution_count": null,
   "metadata": {},
   "outputs": [],
   "source": [
    "dimensions_nio = f.dimensions\n",
    "shape_nio = tsurf_nio.shape\n",
    "size_nio  = tsurf_nio.size\n",
    "rank_nio  = len(shape_nio)   # or rank_nio = f.variables[\"tsurf\"].rank\n",
    "\n",
    "print('dimensions: ', dimensions_nio)\n",
    "print('shape:      ', shape_nio)\n",
    "print('size:       ', size_nio)\n",
    "print('rank_nio:   ', rank_nio)"
   ]
  },
  {
   "cell_type": "markdown",
   "metadata": {},
   "source": [
    "## 3.4 Variable attributes\n",
    "\n",
    "Variable attributes are very important to work in a correct manor with the data.\n",
    "\n",
    "**1. xarray**\n"
   ]
  },
  {
   "cell_type": "code",
   "execution_count": null,
   "metadata": {},
   "outputs": [],
   "source": [
    "attributes = list(tsurf.attrs)\n",
    "\n",
    "print('attributes: ', attributes)"
   ]
  },
  {
   "cell_type": "markdown",
   "metadata": {},
   "source": [
    "\n",
    "**2. PyNIO**\n",
    "\n",
    "To get the attributes we have to use the file variable object **f.variables['tsurf']** and not the numpy array **tsurf_nio**. "
   ]
  },
  {
   "cell_type": "code",
   "execution_count": null,
   "metadata": {},
   "outputs": [],
   "source": [
    "attributes_nio = list(f.variables['tsurf'].attributes.keys())\n",
    "\n",
    "print('attributes_nio: ', attributes_nio)"
   ]
  },
  {
   "cell_type": "markdown",
   "metadata": {},
   "source": [
    "Let's see how we can get the content of an attribute.\n",
    "\n",
    "**1. xarray**\n"
   ]
  },
  {
   "cell_type": "code",
   "execution_count": null,
   "metadata": {},
   "outputs": [],
   "source": [
    "long_name = tsurf.long_name\n",
    "units = tsurf.units\n",
    "\n",
    "print('long_name: ', long_name)\n",
    "print('units:     ', units)"
   ]
  },
  {
   "cell_type": "markdown",
   "metadata": {},
   "source": [
    "\n",
    "**2. PyNIO**\n",
    "\n",
    "And here we have to use the file variable object **f.variables['tsurf']** again.\n"
   ]
  },
  {
   "cell_type": "code",
   "execution_count": null,
   "metadata": {},
   "outputs": [],
   "source": [
    "long_name_nio = f.variables[\"tsurf\"].attributes['long_name']\n",
    "units_nio = f.variables[\"tsurf\"].attributes['units']\n",
    "\n",
    "print('long_name_nio: ', long_name_nio)\n",
    "print('units_nio:     ', units_nio)"
   ]
  },
  {
   "cell_type": "markdown",
   "metadata": {},
   "source": [
    "## 3.5 Time\n",
    "\n",
    "Xarray and PyNIO are working with times totally diffent. Xarray is able to convert the time values to readable times using the internally datetime64 module. While PyNIO only depicts the numeric values of the coordinate variable time.\n",
    "\n",
    "**1. xarray**\n"
   ]
  },
  {
   "cell_type": "code",
   "execution_count": null,
   "metadata": {},
   "outputs": [],
   "source": [
    "time = ds.time.data\n",
    "\n",
    "print('timestep 0: ', time[0])"
   ]
  },
  {
   "cell_type": "markdown",
   "metadata": {},
   "source": [
    "\n",
    "**2. PyNIO**\n"
   ]
  },
  {
   "cell_type": "code",
   "execution_count": null,
   "metadata": {},
   "outputs": [],
   "source": [
    "time_nio =  f.variables['time'][:]\n",
    "\n",
    "print('timestep 0: ', time_nio[0])"
   ]
  },
  {
   "cell_type": "markdown",
   "metadata": {},
   "source": [
    "The returned time value is the value stored in the netCDF file and it has to be converted to a date string.\n",
    "To convert the time value to a string like xarray's above, the units and the calendar attribute have to be known. \n",
    "In this example, we use the **netCDF4** module to convert the time values.\n"
   ]
  },
  {
   "cell_type": "code",
   "execution_count": null,
   "metadata": {},
   "outputs": [],
   "source": [
    "import netCDF4\n",
    "\n",
    "time_nio_units    = f.variables[\"time\"].attributes['units']\n",
    "time_nio_calendar = f.variables[\"time\"].attributes['calendar']\n",
    "\n",
    "date_nio = netCDF4.num2date(time_nio[0], units=time_nio_units, calendar=time_nio_calendar)\n",
    "\n",
    "print('timestep 0: ', date_nio)"
   ]
  },
  {
   "cell_type": "markdown",
   "metadata": {},
   "source": [
    "## 3.6 Read a GRIB file\n",
    "\n",
    "To read a GRIB file nothing has to be done for PyNIO (except to change the file name) but xarray needs an additional module cfgrib, which is used as an so called _engine_.\n",
    "\n",
    "**1. xarray**\n"
   ]
  },
  {
   "cell_type": "code",
   "execution_count": null,
   "metadata": {},
   "outputs": [],
   "source": [
    "import cfgrib\n",
    "\n",
    "ds2 = xr.open_dataset('./data/MET9_IR108_cosmode_0909210000.grb2', engine='cfgrib')\n",
    "\n",
    "variables2 = ds2.variables\n",
    "\n",
    "print('--> variables2: \\n\\n', variables2)"
   ]
  },
  {
   "cell_type": "markdown",
   "metadata": {},
   "source": [
    "\n",
    "**2. PyNIO**\n"
   ]
  },
  {
   "cell_type": "code",
   "execution_count": null,
   "metadata": {},
   "outputs": [],
   "source": [
    "f2 =  Nio.open_file('./data/MET9_IR108_cosmode_0909210000.grb2',\"r\")\n",
    "\n",
    "variables_nio2 = f2.variables.keys()\n",
    "\n",
    "for i in variables_nio2:\n",
    "    print(f2.variables[i])\n",
    "    print(f2.variables[i][:])"
   ]
  },
  {
   "cell_type": "code",
   "execution_count": null,
   "metadata": {},
   "outputs": [],
   "source": []
  }
 ],
 "metadata": {
  "kernelspec": {
   "display_name": "Python 3",
   "language": "python",
   "name": "python3"
  },
  "language_info": {
   "codemirror_mode": {
    "name": "ipython",
    "version": 3
   },
   "file_extension": ".py",
   "mimetype": "text/x-python",
   "name": "python",
   "nbconvert_exporter": "python",
   "pygments_lexer": "ipython3",
   "version": "3.8.3"
  }
 },
 "nbformat": 4,
 "nbformat_minor": 4
}
