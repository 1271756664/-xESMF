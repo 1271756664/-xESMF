{
 "cells": [
  {
   "cell_type": "markdown",
   "metadata": {},
   "source": [
    "# PyEarthScience:  Python examples for Earth Scientists"
   ]
  },
  {
   "cell_type": "markdown",
   "metadata": {},
   "source": [
    "## XY-plots\n",
    "\n",
    "### Using matplotlib\n",
    "\n",
    "#### Line plot with \n",
    "    - marker\n",
    "    - different colors\n",
    "    - legend\n",
    "    - title\n",
    "    - x-axis label\n",
    "    - y-axis label\n"
   ]
  },
  {
   "cell_type": "code",
   "execution_count": 167,
   "metadata": {
    "collapsed": true,
    "scrolled": true
   },
   "outputs": [],
   "source": [
    "#-- load python packages\n",
    "import numpy as np\n",
    "from matplotlib import pyplot as plt"
   ]
  },
  {
   "cell_type": "markdown",
   "metadata": {},
   "source": [
    "Show the plot inside notebook."
   ]
  },
  {
   "cell_type": "code",
   "execution_count": 168,
   "metadata": {
    "collapsed": true
   },
   "outputs": [],
   "source": [
    "%matplotlib inline"
   ]
  },
  {
   "cell_type": "markdown",
   "metadata": {},
   "source": [
    "Create x- and y-values."
   ]
  },
  {
   "cell_type": "code",
   "execution_count": 169,
   "metadata": {
    "collapsed": false,
    "scrolled": true
   },
   "outputs": [],
   "source": [
    "#-- create x-values\n",
    "x1 = np.arange(0,8,1)\n",
    "x2 = np.arange(100)\n",
    "\n",
    "#-- create y-values\n",
    "data   = np.arange(1,40,5)\n",
    "linear = np.arange(100)\n",
    "square = [v * v for v in np.arange(0,10,0.1)]"
   ]
  },
  {
   "cell_type": "markdown",
   "metadata": {},
   "source": [
    "Draw data, set title and axis labels."
   ]
  },
  {
   "cell_type": "code",
   "execution_count": 170,
   "metadata": {
    "collapsed": false,
    "scrolled": true
   },
   "outputs": [
    {
     "data": {
      "image/png": "[encoded data removed]",
      "text/plain": [
       "<matplotlib.figure.Figure at 0x1120de390>"
      ]
     },
     "metadata": {},
     "output_type": "display_data"
    }
   ],
   "source": [
    "plt.plot(x1, data,   \"ob\")         # marker o=open circle, b=black\n",
    "plt.plot(x2, linear, \"g\")          # no marker, g=green\n",
    "plt.plot(x2, square, \"+r\")         # marker +=cross, r=red\n",
    "\n",
    "plt.legend(('data','linear','square'), loc='upper left')\n",
    "\n",
    "plt.title('Title string')\n",
    "plt.xlabel('x-axis label')\n",
    "plt.ylabel('y-axis label')\n",
    "\n",
    "plt.show()"
   ]
  }
 ],
 "metadata": {
  "kernelspec": {
   "display_name": "Python 2",
   "language": "python",
   "name": "python2"
  },
  "language_info": {
   "codemirror_mode": {
    "name": "ipython",
    "version": 2
   },
   "file_extension": ".py",
   "mimetype": "text/x-python",
   "name": "python",
   "nbconvert_exporter": "python",
   "pygments_lexer": "ipython2",
   "version": "2.7.10"
  }
 },
 "nbformat": 4,
 "nbformat_minor": 0
}
