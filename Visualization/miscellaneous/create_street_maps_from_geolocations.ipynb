{
 "cells": [
  {
   "cell_type": "markdown",
   "id": "artistic-locator",
   "metadata": {},
   "source": [
    "# Retrieve geo-locations, create maps with markers and popups\n",
    "\n",
    "Use OpenStreetMap data and the DKRZ logo.\n",
    "\n",
    "<br>\n",
    "\n",
    "geopy - Python client for several popular geocoding web services\n",
    "\n",
    "folium - visualization tool for maps\n",
    "       \n",
    "<br>"
   ]
  },
  {
   "cell_type": "code",
   "execution_count": 1,
   "id": "accessory-serial",
   "metadata": {},
   "outputs": [],
   "source": [
    "from geopy.geocoders import Nominatim\n",
    "import folium "
   ]
  },
  {
   "cell_type": "markdown",
   "id": "beneficial-island",
   "metadata": {},
   "source": [
    "<br>\n",
    "\n",
    "## Use Nominatim geocoder for OpenStreetMap data.\n",
    "\n",
    "<br>"
   ]
  },
  {
   "cell_type": "code",
   "execution_count": 2,
   "id": "incident-ordering",
   "metadata": {},
   "outputs": [],
   "source": [
    "geolocator = Nominatim(user_agent='any_agent')"
   ]
  },
  {
   "cell_type": "markdown",
   "id": "worth-beads",
   "metadata": {},
   "source": [
    "<br>\n",
    "\n",
    "## Retrieve the geo-location of the given address.\n",
    "\n",
    "<br>"
   ]
  },
  {
   "cell_type": "code",
   "execution_count": 3,
   "id": "certified-macedonia",
   "metadata": {},
   "outputs": [
    {
     "name": "stdout",
     "output_type": "stream",
     "text": [
      "Hamburg, Deutschland\n"
     ]
    }
   ],
   "source": [
    "location = geolocator.geocode('Hamburg')\n",
    "\n",
    "print(location.address)"
   ]
  },
  {
   "cell_type": "code",
   "execution_count": 4,
   "id": "cognitive-chapel",
   "metadata": {},
   "outputs": [
    {
     "name": "stdout",
     "output_type": "stream",
     "text": [
      "(53.550341, 10.000654)\n"
     ]
    }
   ],
   "source": [
    "print((location.latitude, location.longitude))\n"
   ]
  },
  {
   "cell_type": "code",
   "execution_count": 5,
   "id": "hidden-thirty",
   "metadata": {},
   "outputs": [
    {
     "name": "stdout",
     "output_type": "stream",
     "text": [
      "{'place_id': 258350924, 'licence': 'Data © OpenStreetMap contributors, ODbL 1.0. https://osm.org/copyright', 'osm_type': 'relation', 'osm_id': 62782, 'boundingbox': ['53.3951118', '54.02765', '8.1044993', '10.3252805'], 'lat': '53.550341', 'lon': '10.000654', 'display_name': 'Hamburg, Deutschland', 'class': 'boundary', 'type': 'administrative', 'importance': 0.8355256463088224, 'icon': 'https://nominatim.openstreetmap.org/ui/mapicons//poi_boundary_administrative.p.20.png'}\n"
     ]
    }
   ],
   "source": [
    "print(location.raw)"
   ]
  },
  {
   "cell_type": "markdown",
   "id": "romantic-allowance",
   "metadata": {},
   "source": [
    "<br>\n",
    "\n",
    "## Create the map with the retrieved location.\n",
    "\n",
    "<br>"
   ]
  },
  {
   "cell_type": "code",
   "execution_count": 6,
   "id": "eight-opening",
   "metadata": {},
   "outputs": [],
   "source": [
    "m = folium.Map(location=[location.latitude, location.longitude])"
   ]
  },
  {
   "cell_type": "markdown",
   "id": "funky-accident",
   "metadata": {},
   "source": [
    "<br>\n",
    "\n",
    "## Display the map in the notebook.\n",
    "\n",
    "<br>"
   ]
  },
  {
   "cell_type": "code",
   "execution_count": 7,
   "id": "backed-brief",
   "metadata": {},
   "outputs": [
    {
     "data": {
      "text/html": [
       "<div style=\"width:100%;\"><div style=\"position:relative;width:100%;height:0;padding-bottom:60%;\"><span style=\"color:#565656\">Make this Notebook Trusted to load map: File -> Trust Notebook</span><iframe src=\"about:blank\" style=\"position:absolute;width:100%;height:100%;left:0;top:0;border:none !important;\" data-html=%3C%21DOCTYPE%20html%3E%0A%3Chead%3E%20%20%20%20%0A%20%20%20%20%3Cmeta%20http-equiv%3D%22content-type%22%20content%3D%22text/html%3B%20charset%3DUTF-8%22%20/%3E%0A%20%20%20%20%0A%20%20%20%20%20%20%20%20%3Cscript%3E%0A%20%20%20%20%20%20%20%20%20%20%20%20L_NO_TOUCH%20%3D%20false%3B%0A%20%20%20%20%20%20%20%20%20%20%20%20L_DISABLE_3D%20%3D%20false%3B%0A%20%20%20%20%20%20%20%20%3C/script%3E%0A%20%20%20%20%0A%20%20%20%20%3Cstyle%3Ehtml%2C%20body%20%7Bwidth%3A%20100%25%3Bheight%3A%20100%25%3Bmargin%3A%200%3Bpadding%3A%200%3B%7D%3C/style%3E%0A%20%20%20%20%3Cstyle%3E%23map%20%7Bposition%3Aabsolute%3Btop%3A0%3Bbottom%3A0%3Bright%3A0%3Bleft%3A0%3B%7D%3C/style%3E%0A%20%20%20%20%3Cscript%20src%3D%22https%3A//cdn.jsdelivr.net/npm/leaflet%401.6.0/dist/leaflet.js%22%3E%3C/script%3E%0A%20%20%20%20%3Cscript%20src%3D%22https%3A//code.jquery.com/jquery-1.12.4.min.js%22%3E%3C/script%3E%0A%20%20%20%20%3Cscript%20src%3D%22https%3A//maxcdn.bootstrapcdn.com/bootstrap/3.2.0/js/bootstrap.min.js%22%3E%3C/script%3E%0A%20%20%20%20%3Cscript%20src%3D%22https%3A//cdnjs.cloudflare.com/ajax/libs/Leaflet.awesome-markers/2.0.2/leaflet.awesome-markers.js%22%3E%3C/script%3E%0A%20%20%20%20%3Clink%20rel%3D%22stylesheet%22%20href%3D%22https%3A//cdn.jsdelivr.net/npm/leaflet%401.6.0/dist/leaflet.css%22/%3E%0A%20%20%20%20%3Clink%20rel%3D%22stylesheet%22%20href%3D%22https%3A//maxcdn.bootstrapcdn.com/bootstrap/3.2.0/css/bootstrap.min.css%22/%3E%0A%20%20%20%20%3Clink%20rel%3D%22stylesheet%22%20href%3D%22https%3A//maxcdn.bootstrapcdn.com/bootstrap/3.2.0/css/bootstrap-theme.min.css%22/%3E%0A%20%20%20%20%3Clink%20rel%3D%22stylesheet%22%20href%3D%22https%3A//maxcdn.bootstrapcdn.com/font-awesome/4.6.3/css/font-awesome.min.css%22/%3E%0A%20%20%20%20%3Clink%20rel%3D%22stylesheet%22%20href%3D%22https%3A//cdnjs.cloudflare.com/ajax/libs/Leaflet.awesome-markers/2.0.2/leaflet.awesome-markers.css%22/%3E%0A%20%20%20%20%3Clink%20rel%3D%22stylesheet%22%20href%3D%22https%3A//cdn.jsdelivr.net/gh/python-visualization/folium/folium/templates/leaflet.awesome.rotate.min.css%22/%3E%0A%20%20%20%20%0A%20%20%20%20%20%20%20%20%20%20%20%20%3Cmeta%20name%3D%22viewport%22%20content%3D%22width%3Ddevice-width%2C%0A%20%20%20%20%20%20%20%20%20%20%20%20%20%20%20%20initial-scale%3D1.0%2C%20maximum-scale%3D1.0%2C%20user-scalable%3Dno%22%20/%3E%0A%20%20%20%20%20%20%20%20%20%20%20%20%3Cstyle%3E%0A%20%20%20%20%20%20%20%20%20%20%20%20%20%20%20%20%23map_5d38165423ac484787a7320dc4cce61c%20%7B%0A%20%20%20%20%20%20%20%20%20%20%20%20%20%20%20%20%20%20%20%20position%3A%20relative%3B%0A%20%20%20%20%20%20%20%20%20%20%20%20%20%20%20%20%20%20%20%20width%3A%20100.0%25%3B%0A%20%20%20%20%20%20%20%20%20%20%20%20%20%20%20%20%20%20%20%20height%3A%20100.0%25%3B%0A%20%20%20%20%20%20%20%20%20%20%20%20%20%20%20%20%20%20%20%20left%3A%200.0%25%3B%0A%20%20%20%20%20%20%20%20%20%20%20%20%20%20%20%20%20%20%20%20top%3A%200.0%25%3B%0A%20%20%20%20%20%20%20%20%20%20%20%20%20%20%20%20%7D%0A%20%20%20%20%20%20%20%20%20%20%20%20%3C/style%3E%0A%20%20%20%20%20%20%20%20%0A%3C/head%3E%0A%3Cbody%3E%20%20%20%20%0A%20%20%20%20%0A%20%20%20%20%20%20%20%20%20%20%20%20%3Cdiv%20class%3D%22folium-map%22%20id%3D%22map_5d38165423ac484787a7320dc4cce61c%22%20%3E%3C/div%3E%0A%20%20%20%20%20%20%20%20%0A%3C/body%3E%0A%3Cscript%3E%20%20%20%20%0A%20%20%20%20%0A%20%20%20%20%20%20%20%20%20%20%20%20var%20map_5d38165423ac484787a7320dc4cce61c%20%3D%20L.map%28%0A%20%20%20%20%20%20%20%20%20%20%20%20%20%20%20%20%22map_5d38165423ac484787a7320dc4cce61c%22%2C%0A%20%20%20%20%20%20%20%20%20%20%20%20%20%20%20%20%7B%0A%20%20%20%20%20%20%20%20%20%20%20%20%20%20%20%20%20%20%20%20center%3A%20%5B53.550341%2C%2010.000654%5D%2C%0A%20%20%20%20%20%20%20%20%20%20%20%20%20%20%20%20%20%20%20%20crs%3A%20L.CRS.EPSG3857%2C%0A%20%20%20%20%20%20%20%20%20%20%20%20%20%20%20%20%20%20%20%20zoom%3A%2010%2C%0A%20%20%20%20%20%20%20%20%20%20%20%20%20%20%20%20%20%20%20%20zoomControl%3A%20true%2C%0A%20%20%20%20%20%20%20%20%20%20%20%20%20%20%20%20%20%20%20%20preferCanvas%3A%20false%2C%0A%20%20%20%20%20%20%20%20%20%20%20%20%20%20%20%20%7D%0A%20%20%20%20%20%20%20%20%20%20%20%20%29%3B%0A%0A%20%20%20%20%20%20%20%20%20%20%20%20%0A%0A%20%20%20%20%20%20%20%20%0A%20%20%20%20%0A%20%20%20%20%20%20%20%20%20%20%20%20var%20tile_layer_7075ba22b1b84e599907d7bcb1761152%20%3D%20L.tileLayer%28%0A%20%20%20%20%20%20%20%20%20%20%20%20%20%20%20%20%22https%3A//%7Bs%7D.tile.openstreetmap.org/%7Bz%7D/%7Bx%7D/%7By%7D.png%22%2C%0A%20%20%20%20%20%20%20%20%20%20%20%20%20%20%20%20%7B%22attribution%22%3A%20%22Data%20by%20%5Cu0026copy%3B%20%5Cu003ca%20href%3D%5C%22http%3A//openstreetmap.org%5C%22%5Cu003eOpenStreetMap%5Cu003c/a%5Cu003e%2C%20under%20%5Cu003ca%20href%3D%5C%22http%3A//www.openstreetmap.org/copyright%5C%22%5Cu003eODbL%5Cu003c/a%5Cu003e.%22%2C%20%22detectRetina%22%3A%20false%2C%20%22maxNativeZoom%22%3A%2018%2C%20%22maxZoom%22%3A%2018%2C%20%22minZoom%22%3A%200%2C%20%22noWrap%22%3A%20false%2C%20%22opacity%22%3A%201%2C%20%22subdomains%22%3A%20%22abc%22%2C%20%22tms%22%3A%20false%7D%0A%20%20%20%20%20%20%20%20%20%20%20%20%29.addTo%28map_5d38165423ac484787a7320dc4cce61c%29%3B%0A%20%20%20%20%20%20%20%20%0A%3C/script%3E onload=\"this.contentDocument.open();this.contentDocument.write(    decodeURIComponent(this.getAttribute('data-html')));this.contentDocument.close();\" allowfullscreen webkitallowfullscreen mozallowfullscreen></iframe></div></div>"
      ],
      "text/plain": [
       "<folium.folium.Map at 0x17ddfaaf0>"
      ]
     },
     "metadata": {},
     "output_type": "display_data"
    }
   ],
   "source": [
    "display(m)"
   ]
  },
  {
   "cell_type": "markdown",
   "id": "opposed-bernard",
   "metadata": {},
   "source": [
    "<br>\n",
    "\n",
    "## Set marker at the center of the city.\n",
    "\n",
    "<br>"
   ]
  },
  {
   "cell_type": "code",
   "execution_count": 8,
   "id": "sixth-straight",
   "metadata": {},
   "outputs": [
    {
     "data": {
      "text/html": [
       "<div style=\"width:100%;\"><div style=\"position:relative;width:100%;height:0;padding-bottom:60%;\"><span style=\"color:#565656\">Make this Notebook Trusted to load map: File -> Trust Notebook</span><iframe src=\"about:blank\" style=\"position:absolute;width:100%;height:100%;left:0;top:0;border:none !important;\" data-html=%3C%21DOCTYPE%20html%3E%0A%3Chead%3E%20%20%20%20%0A%20%20%20%20%3Cmeta%20http-equiv%3D%22content-type%22%20content%3D%22text/html%3B%20charset%3DUTF-8%22%20/%3E%0A%20%20%20%20%0A%20%20%20%20%20%20%20%20%3Cscript%3E%0A%20%20%20%20%20%20%20%20%20%20%20%20L_NO_TOUCH%20%3D%20false%3B%0A%20%20%20%20%20%20%20%20%20%20%20%20L_DISABLE_3D%20%3D%20false%3B%0A%20%20%20%20%20%20%20%20%3C/script%3E%0A%20%20%20%20%0A%20%20%20%20%3Cstyle%3Ehtml%2C%20body%20%7Bwidth%3A%20100%25%3Bheight%3A%20100%25%3Bmargin%3A%200%3Bpadding%3A%200%3B%7D%3C/style%3E%0A%20%20%20%20%3Cstyle%3E%23map%20%7Bposition%3Aabsolute%3Btop%3A0%3Bbottom%3A0%3Bright%3A0%3Bleft%3A0%3B%7D%3C/style%3E%0A%20%20%20%20%3Cscript%20src%3D%22https%3A//cdn.jsdelivr.net/npm/leaflet%401.6.0/dist/leaflet.js%22%3E%3C/script%3E%0A%20%20%20%20%3Cscript%20src%3D%22https%3A//code.jquery.com/jquery-1.12.4.min.js%22%3E%3C/script%3E%0A%20%20%20%20%3Cscript%20src%3D%22https%3A//maxcdn.bootstrapcdn.com/bootstrap/3.2.0/js/bootstrap.min.js%22%3E%3C/script%3E%0A%20%20%20%20%3Cscript%20src%3D%22https%3A//cdnjs.cloudflare.com/ajax/libs/Leaflet.awesome-markers/2.0.2/leaflet.awesome-markers.js%22%3E%3C/script%3E%0A%20%20%20%20%3Clink%20rel%3D%22stylesheet%22%20href%3D%22https%3A//cdn.jsdelivr.net/npm/leaflet%401.6.0/dist/leaflet.css%22/%3E%0A%20%20%20%20%3Clink%20rel%3D%22stylesheet%22%20href%3D%22https%3A//maxcdn.bootstrapcdn.com/bootstrap/3.2.0/css/bootstrap.min.css%22/%3E%0A%20%20%20%20%3Clink%20rel%3D%22stylesheet%22%20href%3D%22https%3A//maxcdn.bootstrapcdn.com/bootstrap/3.2.0/css/bootstrap-theme.min.css%22/%3E%0A%20%20%20%20%3Clink%20rel%3D%22stylesheet%22%20href%3D%22https%3A//maxcdn.bootstrapcdn.com/font-awesome/4.6.3/css/font-awesome.min.css%22/%3E%0A%20%20%20%20%3Clink%20rel%3D%22stylesheet%22%20href%3D%22https%3A//cdnjs.cloudflare.com/ajax/libs/Leaflet.awesome-markers/2.0.2/leaflet.awesome-markers.css%22/%3E%0A%20%20%20%20%3Clink%20rel%3D%22stylesheet%22%20href%3D%22https%3A//cdn.jsdelivr.net/gh/python-visualization/folium/folium/templates/leaflet.awesome.rotate.min.css%22/%3E%0A%20%20%20%20%0A%20%20%20%20%20%20%20%20%20%20%20%20%3Cmeta%20name%3D%22viewport%22%20content%3D%22width%3Ddevice-width%2C%0A%20%20%20%20%20%20%20%20%20%20%20%20%20%20%20%20initial-scale%3D1.0%2C%20maximum-scale%3D1.0%2C%20user-scalable%3Dno%22%20/%3E%0A%20%20%20%20%20%20%20%20%20%20%20%20%3Cstyle%3E%0A%20%20%20%20%20%20%20%20%20%20%20%20%20%20%20%20%23map_5d38165423ac484787a7320dc4cce61c%20%7B%0A%20%20%20%20%20%20%20%20%20%20%20%20%20%20%20%20%20%20%20%20position%3A%20relative%3B%0A%20%20%20%20%20%20%20%20%20%20%20%20%20%20%20%20%20%20%20%20width%3A%20100.0%25%3B%0A%20%20%20%20%20%20%20%20%20%20%20%20%20%20%20%20%20%20%20%20height%3A%20100.0%25%3B%0A%20%20%20%20%20%20%20%20%20%20%20%20%20%20%20%20%20%20%20%20left%3A%200.0%25%3B%0A%20%20%20%20%20%20%20%20%20%20%20%20%20%20%20%20%20%20%20%20top%3A%200.0%25%3B%0A%20%20%20%20%20%20%20%20%20%20%20%20%20%20%20%20%7D%0A%20%20%20%20%20%20%20%20%20%20%20%20%3C/style%3E%0A%20%20%20%20%20%20%20%20%0A%3C/head%3E%0A%3Cbody%3E%20%20%20%20%0A%20%20%20%20%0A%20%20%20%20%20%20%20%20%20%20%20%20%3Cdiv%20class%3D%22folium-map%22%20id%3D%22map_5d38165423ac484787a7320dc4cce61c%22%20%3E%3C/div%3E%0A%20%20%20%20%20%20%20%20%0A%3C/body%3E%0A%3Cscript%3E%20%20%20%20%0A%20%20%20%20%0A%20%20%20%20%20%20%20%20%20%20%20%20var%20map_5d38165423ac484787a7320dc4cce61c%20%3D%20L.map%28%0A%20%20%20%20%20%20%20%20%20%20%20%20%20%20%20%20%22map_5d38165423ac484787a7320dc4cce61c%22%2C%0A%20%20%20%20%20%20%20%20%20%20%20%20%20%20%20%20%7B%0A%20%20%20%20%20%20%20%20%20%20%20%20%20%20%20%20%20%20%20%20center%3A%20%5B53.550341%2C%2010.000654%5D%2C%0A%20%20%20%20%20%20%20%20%20%20%20%20%20%20%20%20%20%20%20%20crs%3A%20L.CRS.EPSG3857%2C%0A%20%20%20%20%20%20%20%20%20%20%20%20%20%20%20%20%20%20%20%20zoom%3A%2010%2C%0A%20%20%20%20%20%20%20%20%20%20%20%20%20%20%20%20%20%20%20%20zoomControl%3A%20true%2C%0A%20%20%20%20%20%20%20%20%20%20%20%20%20%20%20%20%20%20%20%20preferCanvas%3A%20false%2C%0A%20%20%20%20%20%20%20%20%20%20%20%20%20%20%20%20%7D%0A%20%20%20%20%20%20%20%20%20%20%20%20%29%3B%0A%0A%20%20%20%20%20%20%20%20%20%20%20%20%0A%0A%20%20%20%20%20%20%20%20%0A%20%20%20%20%0A%20%20%20%20%20%20%20%20%20%20%20%20var%20tile_layer_7075ba22b1b84e599907d7bcb1761152%20%3D%20L.tileLayer%28%0A%20%20%20%20%20%20%20%20%20%20%20%20%20%20%20%20%22https%3A//%7Bs%7D.tile.openstreetmap.org/%7Bz%7D/%7Bx%7D/%7By%7D.png%22%2C%0A%20%20%20%20%20%20%20%20%20%20%20%20%20%20%20%20%7B%22attribution%22%3A%20%22Data%20by%20%5Cu0026copy%3B%20%5Cu003ca%20href%3D%5C%22http%3A//openstreetmap.org%5C%22%5Cu003eOpenStreetMap%5Cu003c/a%5Cu003e%2C%20under%20%5Cu003ca%20href%3D%5C%22http%3A//www.openstreetmap.org/copyright%5C%22%5Cu003eODbL%5Cu003c/a%5Cu003e.%22%2C%20%22detectRetina%22%3A%20false%2C%20%22maxNativeZoom%22%3A%2018%2C%20%22maxZoom%22%3A%2018%2C%20%22minZoom%22%3A%200%2C%20%22noWrap%22%3A%20false%2C%20%22opacity%22%3A%201%2C%20%22subdomains%22%3A%20%22abc%22%2C%20%22tms%22%3A%20false%7D%0A%20%20%20%20%20%20%20%20%20%20%20%20%29.addTo%28map_5d38165423ac484787a7320dc4cce61c%29%3B%0A%20%20%20%20%20%20%20%20%0A%20%20%20%20%0A%20%20%20%20%20%20%20%20%20%20%20%20var%20marker_d7d7ec9dd6d244679c1dc147f31e3de7%20%3D%20L.marker%28%0A%20%20%20%20%20%20%20%20%20%20%20%20%20%20%20%20%5B53.550341%2C%2010.000654%5D%2C%0A%20%20%20%20%20%20%20%20%20%20%20%20%20%20%20%20%7B%7D%0A%20%20%20%20%20%20%20%20%20%20%20%20%29.addTo%28map_5d38165423ac484787a7320dc4cce61c%29%3B%0A%20%20%20%20%20%20%20%20%0A%20%20%20%20%0A%20%20%20%20%20%20%20%20%20%20%20%20marker_d7d7ec9dd6d244679c1dc147f31e3de7.bindTooltip%28%0A%20%20%20%20%20%20%20%20%20%20%20%20%20%20%20%20%60%3Cdiv%3E%0A%20%20%20%20%20%20%20%20%20%20%20%20%20%20%20%20%20%20%20%20%20%2853.550341%2C%2010.000654%29%0A%20%20%20%20%20%20%20%20%20%20%20%20%20%20%20%20%20%3C/div%3E%60%2C%0A%20%20%20%20%20%20%20%20%20%20%20%20%20%20%20%20%7B%22sticky%22%3A%20true%7D%0A%20%20%20%20%20%20%20%20%20%20%20%20%29%3B%0A%20%20%20%20%20%20%20%20%0A%3C/script%3E onload=\"this.contentDocument.open();this.contentDocument.write(    decodeURIComponent(this.getAttribute('data-html')));this.contentDocument.close();\" allowfullscreen webkitallowfullscreen mozallowfullscreen></iframe></div></div>"
      ],
      "text/plain": [
       "<folium.folium.Map at 0x17ddfaaf0>"
      ]
     },
     "metadata": {},
     "output_type": "display_data"
    }
   ],
   "source": [
    "tooltip = location.latitude, location.longitude\n",
    "\n",
    "folium.Marker([location.latitude, location.longitude], tooltip=tooltip).add_to(m)\n",
    "\n",
    "display(m)"
   ]
  },
  {
   "cell_type": "markdown",
   "id": "aggressive-perspective",
   "metadata": {},
   "source": [
    "<br>\n",
    "\n",
    "## Zoom in.\n",
    "\n",
    "<br>"
   ]
  },
  {
   "cell_type": "code",
   "execution_count": 9,
   "id": "unnecessary-powell",
   "metadata": {},
   "outputs": [
    {
     "data": {
      "text/html": [
       "<div style=\"width:100%;\"><div style=\"position:relative;width:100%;height:0;padding-bottom:60%;\"><span style=\"color:#565656\">Make this Notebook Trusted to load map: File -> Trust Notebook</span><iframe src=\"about:blank\" style=\"position:absolute;width:100%;height:100%;left:0;top:0;border:none !important;\" data-html=%3C%21DOCTYPE%20html%3E%0A%3Chead%3E%20%20%20%20%0A%20%20%20%20%3Cmeta%20http-equiv%3D%22content-type%22%20content%3D%22text/html%3B%20charset%3DUTF-8%22%20/%3E%0A%20%20%20%20%0A%20%20%20%20%20%20%20%20%3Cscript%3E%0A%20%20%20%20%20%20%20%20%20%20%20%20L_NO_TOUCH%20%3D%20false%3B%0A%20%20%20%20%20%20%20%20%20%20%20%20L_DISABLE_3D%20%3D%20false%3B%0A%20%20%20%20%20%20%20%20%3C/script%3E%0A%20%20%20%20%0A%20%20%20%20%3Cstyle%3Ehtml%2C%20body%20%7Bwidth%3A%20100%25%3Bheight%3A%20100%25%3Bmargin%3A%200%3Bpadding%3A%200%3B%7D%3C/style%3E%0A%20%20%20%20%3Cstyle%3E%23map%20%7Bposition%3Aabsolute%3Btop%3A0%3Bbottom%3A0%3Bright%3A0%3Bleft%3A0%3B%7D%3C/style%3E%0A%20%20%20%20%3Cscript%20src%3D%22https%3A//cdn.jsdelivr.net/npm/leaflet%401.6.0/dist/leaflet.js%22%3E%3C/script%3E%0A%20%20%20%20%3Cscript%20src%3D%22https%3A//code.jquery.com/jquery-1.12.4.min.js%22%3E%3C/script%3E%0A%20%20%20%20%3Cscript%20src%3D%22https%3A//maxcdn.bootstrapcdn.com/bootstrap/3.2.0/js/bootstrap.min.js%22%3E%3C/script%3E%0A%20%20%20%20%3Cscript%20src%3D%22https%3A//cdnjs.cloudflare.com/ajax/libs/Leaflet.awesome-markers/2.0.2/leaflet.awesome-markers.js%22%3E%3C/script%3E%0A%20%20%20%20%3Clink%20rel%3D%22stylesheet%22%20href%3D%22https%3A//cdn.jsdelivr.net/npm/leaflet%401.6.0/dist/leaflet.css%22/%3E%0A%20%20%20%20%3Clink%20rel%3D%22stylesheet%22%20href%3D%22https%3A//maxcdn.bootstrapcdn.com/bootstrap/3.2.0/css/bootstrap.min.css%22/%3E%0A%20%20%20%20%3Clink%20rel%3D%22stylesheet%22%20href%3D%22https%3A//maxcdn.bootstrapcdn.com/bootstrap/3.2.0/css/bootstrap-theme.min.css%22/%3E%0A%20%20%20%20%3Clink%20rel%3D%22stylesheet%22%20href%3D%22https%3A//maxcdn.bootstrapcdn.com/font-awesome/4.6.3/css/font-awesome.min.css%22/%3E%0A%20%20%20%20%3Clink%20rel%3D%22stylesheet%22%20href%3D%22https%3A//cdnjs.cloudflare.com/ajax/libs/Leaflet.awesome-markers/2.0.2/leaflet.awesome-markers.css%22/%3E%0A%20%20%20%20%3Clink%20rel%3D%22stylesheet%22%20href%3D%22https%3A//cdn.jsdelivr.net/gh/python-visualization/folium/folium/templates/leaflet.awesome.rotate.min.css%22/%3E%0A%20%20%20%20%0A%20%20%20%20%20%20%20%20%20%20%20%20%3Cmeta%20name%3D%22viewport%22%20content%3D%22width%3Ddevice-width%2C%0A%20%20%20%20%20%20%20%20%20%20%20%20%20%20%20%20initial-scale%3D1.0%2C%20maximum-scale%3D1.0%2C%20user-scalable%3Dno%22%20/%3E%0A%20%20%20%20%20%20%20%20%20%20%20%20%3Cstyle%3E%0A%20%20%20%20%20%20%20%20%20%20%20%20%20%20%20%20%23map_5c7725cfee34492897bc5145ebf3b63e%20%7B%0A%20%20%20%20%20%20%20%20%20%20%20%20%20%20%20%20%20%20%20%20position%3A%20relative%3B%0A%20%20%20%20%20%20%20%20%20%20%20%20%20%20%20%20%20%20%20%20width%3A%20100.0%25%3B%0A%20%20%20%20%20%20%20%20%20%20%20%20%20%20%20%20%20%20%20%20height%3A%20100.0%25%3B%0A%20%20%20%20%20%20%20%20%20%20%20%20%20%20%20%20%20%20%20%20left%3A%200.0%25%3B%0A%20%20%20%20%20%20%20%20%20%20%20%20%20%20%20%20%20%20%20%20top%3A%200.0%25%3B%0A%20%20%20%20%20%20%20%20%20%20%20%20%20%20%20%20%7D%0A%20%20%20%20%20%20%20%20%20%20%20%20%3C/style%3E%0A%20%20%20%20%20%20%20%20%0A%3C/head%3E%0A%3Cbody%3E%20%20%20%20%0A%20%20%20%20%0A%20%20%20%20%20%20%20%20%20%20%20%20%3Cdiv%20class%3D%22folium-map%22%20id%3D%22map_5c7725cfee34492897bc5145ebf3b63e%22%20%3E%3C/div%3E%0A%20%20%20%20%20%20%20%20%0A%3C/body%3E%0A%3Cscript%3E%20%20%20%20%0A%20%20%20%20%0A%20%20%20%20%20%20%20%20%20%20%20%20var%20map_5c7725cfee34492897bc5145ebf3b63e%20%3D%20L.map%28%0A%20%20%20%20%20%20%20%20%20%20%20%20%20%20%20%20%22map_5c7725cfee34492897bc5145ebf3b63e%22%2C%0A%20%20%20%20%20%20%20%20%20%20%20%20%20%20%20%20%7B%0A%20%20%20%20%20%20%20%20%20%20%20%20%20%20%20%20%20%20%20%20center%3A%20%5B53.550341%2C%2010.000654%5D%2C%0A%20%20%20%20%20%20%20%20%20%20%20%20%20%20%20%20%20%20%20%20crs%3A%20L.CRS.EPSG3857%2C%0A%20%20%20%20%20%20%20%20%20%20%20%20%20%20%20%20%20%20%20%20zoom%3A%2012%2C%0A%20%20%20%20%20%20%20%20%20%20%20%20%20%20%20%20%20%20%20%20zoomControl%3A%20false%2C%0A%20%20%20%20%20%20%20%20%20%20%20%20%20%20%20%20%20%20%20%20preferCanvas%3A%20false%2C%0A%20%20%20%20%20%20%20%20%20%20%20%20%20%20%20%20%7D%0A%20%20%20%20%20%20%20%20%20%20%20%20%29%3B%0A%0A%20%20%20%20%20%20%20%20%20%20%20%20%0A%0A%20%20%20%20%20%20%20%20%0A%20%20%20%20%0A%20%20%20%20%20%20%20%20%20%20%20%20var%20tile_layer_e9d8028e8d894f539ebd8d3481c546ca%20%3D%20L.tileLayer%28%0A%20%20%20%20%20%20%20%20%20%20%20%20%20%20%20%20%22https%3A//%7Bs%7D.tile.openstreetmap.org/%7Bz%7D/%7Bx%7D/%7By%7D.png%22%2C%0A%20%20%20%20%20%20%20%20%20%20%20%20%20%20%20%20%7B%22attribution%22%3A%20%22Data%20by%20%5Cu0026copy%3B%20%5Cu003ca%20href%3D%5C%22http%3A//openstreetmap.org%5C%22%5Cu003eOpenStreetMap%5Cu003c/a%5Cu003e%2C%20under%20%5Cu003ca%20href%3D%5C%22http%3A//www.openstreetmap.org/copyright%5C%22%5Cu003eODbL%5Cu003c/a%5Cu003e.%22%2C%20%22detectRetina%22%3A%20false%2C%20%22maxNativeZoom%22%3A%2018%2C%20%22maxZoom%22%3A%2018%2C%20%22minZoom%22%3A%200%2C%20%22noWrap%22%3A%20false%2C%20%22opacity%22%3A%201%2C%20%22subdomains%22%3A%20%22abc%22%2C%20%22tms%22%3A%20false%7D%0A%20%20%20%20%20%20%20%20%20%20%20%20%29.addTo%28map_5c7725cfee34492897bc5145ebf3b63e%29%3B%0A%20%20%20%20%20%20%20%20%0A%3C/script%3E onload=\"this.contentDocument.open();this.contentDocument.write(    decodeURIComponent(this.getAttribute('data-html')));this.contentDocument.close();\" allowfullscreen webkitallowfullscreen mozallowfullscreen></iframe></div></div>"
      ],
      "text/plain": [
       "<folium.folium.Map at 0x17ddfa2b0>"
      ]
     },
     "metadata": {},
     "output_type": "display_data"
    }
   ],
   "source": [
    "m = folium.Map(location=[location.latitude, location.longitude], zoom_start=12, zoom_control=False)\n",
    "display(m)"
   ]
  },
  {
   "cell_type": "markdown",
   "id": "incorporated-concept",
   "metadata": {},
   "source": [
    "<br>\n",
    "\n",
    "## Retrieve the location data of the DKRZ. Set Marker type.\n",
    "\n",
    "<br>"
   ]
  },
  {
   "cell_type": "code",
   "execution_count": 10,
   "id": "iraqi-picnic",
   "metadata": {},
   "outputs": [
    {
     "name": "stdout",
     "output_type": "stream",
     "text": [
      "Deutsches Klimarechenzentrum, 45a, Bundesstraße, Rotherbaum, Eimsbüttel, Hamburg, 20146, Germany\n"
     ]
    }
   ],
   "source": [
    "dkrz_location = geolocator.geocode('Bundesstrasse 45a, Hamburg, Germany', language='en')\n",
    "\n",
    "print(dkrz_location.address)"
   ]
  },
  {
   "cell_type": "markdown",
   "id": "legislative-insertion",
   "metadata": {},
   "source": [
    "<br>\n",
    "\n",
    "## Locate DKRZ on map\n",
    "\n",
    "<br>"
   ]
  },
  {
   "cell_type": "code",
   "execution_count": 11,
   "id": "better-mineral",
   "metadata": {},
   "outputs": [
    {
     "data": {
      "text/html": [
       "<div style=\"width:100%;\"><div style=\"position:relative;width:100%;height:0;padding-bottom:60%;\"><span style=\"color:#565656\">Make this Notebook Trusted to load map: File -> Trust Notebook</span><iframe src=\"about:blank\" style=\"position:absolute;width:100%;height:100%;left:0;top:0;border:none !important;\" data-html=%3C%21DOCTYPE%20html%3E%0A%3Chead%3E%20%20%20%20%0A%20%20%20%20%3Cmeta%20http-equiv%3D%22content-type%22%20content%3D%22text/html%3B%20charset%3DUTF-8%22%20/%3E%0A%20%20%20%20%0A%20%20%20%20%20%20%20%20%3Cscript%3E%0A%20%20%20%20%20%20%20%20%20%20%20%20L_NO_TOUCH%20%3D%20false%3B%0A%20%20%20%20%20%20%20%20%20%20%20%20L_DISABLE_3D%20%3D%20false%3B%0A%20%20%20%20%20%20%20%20%3C/script%3E%0A%20%20%20%20%0A%20%20%20%20%3Cstyle%3Ehtml%2C%20body%20%7Bwidth%3A%20100%25%3Bheight%3A%20100%25%3Bmargin%3A%200%3Bpadding%3A%200%3B%7D%3C/style%3E%0A%20%20%20%20%3Cstyle%3E%23map%20%7Bposition%3Aabsolute%3Btop%3A0%3Bbottom%3A0%3Bright%3A0%3Bleft%3A0%3B%7D%3C/style%3E%0A%20%20%20%20%3Cscript%20src%3D%22https%3A//cdn.jsdelivr.net/npm/leaflet%401.6.0/dist/leaflet.js%22%3E%3C/script%3E%0A%20%20%20%20%3Cscript%20src%3D%22https%3A//code.jquery.com/jquery-1.12.4.min.js%22%3E%3C/script%3E%0A%20%20%20%20%3Cscript%20src%3D%22https%3A//maxcdn.bootstrapcdn.com/bootstrap/3.2.0/js/bootstrap.min.js%22%3E%3C/script%3E%0A%20%20%20%20%3Cscript%20src%3D%22https%3A//cdnjs.cloudflare.com/ajax/libs/Leaflet.awesome-markers/2.0.2/leaflet.awesome-markers.js%22%3E%3C/script%3E%0A%20%20%20%20%3Clink%20rel%3D%22stylesheet%22%20href%3D%22https%3A//cdn.jsdelivr.net/npm/leaflet%401.6.0/dist/leaflet.css%22/%3E%0A%20%20%20%20%3Clink%20rel%3D%22stylesheet%22%20href%3D%22https%3A//maxcdn.bootstrapcdn.com/bootstrap/3.2.0/css/bootstrap.min.css%22/%3E%0A%20%20%20%20%3Clink%20rel%3D%22stylesheet%22%20href%3D%22https%3A//maxcdn.bootstrapcdn.com/bootstrap/3.2.0/css/bootstrap-theme.min.css%22/%3E%0A%20%20%20%20%3Clink%20rel%3D%22stylesheet%22%20href%3D%22https%3A//maxcdn.bootstrapcdn.com/font-awesome/4.6.3/css/font-awesome.min.css%22/%3E%0A%20%20%20%20%3Clink%20rel%3D%22stylesheet%22%20href%3D%22https%3A//cdnjs.cloudflare.com/ajax/libs/Leaflet.awesome-markers/2.0.2/leaflet.awesome-markers.css%22/%3E%0A%20%20%20%20%3Clink%20rel%3D%22stylesheet%22%20href%3D%22https%3A//cdn.jsdelivr.net/gh/python-visualization/folium/folium/templates/leaflet.awesome.rotate.min.css%22/%3E%0A%20%20%20%20%0A%20%20%20%20%20%20%20%20%20%20%20%20%3Cmeta%20name%3D%22viewport%22%20content%3D%22width%3Ddevice-width%2C%0A%20%20%20%20%20%20%20%20%20%20%20%20%20%20%20%20initial-scale%3D1.0%2C%20maximum-scale%3D1.0%2C%20user-scalable%3Dno%22%20/%3E%0A%20%20%20%20%20%20%20%20%20%20%20%20%3Cstyle%3E%0A%20%20%20%20%20%20%20%20%20%20%20%20%20%20%20%20%23map_a9d9705f379c47db9e293e88586a4955%20%7B%0A%20%20%20%20%20%20%20%20%20%20%20%20%20%20%20%20%20%20%20%20position%3A%20relative%3B%0A%20%20%20%20%20%20%20%20%20%20%20%20%20%20%20%20%20%20%20%20width%3A%20100.0%25%3B%0A%20%20%20%20%20%20%20%20%20%20%20%20%20%20%20%20%20%20%20%20height%3A%20100.0%25%3B%0A%20%20%20%20%20%20%20%20%20%20%20%20%20%20%20%20%20%20%20%20left%3A%200.0%25%3B%0A%20%20%20%20%20%20%20%20%20%20%20%20%20%20%20%20%20%20%20%20top%3A%200.0%25%3B%0A%20%20%20%20%20%20%20%20%20%20%20%20%20%20%20%20%7D%0A%20%20%20%20%20%20%20%20%20%20%20%20%3C/style%3E%0A%20%20%20%20%20%20%20%20%0A%3C/head%3E%0A%3Cbody%3E%20%20%20%20%0A%20%20%20%20%0A%20%20%20%20%20%20%20%20%20%20%20%20%3Cdiv%20class%3D%22folium-map%22%20id%3D%22map_a9d9705f379c47db9e293e88586a4955%22%20%3E%3C/div%3E%0A%20%20%20%20%20%20%20%20%0A%3C/body%3E%0A%3Cscript%3E%20%20%20%20%0A%20%20%20%20%0A%20%20%20%20%20%20%20%20%20%20%20%20var%20map_a9d9705f379c47db9e293e88586a4955%20%3D%20L.map%28%0A%20%20%20%20%20%20%20%20%20%20%20%20%20%20%20%20%22map_a9d9705f379c47db9e293e88586a4955%22%2C%0A%20%20%20%20%20%20%20%20%20%20%20%20%20%20%20%20%7B%0A%20%20%20%20%20%20%20%20%20%20%20%20%20%20%20%20%20%20%20%20center%3A%20%5B53.566864800000005%2C%209.97658541170781%5D%2C%0A%20%20%20%20%20%20%20%20%20%20%20%20%20%20%20%20%20%20%20%20crs%3A%20L.CRS.EPSG3857%2C%0A%20%20%20%20%20%20%20%20%20%20%20%20%20%20%20%20%20%20%20%20zoom%3A%2016%2C%0A%20%20%20%20%20%20%20%20%20%20%20%20%20%20%20%20%20%20%20%20zoomControl%3A%20false%2C%0A%20%20%20%20%20%20%20%20%20%20%20%20%20%20%20%20%20%20%20%20preferCanvas%3A%20false%2C%0A%20%20%20%20%20%20%20%20%20%20%20%20%20%20%20%20%7D%0A%20%20%20%20%20%20%20%20%20%20%20%20%29%3B%0A%0A%20%20%20%20%20%20%20%20%20%20%20%20%0A%0A%20%20%20%20%20%20%20%20%0A%20%20%20%20%0A%20%20%20%20%20%20%20%20%20%20%20%20var%20tile_layer_b7247c237a4b450696b4c9ae564862d2%20%3D%20L.tileLayer%28%0A%20%20%20%20%20%20%20%20%20%20%20%20%20%20%20%20%22https%3A//%7Bs%7D.tile.openstreetmap.org/%7Bz%7D/%7Bx%7D/%7By%7D.png%22%2C%0A%20%20%20%20%20%20%20%20%20%20%20%20%20%20%20%20%7B%22attribution%22%3A%20%22Data%20by%20%5Cu0026copy%3B%20%5Cu003ca%20href%3D%5C%22http%3A//openstreetmap.org%5C%22%5Cu003eOpenStreetMap%5Cu003c/a%5Cu003e%2C%20under%20%5Cu003ca%20href%3D%5C%22http%3A//www.openstreetmap.org/copyright%5C%22%5Cu003eODbL%5Cu003c/a%5Cu003e.%22%2C%20%22detectRetina%22%3A%20false%2C%20%22maxNativeZoom%22%3A%2018%2C%20%22maxZoom%22%3A%2018%2C%20%22minZoom%22%3A%200%2C%20%22noWrap%22%3A%20false%2C%20%22opacity%22%3A%201%2C%20%22subdomains%22%3A%20%22abc%22%2C%20%22tms%22%3A%20false%7D%0A%20%20%20%20%20%20%20%20%20%20%20%20%29.addTo%28map_a9d9705f379c47db9e293e88586a4955%29%3B%0A%20%20%20%20%20%20%20%20%0A%20%20%20%20%0A%20%20%20%20%20%20%20%20%20%20%20%20var%20marker_9c5a29fc8484459e98a26f931754f8f9%20%3D%20L.marker%28%0A%20%20%20%20%20%20%20%20%20%20%20%20%20%20%20%20%5B53.566864800000005%2C%209.97658541170781%5D%2C%0A%20%20%20%20%20%20%20%20%20%20%20%20%20%20%20%20%7B%7D%0A%20%20%20%20%20%20%20%20%20%20%20%20%29.addTo%28map_a9d9705f379c47db9e293e88586a4955%29%3B%0A%20%20%20%20%20%20%20%20%0A%20%20%20%20%0A%20%20%20%20%20%20%20%20%20%20%20%20var%20icon_8a04372453c648d591c2354f69945ef1%20%3D%20L.AwesomeMarkers.icon%28%0A%20%20%20%20%20%20%20%20%20%20%20%20%20%20%20%20%7B%22extraClasses%22%3A%20%22fa-rotate-0%22%2C%20%22icon%22%3A%20%22cloud%22%2C%20%22iconColor%22%3A%20%22white%22%2C%20%22markerColor%22%3A%20%22blue%22%2C%20%22prefix%22%3A%20%22glyphicon%22%7D%0A%20%20%20%20%20%20%20%20%20%20%20%20%29%3B%0A%20%20%20%20%20%20%20%20%20%20%20%20marker_9c5a29fc8484459e98a26f931754f8f9.setIcon%28icon_8a04372453c648d591c2354f69945ef1%29%3B%0A%20%20%20%20%20%20%20%20%0A%20%20%20%20%0A%20%20%20%20%20%20%20%20var%20popup_bc9499bc16b04184af7e12d0428b9208%20%3D%20L.popup%28%7B%22maxWidth%22%3A%20%22100%25%22%7D%29%3B%0A%0A%20%20%20%20%20%20%20%20%0A%20%20%20%20%20%20%20%20%20%20%20%20var%20html_6c76b77978d34e9d9711281653ebf5aa%20%3D%20%24%28%60%3Cdiv%20id%3D%22html_6c76b77978d34e9d9711281653ebf5aa%22%20style%3D%22width%3A%20100.0%25%3B%20height%3A%20100.0%25%3B%22%3EDeutsches%20Klimarechenzentrum%20GmbH%3C/div%3E%60%29%5B0%5D%3B%0A%20%20%20%20%20%20%20%20%20%20%20%20popup_bc9499bc16b04184af7e12d0428b9208.setContent%28html_6c76b77978d34e9d9711281653ebf5aa%29%3B%0A%20%20%20%20%20%20%20%20%0A%0A%20%20%20%20%20%20%20%20marker_9c5a29fc8484459e98a26f931754f8f9.bindPopup%28popup_bc9499bc16b04184af7e12d0428b9208%29%0A%20%20%20%20%20%20%20%20%3B%0A%0A%20%20%20%20%20%20%20%20%0A%20%20%20%20%0A%3C/script%3E onload=\"this.contentDocument.open();this.contentDocument.write(    decodeURIComponent(this.getAttribute('data-html')));this.contentDocument.close();\" allowfullscreen webkitallowfullscreen mozallowfullscreen></iframe></div></div>"
      ],
      "text/plain": [
       "<folium.folium.Map at 0x17ddf2730>"
      ]
     },
     "metadata": {},
     "output_type": "display_data"
    }
   ],
   "source": [
    "dkrz_map = folium.Map(location=[dkrz_location.latitude, dkrz_location.longitude], zoom_start=16, zoom_control=False)\n",
    "\n",
    "tooltip = dkrz_location.latitude, dkrz_location.longitude\n",
    "\n",
    "popup_name = 'Deutsches Klimarechenzentrum GmbH'\n",
    "\n",
    "folium.Marker([dkrz_location.latitude, dkrz_location.longitude], popup=popup_name, icon=folium.Icon(icon=\"cloud\"),).add_to(dkrz_map)\n",
    "\n",
    "display(dkrz_map)"
   ]
  },
  {
   "cell_type": "markdown",
   "id": "loaded-scale",
   "metadata": {},
   "source": [
    "<br>\n",
    "\n",
    "## Display DKRZ logo as marker popup.\n",
    "\n",
    "<br>"
   ]
  },
  {
   "cell_type": "code",
   "execution_count": 12,
   "id": "elect-event",
   "metadata": {},
   "outputs": [
    {
     "data": {
      "text/html": [
       "<iframe src=\"about:blank\" width=\"700\" height=\"700\"style=\"border:none !important;\" data-html=%3C%21DOCTYPE%20html%3E%0A%3Chead%3E%20%20%20%20%0A%20%20%20%20%3Cmeta%20http-equiv%3D%22content-type%22%20content%3D%22text/html%3B%20charset%3DUTF-8%22%20/%3E%0A%20%20%20%20%0A%20%20%20%20%20%20%20%20%3Cscript%3E%0A%20%20%20%20%20%20%20%20%20%20%20%20L_NO_TOUCH%20%3D%20false%3B%0A%20%20%20%20%20%20%20%20%20%20%20%20L_DISABLE_3D%20%3D%20false%3B%0A%20%20%20%20%20%20%20%20%3C/script%3E%0A%20%20%20%20%0A%20%20%20%20%3Cstyle%3Ehtml%2C%20body%20%7Bwidth%3A%20100%25%3Bheight%3A%20100%25%3Bmargin%3A%200%3Bpadding%3A%200%3B%7D%3C/style%3E%0A%20%20%20%20%3Cstyle%3E%23map%20%7Bposition%3Aabsolute%3Btop%3A0%3Bbottom%3A0%3Bright%3A0%3Bleft%3A0%3B%7D%3C/style%3E%0A%20%20%20%20%3Cscript%20src%3D%22https%3A//cdn.jsdelivr.net/npm/leaflet%401.6.0/dist/leaflet.js%22%3E%3C/script%3E%0A%20%20%20%20%3Cscript%20src%3D%22https%3A//code.jquery.com/jquery-1.12.4.min.js%22%3E%3C/script%3E%0A%20%20%20%20%3Cscript%20src%3D%22https%3A//maxcdn.bootstrapcdn.com/bootstrap/3.2.0/js/bootstrap.min.js%22%3E%3C/script%3E%0A%20%20%20%20%3Cscript%20src%3D%22https%3A//cdnjs.cloudflare.com/ajax/libs/Leaflet.awesome-markers/2.0.2/leaflet.awesome-markers.js%22%3E%3C/script%3E%0A%20%20%20%20%3Clink%20rel%3D%22stylesheet%22%20href%3D%22https%3A//cdn.jsdelivr.net/npm/leaflet%401.6.0/dist/leaflet.css%22/%3E%0A%20%20%20%20%3Clink%20rel%3D%22stylesheet%22%20href%3D%22https%3A//maxcdn.bootstrapcdn.com/bootstrap/3.2.0/css/bootstrap.min.css%22/%3E%0A%20%20%20%20%3Clink%20rel%3D%22stylesheet%22%20href%3D%22https%3A//maxcdn.bootstrapcdn.com/bootstrap/3.2.0/css/bootstrap-theme.min.css%22/%3E%0A%20%20%20%20%3Clink%20rel%3D%22stylesheet%22%20href%3D%22https%3A//maxcdn.bootstrapcdn.com/font-awesome/4.6.3/css/font-awesome.min.css%22/%3E%0A%20%20%20%20%3Clink%20rel%3D%22stylesheet%22%20href%3D%22https%3A//cdnjs.cloudflare.com/ajax/libs/Leaflet.awesome-markers/2.0.2/leaflet.awesome-markers.css%22/%3E%0A%20%20%20%20%3Clink%20rel%3D%22stylesheet%22%20href%3D%22https%3A//cdn.jsdelivr.net/gh/python-visualization/folium/folium/templates/leaflet.awesome.rotate.min.css%22/%3E%0A%20%20%20%20%0A%20%20%20%20%20%20%20%20%20%20%20%20%3Cmeta%20name%3D%22viewport%22%20content%3D%22width%3Ddevice-width%2C%0A%20%20%20%20%20%20%20%20%20%20%20%20%20%20%20%20initial-scale%3D1.0%2C%20maximum-scale%3D1.0%2C%20user-scalable%3Dno%22%20/%3E%0A%20%20%20%20%20%20%20%20%20%20%20%20%3Cstyle%3E%0A%20%20%20%20%20%20%20%20%20%20%20%20%20%20%20%20%23map_dfcc342854e04903a8065acea42de1f5%20%7B%0A%20%20%20%20%20%20%20%20%20%20%20%20%20%20%20%20%20%20%20%20position%3A%20relative%3B%0A%20%20%20%20%20%20%20%20%20%20%20%20%20%20%20%20%20%20%20%20width%3A%20700.0px%3B%0A%20%20%20%20%20%20%20%20%20%20%20%20%20%20%20%20%20%20%20%20height%3A%20700.0px%3B%0A%20%20%20%20%20%20%20%20%20%20%20%20%20%20%20%20%20%20%20%20left%3A%200.0%25%3B%0A%20%20%20%20%20%20%20%20%20%20%20%20%20%20%20%20%20%20%20%20top%3A%200.0%25%3B%0A%20%20%20%20%20%20%20%20%20%20%20%20%20%20%20%20%7D%0A%20%20%20%20%20%20%20%20%20%20%20%20%3C/style%3E%0A%20%20%20%20%20%20%20%20%0A%3C/head%3E%0A%3Cbody%3E%20%20%20%20%0A%20%20%20%20%0A%20%20%20%20%20%20%20%20%20%20%20%20%3Cdiv%20class%3D%22folium-map%22%20id%3D%22map_dfcc342854e04903a8065acea42de1f5%22%20%3E%3C/div%3E%0A%20%20%20%20%20%20%20%20%0A%3C/body%3E%0A%3Cscript%3E%20%20%20%20%0A%20%20%20%20%0A%20%20%20%20%20%20%20%20%20%20%20%20var%20map_dfcc342854e04903a8065acea42de1f5%20%3D%20L.map%28%0A%20%20%20%20%20%20%20%20%20%20%20%20%20%20%20%20%22map_dfcc342854e04903a8065acea42de1f5%22%2C%0A%20%20%20%20%20%20%20%20%20%20%20%20%20%20%20%20%7B%0A%20%20%20%20%20%20%20%20%20%20%20%20%20%20%20%20%20%20%20%20center%3A%20%5B53.566864800000005%2C%209.97658541170781%5D%2C%0A%20%20%20%20%20%20%20%20%20%20%20%20%20%20%20%20%20%20%20%20crs%3A%20L.CRS.EPSG3857%2C%0A%20%20%20%20%20%20%20%20%20%20%20%20%20%20%20%20%20%20%20%20zoom%3A%2016%2C%0A%20%20%20%20%20%20%20%20%20%20%20%20%20%20%20%20%20%20%20%20zoomControl%3A%20false%2C%0A%20%20%20%20%20%20%20%20%20%20%20%20%20%20%20%20%20%20%20%20preferCanvas%3A%20false%2C%0A%20%20%20%20%20%20%20%20%20%20%20%20%20%20%20%20%7D%0A%20%20%20%20%20%20%20%20%20%20%20%20%29%3B%0A%0A%20%20%20%20%20%20%20%20%20%20%20%20%0A%0A%20%20%20%20%20%20%20%20%0A%20%20%20%20%0A%20%20%20%20%20%20%20%20%20%20%20%20var%20tile_layer_a76b6b14e7f2402dbbbf68e424cecae4%20%3D%20L.tileLayer%28%0A%20%20%20%20%20%20%20%20%20%20%20%20%20%20%20%20%22https%3A//%7Bs%7D.tile.openstreetmap.org/%7Bz%7D/%7Bx%7D/%7By%7D.png%22%2C%0A%20%20%20%20%20%20%20%20%20%20%20%20%20%20%20%20%7B%22attribution%22%3A%20%22Data%20by%20%5Cu0026copy%3B%20%5Cu003ca%20href%3D%5C%22http%3A//openstreetmap.org%5C%22%5Cu003eOpenStreetMap%5Cu003c/a%5Cu003e%2C%20under%20%5Cu003ca%20href%3D%5C%22http%3A//www.openstreetmap.org/copyright%5C%22%5Cu003eODbL%5Cu003c/a%5Cu003e.%22%2C%20%22detectRetina%22%3A%20false%2C%20%22maxNativeZoom%22%3A%2018%2C%20%22maxZoom%22%3A%2018%2C%20%22minZoom%22%3A%200%2C%20%22noWrap%22%3A%20false%2C%20%22opacity%22%3A%201%2C%20%22subdomains%22%3A%20%22abc%22%2C%20%22tms%22%3A%20false%7D%0A%20%20%20%20%20%20%20%20%20%20%20%20%29.addTo%28map_dfcc342854e04903a8065acea42de1f5%29%3B%0A%20%20%20%20%20%20%20%20%0A%20%20%20%20%0A%20%20%20%20%20%20%20%20%20%20%20%20var%20marker_5fd8fa15002d45aa8ee5b38749dc314a%20%3D%20L.marker%28%0A%20%20%20%20%20%20%20%20%20%20%20%20%20%20%20%20%5B53.566864800000005%2C%209.97658541170781%5D%2C%0A%20%20%20%20%20%20%20%20%20%20%20%20%20%20%20%20%7B%7D%0A%20%20%20%20%20%20%20%20%20%20%20%20%29.addTo%28map_dfcc342854e04903a8065acea42de1f5%29%3B%0A%20%20%20%20%20%20%20%20%0A%20%20%20%20%0A%20%20%20%20%20%20%20%20%20%20%20%20var%20icon_37cdad47be2a43e4a9e403ccdb202d56%20%3D%20L.AwesomeMarkers.icon%28%0A%20%20%20%20%20%20%20%20%20%20%20%20%20%20%20%20%7B%22extraClasses%22%3A%20%22fa-rotate-0%22%2C%20%22icon%22%3A%20%22cloud%22%2C%20%22iconColor%22%3A%20%22white%22%2C%20%22markerColor%22%3A%20%22blue%22%2C%20%22prefix%22%3A%20%22glyphicon%22%7D%0A%20%20%20%20%20%20%20%20%20%20%20%20%29%3B%0A%20%20%20%20%20%20%20%20%20%20%20%20marker_5fd8fa15002d45aa8ee5b38749dc314a.setIcon%28icon_37cdad47be2a43e4a9e403ccdb202d56%29%3B%0A%20%20%20%20%20%20%20%20%0A%20%20%20%20%0A%20%20%20%20%20%20%20%20var%20popup_f8856e8038b64a48bb83ed18c55795bf%20%3D%20L.popup%28%7B%22maxWidth%22%3A%202650%7D%29%3B%0A%0A%20%20%20%20%20%20%20%20%0A%20%20%20%20%20%20%20%20%20%20%20%20var%20i_frame_1af5bf0c9c204a70ba675fbf4cc8fd8f%20%3D%20%24%28%60%3Ciframe%20src%3D%22data%3Atext/html%3Bcharset%3Dutf-8%3Bbase64%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%3D%3D%22%20width%3D%22220%22%20style%3D%22border%3Anone%20%21important%3B%22%20height%3D%22120%22%3E%3C/iframe%3E%60%29%5B0%5D%3B%0A%20%20%20%20%20%20%20%20%20%20%20%20popup_f8856e8038b64a48bb83ed18c55795bf.setContent%28i_frame_1af5bf0c9c204a70ba675fbf4cc8fd8f%29%3B%0A%20%20%20%20%20%20%20%20%0A%0A%20%20%20%20%20%20%20%20marker_5fd8fa15002d45aa8ee5b38749dc314a.bindPopup%28popup_f8856e8038b64a48bb83ed18c55795bf%29%0A%20%20%20%20%20%20%20%20%3B%0A%0A%20%20%20%20%20%20%20%20%0A%20%20%20%20%0A%3C/script%3E onload=\"this.contentDocument.open();this.contentDocument.write(    decodeURIComponent(this.getAttribute('data-html')));this.contentDocument.close();\" \"allowfullscreen\" \"webkitallowfullscreen\" \"mozallowfullscreen\"></iframe>"
      ],
      "text/plain": [
       "<folium.folium.Map at 0x17ddfb940>"
      ]
     },
     "metadata": {},
     "output_type": "display_data"
    }
   ],
   "source": [
    "from folium import IFrame\n",
    "import base64\n",
    "\n",
    "width, height = 700, 700\n",
    "\n",
    "f = folium.Figure(width=width, height=height)\n",
    "\n",
    "dkrz_map = folium.Map(location=[dkrz_location.latitude, dkrz_location.longitude], \n",
    "                      zoom_start=16, zoom_control=False, \n",
    "                      width=width, height=height).add_to(f)\n",
    "\n",
    "png = 'DKRZ_Logo_plus_text_small.png'.format(42)\n",
    "\n",
    "encoded = base64.b64encode(open(png, 'rb').read())\n",
    "\n",
    "html = '<img src=\"data:image/png;base64,{}\">'.format\n",
    "\n",
    "iframe = IFrame(html(encoded.decode('UTF-8')), width=200+20, height=100+20)\n",
    "\n",
    "popup  = folium.Popup(iframe, max_width=2650)\n",
    "icon   = folium.Icon(color='blue', icon='cloud')\n",
    "marker = folium.Marker(location=[dkrz_location.latitude, dkrz_location.longitude], popup=popup, icon=icon)\n",
    "\n",
    "marker.add_to(dkrz_map)\n",
    "\n",
    "display(dkrz_map)"
   ]
  },
  {
   "cell_type": "markdown",
   "id": "helpful-lemon",
   "metadata": {},
   "source": [
    "<br>\n",
    "\n",
    "## Retrieve location information in a different language.\n",
    "\n",
    "<br>"
   ]
  },
  {
   "cell_type": "code",
   "execution_count": 13,
   "id": "first-certification",
   "metadata": {},
   "outputs": [
    {
     "name": "stdout",
     "output_type": "stream",
     "text": [
      "Londres, Greater London, Inglaterra, Reino Unido\n"
     ]
    }
   ],
   "source": [
    "from functools import partial\n",
    "\n",
    "geocode = partial(geolocator.geocode, language='es')\n",
    "\n",
    "print(geocode('london'))\n"
   ]
  },
  {
   "cell_type": "code",
   "execution_count": 14,
   "id": "transsexual-membership",
   "metadata": {},
   "outputs": [
    {
     "name": "stdout",
     "output_type": "stream",
     "text": [
      "Steinecke, Potsdamer Platz, Tiergarten, Mitte, Berlín, 10785, Alemania\n"
     ]
    }
   ],
   "source": [
    "reverse = partial(geolocator.reverse, language='es')\n",
    "\n",
    "print(reverse('52.509669, 13.376294'))"
   ]
  },
  {
   "cell_type": "markdown",
   "id": "outstanding-formula",
   "metadata": {},
   "source": [
    "<br>\n",
    "\n",
    "## Calculate distances\n",
    "\n",
    "<br>\n"
   ]
  },
  {
   "cell_type": "code",
   "execution_count": 15,
   "id": "rapid-sunset",
   "metadata": {},
   "outputs": [
    {
     "name": "stdout",
     "output_type": "stream",
     "text": [
      "538.3904453677204\n"
     ]
    }
   ],
   "source": [
    "from geopy import distance\n",
    "\n",
    "newport_ri = (41.49008, -71.312796)\n",
    "\n",
    "cleveland_oh = (41.499498, -81.695391)\n",
    "\n",
    "print(distance.distance(newport_ri, cleveland_oh).miles)"
   ]
  },
  {
   "cell_type": "code",
   "execution_count": 16,
   "id": "existing-animation",
   "metadata": {},
   "outputs": [
    {
     "name": "stdout",
     "output_type": "stream",
     "text": [
      "19959.67926735382\n"
     ]
    }
   ],
   "source": [
    "wellington = (-41.32, 174.81)\n",
    "\n",
    "salamanca = (40.96, -5.50)\n",
    "\n",
    "print(distance.distance(wellington, salamanca).km)"
   ]
  },
  {
   "cell_type": "markdown",
   "id": "blond-watson",
   "metadata": {},
   "source": [
    "<br>\n",
    "\n",
    "Using great circle distance\n",
    "\n",
    "<br>"
   ]
  },
  {
   "cell_type": "code",
   "execution_count": 17,
   "id": "compliant-pitch",
   "metadata": {},
   "outputs": [
    {
     "name": "stdout",
     "output_type": "stream",
     "text": [
      "864.2144943393627\n"
     ]
    }
   ],
   "source": [
    "print(distance.great_circle(newport_ri, cleveland_oh).km)"
   ]
  },
  {
   "cell_type": "markdown",
   "id": "greenhouse-environment",
   "metadata": {},
   "source": [
    "Change the ellispoid\n",
    "\n",
    "<pre>\n",
    "              model             major (km)   minor (km)     flattening\n",
    "ELLIPSOIDS = {'WGS-84':        (6378.137,    6356.7523142,  1 / 298.257223563),\n",
    "              'GRS-80':        (6378.137,    6356.7523141,  1 / 298.257222101),\n",
    "              'Airy (1830)':   (6377.563396, 6356.256909,   1 / 299.3249646),\n",
    "              'Intl 1924':     (6378.388,    6356.911946,   1 / 297.0),\n",
    "              'Clarke (1880)': (6378.249145, 6356.51486955, 1 / 293.465),\n",
    "              'GRS-67':        (6378.1600,   6356.774719,   1 / 298.25),\n",
    "              }\n",
    "<\\pre>"
   ]
  },
  {
   "cell_type": "code",
   "execution_count": 18,
   "id": "hindu-start",
   "metadata": {},
   "outputs": [
    {
     "name": "stdout",
     "output_type": "stream",
     "text": [
      "866.4554329161169\n"
     ]
    }
   ],
   "source": [
    "ne, cl = newport_ri, cleveland_oh\n",
    "\n",
    "print(distance.geodesic(ne, cl, ellipsoid='GRS-80').km)"
   ]
  },
  {
   "cell_type": "code",
   "execution_count": null,
   "id": "helpful-desire",
   "metadata": {},
   "outputs": [],
   "source": []
  },
  {
   "cell_type": "code",
   "execution_count": null,
   "id": "extensive-mexican",
   "metadata": {},
   "outputs": [],
   "source": []
  },
  {
   "cell_type": "code",
   "execution_count": null,
   "id": "seven-southwest",
   "metadata": {},
   "outputs": [],
   "source": []
  }
 ],
 "metadata": {
  "kernelspec": {
   "display_name": "Python [conda env:test_env]",
   "language": "python",
   "name": "conda-env-test_env-py"
  },
  "language_info": {
   "codemirror_mode": {
    "name": "ipython",
    "version": 3
   },
   "file_extension": ".py",
   "mimetype": "text/x-python",
   "name": "python",
   "nbconvert_exporter": "python",
   "pygments_lexer": "ipython3",
   "version": "3.9.2"
  }
 },
 "nbformat": 4,
 "nbformat_minor": 5
}
