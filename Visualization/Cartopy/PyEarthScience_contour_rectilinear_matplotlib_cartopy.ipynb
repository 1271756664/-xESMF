{
 "cells": [
  {
   "cell_type": "markdown",
   "metadata": {},
   "source": [
    "\n",
    "# PyEarthScience: Python examples for Earth Scientists\n",
    "\n",
    "## Contour plots\n",
    "\n",
    "### Using matplotlib and cartopy\n",
    "\n",
    "Contour plot with\n",
    "\n",
    "- filled contour areas\n",
    "- labelbar\n",
    "- Orthographic projection\n",
    "\n"
   ]
  },
  {
   "cell_type": "code",
   "execution_count": 1,
   "metadata": {
    "collapsed": true
   },
   "outputs": [],
   "source": [
    "import netCDF4 as nc\n",
    "import matplotlib.pyplot as plt\n",
    "import numpy as np\n",
    "import cartopy.crs as ccrs"
   ]
  },
  {
   "cell_type": "markdown",
   "metadata": {},
   "source": [
    "Show the plot inside notebook."
   ]
  },
  {
   "cell_type": "code",
   "execution_count": 2,
   "metadata": {
    "collapsed": true
   },
   "outputs": [],
   "source": [
    "%matplotlib inline"
   ]
  },
  {
   "cell_type": "markdown",
   "metadata": {},
   "source": [
    "Define function to read netCDF file."
   ]
  },
  {
   "cell_type": "code",
   "execution_count": 3,
   "metadata": {
    "collapsed": true
   },
   "outputs": [],
   "source": [
    "def read_netCDF_file():\n",
    "   \"\"\"Read netcdf file and return arrays: ``lat``,``lon``, ``var``.\"\"\"\n",
    "   \n",
    "   file_name = '/Users/k204045/NCL/general/data/new_data/rectilinear_grid_2D.nc'\n",
    "   \n",
    "   with nc.Dataset(file_name) as nco:\n",
    "       var   = nco.variables['tsurf'][0,:,:]\n",
    "       lat   = nco.variables['lat'][:]\n",
    "       lon   = nco.variables['lon'][:]\n",
    "\n",
    "   return lat, lon, var"
   ]
  },
  {
   "cell_type": "markdown",
   "metadata": {},
   "source": [
    "Define main."
   ]
  },
  {
   "cell_type": "code",
   "execution_count": 4,
   "metadata": {
    "collapsed": true
   },
   "outputs": [],
   "source": [
    "def main():\n",
    "    ax = plt.axes(projection=ccrs.Orthographic())\n",
    "\n",
    "    lat, lon, var = read_netCDF_file()\n",
    "\n",
    "    plot = ax.contourf(lon, lat, var, transform=ccrs.PlateCarree(), cmap='spectral')\n",
    "    ax.coastlines()\n",
    "    ax.set_global()\n",
    "\n",
    "    plt.colorbar(plot, orientation='horizontal')  # draw colorbar\n",
    "\n",
    "    plt.show()"
   ]
  },
  {
   "cell_type": "markdown",
   "metadata": {},
   "source": [
    "Run main."
   ]
  },
  {
   "cell_type": "code",
   "execution_count": 5,
   "metadata": {
    "collapsed": false
   },
   "outputs": [
    {
     "name": "stderr",
     "output_type": "stream",
     "text": [
      "/Users/k204045/local/miniconda2/lib/python2.7/site-packages/numpy/lib/shape_base.py:431: FutureWarning: in the future np.array_split will retain the shape of arrays with a zero size, instead of replacing them by `array([])`, which always has a shape of (0,).\n",
      "  FutureWarning)\n",
      "/Users/k204045/local/miniconda2/lib/python2.7/site-packages/matplotlib/collections.py:590: FutureWarning: elementwise comparison failed; returning scalar instead, but in the future will perform elementwise comparison\n",
      "  if self._edgecolors == str('face'):\n"
     ]
    },
    {
     "data": {
      "image/png": "[encoded data removed]",
      "text/plain": [
       "<matplotlib.figure.Figure at 0x10cdee210>"
      ]
     },
     "metadata": {},
     "output_type": "display_data"
    }
   ],
   "source": [
    "if __name__ == '__main__':\n",
    "    main()\n",
    "    "
   ]
  }
 ],
 "metadata": {
  "kernelspec": {
   "display_name": "Python 2",
   "language": "python",
   "name": "python2"
  },
  "language_info": {
   "codemirror_mode": {
    "name": "ipython",
    "version": 2
   },
   "file_extension": ".py",
   "mimetype": "text/x-python",
   "name": "python",
   "nbconvert_exporter": "python",
   "pygments_lexer": "ipython2",
   "version": "2.7.10"
  }
 },
 "nbformat": 4,
 "nbformat_minor": 0
}
