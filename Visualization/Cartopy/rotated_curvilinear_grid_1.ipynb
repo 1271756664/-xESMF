{
 "cells": [
  {
   "cell_type": "markdown",
   "metadata": {},
   "source": [
    "# Plot data on a curvilinear grid using a rotated pole\n",
    "\n",
    "In this example we show how to work with a curvilinear grid using a rotated pole (rotated grid), which is often used by regional models. In this case you have to look carefully at the dimensions, because the dimensions of the data variable seem at first sight to be defined on a regular grid, since the coordinate variables of the data variables are 1-dimensional.\n",
    "\n",
    "E.g. for a variable tas:\n",
    "\n",
    "    tas(time, rlat, rlon)\n",
    "\n",
    "But if you look at the names of the dimensions of the data variable more precisely, they usually do not depend on lat and lon or latitude and longitude, but rather rlat and rlon.\n",
    "\n",
    "    rlat(rlat)\n",
    "    rlon(rlon)\n",
    " \n",
    "With a little luck the variables lat and lon of the regular non-rotated grid are included in the file, if not, the variable rotated_pole with the attributes grid_north_pole_latitude and grid_north_pole_longitude must be included to transform the rotated to the non-rotated grid.\n",
    "\n",
    "As an example of a curvilinear grid with rotated pole we use **CORDEX EUR-11** data. With the command line program `ncdump` we can take a look at the metadata of the file contents.\n",
    "\n",
    "`ncdump -h rotated_curvilinear_data.nc`\n",
    "\n",
    "```\n",
    "netcdf rotated_curvilinear_data {\n",
    "dimensions:\n",
    "\ttime = UNLIMITED ; // (1 currently)\n",
    "\tbnds = 2 ;\n",
    "\trlon = 424 ;\n",
    "\trlat = 412 ;\n",
    "variables:\n",
    "\tdouble time(time) ;\n",
    "\t\ttime:standard_name = \"time\" ;\n",
    "\t\ttime:long_name = \"time\" ;\n",
    "\t\ttime:bounds = \"time_bnds\" ;\n",
    "\t\ttime:units = \"days since 1949-12-01 00:00:00\" ;\n",
    "\t\ttime:calendar = \"standard\" ;\n",
    "\t\ttime:axis = \"T\" ;\n",
    "\tdouble time_bnds(time, bnds) ;\n",
    "\tdouble lon(rlat, rlon) ;\n",
    "\t\tlon:standard_name = \"longitude\" ;\n",
    "\t\tlon:long_name = \"longitude\" ;\n",
    "\t\tlon:units = \"degrees_east\" ;\n",
    "\t\tlon:_CoordinateAxisType = \"Lon\" ;\n",
    "\tdouble lat(rlat, rlon) ;\n",
    "\t\tlat:standard_name = \"latitude\" ;\n",
    "\t\tlat:long_name = \"latitude\" ;\n",
    "\t\tlat:units = \"degrees_north\" ;\n",
    "\t\tlat:_CoordinateAxisType = \"Lat\" ;\n",
    "\tdouble rlon(rlon) ;\n",
    "\t\trlon:standard_name = \"grid_longitude\" ;\n",
    "\t\trlon:long_name = \"longitude in rotated pole grid\" ;\n",
    "\t\trlon:units = \"degrees\" ;\n",
    "\t\trlon:axis = \"X\" ;\n",
    "\tdouble rlat(rlat) ;\n",
    "\t\trlat:standard_name = \"grid_latitude\" ;\n",
    "\t\trlat:long_name = \"latitude in rotated pole grid\" ;\n",
    "\t\trlat:units = \"degrees\" ;\n",
    "\t\trlat:axis = \"Y\" ;\n",
    "\tint rotated_pole ;\n",
    "\t\trotated_pole:grid_mapping_name = \"rotated_latitude_longitude\" ;\n",
    "\t\trotated_pole:grid_north_pole_latitude = 39.25 ;\n",
    "\t\trotated_pole:grid_north_pole_longitude = -162. ;\n",
    "\tdouble height ;\n",
    "\t\theight:standard_name = \"height\" ;\n",
    "\t\theight:long_name = \"height\" ;\n",
    "\t\theight:units = \"m\" ;\n",
    "\t\theight:positive = \"up\" ;\n",
    "\t\theight:axis = \"Z\" ;\n",
    "\tfloat tas(time, rlat, rlon) ;\n",
    "\t\ttas:standard_name = \"air_temperature\" ;\n",
    "\t\ttas:long_name = \"Near-Surface Air Temperature\" ;\n",
    "\t\ttas:units = \"K\" ;\n",
    "\t\ttas:grid_mapping = \"rotated_pole\" ;\n",
    "\t\ttas:coordinates = \"height lat lon\" ;\n",
    "\t\ttas:_FillValue = 1.e+20f ;\n",
    "\t\ttas:missing_value = 1.e+20f ;\n",
    "\t\ttas:cell_methods = \"time: mean\" ;\n",
    "\n",
    "// global attributes:\n",
    "\t\t:Conventions = \"CF-1.4\" ;\n",
    "\t\t:project_id = \"CORDEX\" ;\n",
    "\t\t:CORDEX_domain = \"EUR-11\" ;\n",
    "}\n",
    "```\n"
   ]
  },
  {
   "cell_type": "markdown",
   "metadata": {},
   "source": [
    "### Import python modules\n",
    "\n",
    "#### Used modules\n",
    "    xarray:      read netCDF file\n",
    "    numpy:       handle data arrays\n",
    "    matplotlib:  create the plot\n",
    "    cartopy:     use projection RotatedPole"
   ]
  },
  {
   "cell_type": "code",
   "execution_count": 1,
   "metadata": {},
   "outputs": [],
   "source": [
    "import xarray as xr\n",
    "import numpy as np\n",
    "import os, sys\n",
    "import matplotlib.pyplot as plt\n",
    "import cartopy\n",
    "import cartopy.crs as ccrs"
   ]
  },
  {
   "cell_type": "markdown",
   "metadata": {},
   "source": [
    "### Allow to display the output of plotting commands in notebook"
   ]
  },
  {
   "cell_type": "code",
   "execution_count": 2,
   "metadata": {},
   "outputs": [],
   "source": [
    "%matplotlib inline"
   ]
  },
  {
   "cell_type": "markdown",
   "metadata": {},
   "source": [
    "### Function read_data\n",
    "\n",
    "The function read_data opens the data file, read the variable data, and return relevant variables to the main function.\n",
    "\n",
    "- open and decode a dataset from the netCDF file\n",
    "- select variable tas, first time step\n",
    "- select coordinate variables rlat and rlon of the rotated grid\n",
    "- select rotated_pole variable to get the used pole coordinates"
   ]
  },
  {
   "cell_type": "code",
   "execution_count": 3,
   "metadata": {},
   "outputs": [],
   "source": [
    "def read_data(file_name):\n",
    "    \"\"\"\n",
    "    Read netcdf file and return variables: \n",
    "        rlat, rlon, var, px and py.\n",
    "    \"\"\"\n",
    "    # read the dataset\n",
    "    ds = xr.open_dataset(file_name)\n",
    "    \n",
    "    # retrieve the data of variable tas, coordinate variables rlat and rlon, and rotated pole\n",
    "    var  = ds.tas[0,:,:]\n",
    "    rlat = ds.rlat[:]\n",
    "    rlon = ds.rlon[:]\n",
    "    pole = ds.rotated_pole\n",
    "    \n",
    "    try:\n",
    "        # retrieve attribute grid_north_pole_longitude\n",
    "        if hasattr(pole,'grid_north_pole_longitude'):\n",
    "            px = pole.attrs['grid_north_pole_longitude']\n",
    "        \n",
    "        # retrieve attribute grid_north_pole_latitude\n",
    "        if hasattr(pole,'grid_north_pole_latitude'):\n",
    "            py = pole.attrs['grid_north_pole_latitude']\n",
    "    except:\n",
    "        print('Unexpected error:', sys.exc_info()[0])\n",
    "        raise\n",
    "        \n",
    "    return rlon, rlat, var, px, py"
   ]
  },
  {
   "cell_type": "markdown",
   "metadata": {},
   "source": [
    "### Function main\n",
    "Create the contour fill plot of variable tas. The cartopy projection RotatedPole is used to draw the data above the original region of Europe. Save the plot output to a PNG file."
   ]
  },
  {
   "cell_type": "code",
   "execution_count": 4,
   "metadata": {},
   "outputs": [],
   "source": [
    "def main():\n",
    "    \"\"\"\n",
    "    Draw variable tas on map using the RotatedPole projection.\n",
    "    The coordinate variables rlat and rlon are required.\n",
    "    \"\"\"\n",
    "    dir_name = 'data/'\n",
    "    file_name = 'rotated_curvilinear_data.nc'\n",
    "    fname = os.path.join(dir_name,file_name)\n",
    "    \n",
    "    # read file content and return relevant variables\n",
    "    rlon, rlat, var, pole_lon, pole_lat = read_data(fname)\n",
    "    \n",
    "    # initialize plot\n",
    "    ax = plt.axes(projection=ccrs.PlateCarree())\n",
    "    ax.set_extent([-46, 70, 20, 75], crs=ccrs.PlateCarree())\n",
    "    \n",
    "    # set fill colors for ocean and land areas\n",
    "    ax.add_feature(cartopy.feature.OCEAN, color='white', zorder=0)\n",
    "    ax.add_feature(cartopy.feature.LAND, color='lightgray',zorder=0, \n",
    "                   linewidth=0.5, edgecolor='black')\n",
    "    \n",
    "    # add gridlines\n",
    "    ax.gridlines(draw_labels=True, linewidth=0.5, color='gray', xlocs=range(-180,180,15), ylocs=range(-90,90,15))\n",
    "    \n",
    "    # add coastlines\n",
    "    ax.coastlines(resolution='50m', linewidth=0.3, color='black')\n",
    "    \n",
    "    # add title\n",
    "    ax.set_title('Python: rotated curvilinear grid', fontsize=10, fontweight='bold')\n",
    "\n",
    "    # set projection\n",
    "    crs = ccrs.RotatedPole(pole_longitude=pole_lon, pole_latitude=pole_lat)\n",
    "    \n",
    "    # contour fill plot\n",
    "    ax.contourf(rlon, rlat, var, levels=15, cmap='RdYlBu_r', transform=crs)\n",
    "\n",
    "    # save the plot output to PNG file (and display it in notebook if '%matplotlib inline' is set)\n",
    "    plt.savefig('Py_rotated_curvilinear_grid_1.png', bbox_inches='tight', dpi=200)"
   ]
  },
  {
   "cell_type": "markdown",
   "metadata": {},
   "source": [
    "### Run main\n",
    "\n",
    "And here we go ..."
   ]
  },
  {
   "cell_type": "code",
   "execution_count": 5,
   "metadata": {},
   "outputs": [
    {
     "data": {
      "image/png": "[encoded data removed]",
      "text/plain": [
       "<Figure size 432x288 with 1 Axes>"
      ]
     },
     "metadata": {
      "needs_background": "light"
     },
     "output_type": "display_data"
    }
   ],
   "source": [
    "if __name__ == '__main__':\n",
    "    main()"
   ]
  }
 ],
 "metadata": {
  "kernelspec": {
   "display_name": "Python 3",
   "language": "python",
   "name": "python3"
  },
  "language_info": {
   "codemirror_mode": {
    "name": "ipython",
    "version": 3
   },
   "file_extension": ".py",
   "mimetype": "text/x-python",
   "name": "python",
   "nbconvert_exporter": "python",
   "pygments_lexer": "ipython3",
   "version": "3.8.3"
  }
 },
 "nbformat": 4,
 "nbformat_minor": 4
}
