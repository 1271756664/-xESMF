{
 "cells": [
  {
   "cell_type": "markdown",
   "metadata": {},
   "source": [
    "# Convert a CSV data to netCDF\n",
    "\n",
    "Read the CSV file, generate the gridfile from the CSV lon and lat data, \n",
    "write data to file. Then use cdo to write the data to an netCDF file.\n",
    "\n",
    "- read the ASCII file\n",
    "- generate the gridfile\n",
    "- write netcdf file\n",
    "\n",
    "Input ```data data/1901_1.csv```: \n",
    "  \n",
    "&ensp; &ensp; data is on a grid where the rows are longitudes and columns are latitudes\n",
    "\n",
    "Output file: ```1901_1.nc```\n",
    "\n",
    "</br></br>\n"
   ]
  },
  {
   "cell_type": "code",
   "execution_count": 1,
   "metadata": {},
   "outputs": [],
   "source": [
    "import numpy as np\n",
    "from cdo import *\n",
    "import csv"
   ]
  },
  {
   "cell_type": "markdown",
   "metadata": {},
   "source": [
    "For the sake of simplicity"
   ]
  },
  {
   "cell_type": "code",
   "execution_count": 2,
   "metadata": {},
   "outputs": [],
   "source": [
    "cdo = Cdo()"
   ]
  },
  {
   "cell_type": "markdown",
   "metadata": {},
   "source": [
    "Read Ascii data"
   ]
  },
  {
   "cell_type": "code",
   "execution_count": 3,
   "metadata": {},
   "outputs": [],
   "source": [
    "ascii_data = np.genfromtxt('data/1901_1.csv', dtype=None, delimiter=',')"
   ]
  },
  {
   "cell_type": "markdown",
   "metadata": {},
   "source": [
    "Get number of lines and columns"
   ]
  },
  {
   "cell_type": "code",
   "execution_count": 4,
   "metadata": {},
   "outputs": [],
   "source": [
    "nlines = ascii_data.shape[0]\n",
    "ncols = ascii_data.shape[1]"
   ]
  },
  {
   "cell_type": "markdown",
   "metadata": {},
   "source": [
    "Print some information"
   ]
  },
  {
   "cell_type": "code",
   "execution_count": 9,
   "metadata": {},
   "outputs": [
    {
     "name": "stdout",
     "output_type": "stream",
     "text": [
      "--> data shape        = (720,360) \n",
      "--> number of lines   = 720 \n",
      "--> number of columns = 360 \n"
     ]
    }
   ],
   "source": [
    "print('--> data shape        = (%d,%d) ' % ascii_data.shape)\n",
    "print('--> number of lines   = %d ' % nlines)\n",
    "print('--> number of columns = %d ' % ncols)"
   ]
  },
  {
   "cell_type": "markdown",
   "metadata": {},
   "source": [
    "The data is in the wrong shape (columns x lines).\n",
    "The rows and columns must be swapped (lines x columns). "
   ]
  },
  {
   "cell_type": "code",
   "execution_count": 10,
   "metadata": {},
   "outputs": [],
   "source": [
    "data = ascii_data.T\n",
    "nlat = data.shape[0]\n",
    "nlon = data.shape[1]"
   ]
  },
  {
   "cell_type": "markdown",
   "metadata": {},
   "source": [
    "Print the information about the transposed data"
   ]
  },
  {
   "cell_type": "code",
   "execution_count": 13,
   "metadata": {},
   "outputs": [
    {
     "name": "stdout",
     "output_type": "stream",
     "text": [
      "\n",
      "Correct shape of data!\n",
      "\n",
      "--> data shape      = (360,720) \n",
      "--> number of lat   = 360 \n",
      "--> number of lon   = 720 \n"
     ]
    }
   ],
   "source": [
    "print('\\nCorrect shape of data!\\n')\n",
    "print('--> data shape      = (%d,%d) ' % data.shape)\n",
    "print('--> number of lat   = %d ' % nlat)\n",
    "print('--> number of lon   = %d ' % nlon)"
   ]
  },
  {
   "cell_type": "markdown",
   "metadata": {},
   "source": [
    "Set variable name"
   ]
  },
  {
   "cell_type": "code",
   "execution_count": 14,
   "metadata": {},
   "outputs": [],
   "source": [
    "varname = 't'"
   ]
  },
  {
   "cell_type": "markdown",
   "metadata": {},
   "source": [
    "Set missing value"
   ]
  },
  {
   "cell_type": "code",
   "execution_count": 15,
   "metadata": {},
   "outputs": [],
   "source": [
    "missing = 1e20"
   ]
  },
  {
   "cell_type": "markdown",
   "metadata": {},
   "source": [
    "Set time and reference time"
   ]
  },
  {
   "cell_type": "code",
   "execution_count": 16,
   "metadata": {},
   "outputs": [],
   "source": [
    "reftime = '1900-01-01,00:00:00,1day'\n",
    "time = '1901-01-01,12:00:00,1day'"
   ]
  },
  {
   "cell_type": "markdown",
   "metadata": {},
   "source": [
    "Set NaN to missing value"
   ]
  },
  {
   "cell_type": "code",
   "execution_count": 17,
   "metadata": {},
   "outputs": [],
   "source": [
    "data = np.nan_to_num(data, nan=missing)"
   ]
  },
  {
   "cell_type": "markdown",
   "metadata": {},
   "source": [
    "Write data array to file data/var.txt"
   ]
  },
  {
   "cell_type": "code",
   "execution_count": 18,
   "metadata": {},
   "outputs": [],
   "source": [
    "np.savetxt('data/var.txt', data, delimiter=', ', fmt='%1.2e') "
   ]
  },
  {
   "cell_type": "markdown",
   "metadata": {},
   "source": [
    "Write grid description file."
   ]
  },
  {
   "cell_type": "code",
   "execution_count": 19,
   "metadata": {},
   "outputs": [],
   "source": [
    "f = open('data/gridfile_ascii.txt', 'w')\n",
    "f.write('gridtype  = lonlat'+'\\n')\n",
    "f = open('data/gridfile_ascii.txt', 'a')\n",
    "f.write('gridsize  = '+str(nlines*ncols)+'\\n')\n",
    "f.write('xsize     = ' + str(nlon)+'\\n')\n",
    "f.write('ysize     = ' + str(nlat)+'\\n')\n",
    "f.write('xname     = lon'+'\\n')\n",
    "f.write('xlongname = longitude'+'\\n')\n",
    "f.write('xunits    = degrees_east'+'\\n')\n",
    "f.write('xfirst    = -179.75'+'\\n')\n",
    "f.write('xinc      = 0.5'+'\\n')\n",
    "f.write('yname     = lat'+'\\n')\n",
    "f.write('ylongname = latitude'+'\\n')\n",
    "f.write('yunits    = degrees_north'+'\\n')\n",
    "f.write('yfirst    = -89.75'+'\\n')\n",
    "f.write('yinc      = 0.5'+'\\n')\n",
    "f.close()"
   ]
  },
  {
   "cell_type": "markdown",
   "metadata": {},
   "source": [
    "CDO command:\n",
    "- read the ASCII data\n",
    "- set variable name\n",
    "- set the calendar, time and reference time\n",
    "- set the missing value\n",
    "- convert to netCDF file format"
   ]
  },
  {
   "cell_type": "code",
   "execution_count": 20,
   "metadata": {},
   "outputs": [
    {
     "data": {
      "text/plain": [
       "'tmp.nc'"
      ]
     },
     "execution_count": 20,
     "metadata": {},
     "output_type": "execute_result"
    }
   ],
   "source": [
    "cdo.settaxis(\n",
    "        time, input='-setreftime,1900-01-01,00:00:00,1day '+ \\\n",
    "        '-setcalendar,standard '+ \\\n",
    "        '-setmissval,'+str(missing)+ \\\n",
    "        ' -setname,'+varname+ \\\n",
    "        ' -input,data/gridfile_ascii.txt < data/var.txt',\n",
    "        output='tmp.nc', \n",
    "        options = '-f nc')"
   ]
  },
  {
   "cell_type": "markdown",
   "metadata": {},
   "source": [
    "CDO command:\n",
    "- add variable attributes long_name and units\n",
    "- add global attribute source"
   ]
  },
  {
   "cell_type": "code",
   "execution_count": 21,
   "metadata": {},
   "outputs": [
    {
     "data": {
      "text/plain": [
       "'1901_1.nc'"
      ]
     },
     "execution_count": 21,
     "metadata": {},
     "output_type": "execute_result"
    }
   ],
   "source": [
    "cdo.setattribute(\n",
    "        varname+'@long_name=\"monthly mean temperature\",'+\\\n",
    "        varname+'@units=\"deg C\",'+ \\\n",
    "        'source=\"CRU\"',\n",
    "        input='tmp.nc', \n",
    "        output='1901_1.nc')"
   ]
  },
  {
   "cell_type": "code",
   "execution_count": null,
   "metadata": {},
   "outputs": [],
   "source": []
  }
 ],
 "metadata": {
  "kernelspec": {
   "display_name": "Python 3",
   "language": "python",
   "name": "python3"
  },
  "language_info": {
   "codemirror_mode": {
    "name": "ipython",
    "version": 3
   },
   "file_extension": ".py",
   "mimetype": "text/x-python",
   "name": "python",
   "nbconvert_exporter": "python",
   "pygments_lexer": "ipython3",
   "version": "3.8.3"
  }
 },
 "nbformat": 4,
 "nbformat_minor": 4
}
