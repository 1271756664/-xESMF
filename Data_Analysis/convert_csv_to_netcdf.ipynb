{
 "cells": [
  {
   "cell_type": "markdown",
   "metadata": {},
   "source": [
    "# Convert a CSV data file to netCDF file\n",
    "\n",
    "   - read the CSV file\n",
    "   - generate the gridfile from the CSV lon and lat values\n",
    "   - write data to file\n",
    "   - write netcdf file\n",
    "\n",
    "Input data\n",
    "```data/input.csv:```\n",
    "```\n",
    "lon, lat, value\n",
    "5.0, 40.0, 1000\n",
    "5.0, 41.0, 1000\n",
    "5.0, 42.0, 1200\n",
    "5.0, 44.0, 1600\n",
    "5.5, 40.0, 1000\n",
    "5.5, 41.0, 1000\n",
    "5.5, 42.0, 1200\n",
    "5.5, 44.0, 1600\n",
    "6.0, 40.0, 1300\n",
    "6.0, 42.0, 1700\n",
    "6.0, 44.0, 1900\n",
    "6.0, 45.0, 2000\n",
    "...\n",
    "```\n",
    "\n",
    "Output file\n",
    "```input.nc```\n",
    "\n",
    "</br></br>"
   ]
  },
  {
   "cell_type": "code",
   "execution_count": 14,
   "metadata": {},
   "outputs": [],
   "source": [
    "import numpy as np\n",
    "from cdo import *"
   ]
  },
  {
   "cell_type": "markdown",
   "metadata": {},
   "source": [
    "For the sake of simplicity"
   ]
  },
  {
   "cell_type": "code",
   "execution_count": 15,
   "metadata": {},
   "outputs": [],
   "source": [
    "cdo = Cdo()"
   ]
  },
  {
   "cell_type": "markdown",
   "metadata": {},
   "source": [
    "Read the CSV data"
   ]
  },
  {
   "cell_type": "code",
   "execution_count": 16,
   "metadata": {},
   "outputs": [],
   "source": [
    "csv_data = np.genfromtxt('data/input.csv', usecols=(0, 1, 2), skip_header=1, \n",
    "                          dtype=None, delimiter=',')"
   ]
  },
  {
   "cell_type": "markdown",
   "metadata": {},
   "source": [
    "Get the longitude, latitude and data values of the data columns"
   ]
  },
  {
   "cell_type": "code",
   "execution_count": 17,
   "metadata": {},
   "outputs": [],
   "source": [
    "lon = list(map(float, csv_data['f0']))\n",
    "lat = list(map(float, csv_data['f1']))\n",
    "values = list(map(float, csv_data['f2']))"
   ]
  },
  {
   "cell_type": "markdown",
   "metadata": {},
   "source": [
    "Get size of the coordinates"
   ]
  },
  {
   "cell_type": "code",
   "execution_count": 18,
   "metadata": {},
   "outputs": [],
   "source": [
    "nlon = len(lon)\n",
    "nlat = len(lat)\n",
    "nlines = nlon"
   ]
  },
  {
   "cell_type": "markdown",
   "metadata": {},
   "source": [
    "Print some information"
   ]
  },
  {
   "cell_type": "code",
   "execution_count": 19,
   "metadata": {},
   "outputs": [
    {
     "name": "stdout",
     "output_type": "stream",
     "text": [
      "--> longitudes:    [5.0, 5.0, 5.0, 5.0, 5.5, 5.5, 5.5, 5.5, 6.0, 6.0, 6.0, 6.0, 6.5, 6.5, 6.5, 6.5, 7.0, 7.0, 7.0, 7.0, 7.0, 7.5, 7.5, 7.5, 7.5, 7.5, 8.0, 8.0, 8.0, 8.0, 8.5, 8.5, 8.5, 8.5]\n",
      "--> # longitudes: 34\n",
      "--> latitudes:     [40.0, 41.0, 42.0, 44.0, 40.0, 41.0, 42.0, 44.0, 40.0, 42.0, 44.0, 45.0, 40.0, 42.0, 44.0, 45.0, 40.0, 41.0, 42.0, 43.0, 44.0, 40.0, 41.0, 42.0, 43.0, 44.0, 40.0, 41.0, 42.0, 43.0, 40.0, 41.0, 42.0, 43.0]\n",
      "--> # latitudes:  34\n",
      "--> values:        [1000.0, 1000.0, 1200.0, 1600.0, 1000.0, 1000.0, 1200.0, 1600.0, 1300.0, 1700.0, 1900.0, 2000.0, 1300.0, 1700.0, 1900.0, 2000.0, 1500.0, 1200.0, 1300.0, 1000.0, 1000.0, 1500.0, 1200.0, 1300.0, 1000.0, 1000.0, 1000.0, 1000.0, 1200.0, 1600.0, 1000.0, 1000.0, 1200.0, 1600.0]\n"
     ]
    }
   ],
   "source": [
    "print('--> longitudes:   ', lon)\n",
    "print('--> # longitudes: %d' % nlon)\n",
    "print('--> latitudes:    ', lat)\n",
    "print('--> # latitudes:  %d' % nlat)\n",
    "print('--> values:       ', values)"
   ]
  },
  {
   "cell_type": "markdown",
   "metadata": {},
   "source": [
    "Set variable name"
   ]
  },
  {
   "cell_type": "code",
   "execution_count": 20,
   "metadata": {},
   "outputs": [],
   "source": [
    "varname = 'var'"
   ]
  },
  {
   "cell_type": "markdown",
   "metadata": {},
   "source": [
    "Set time and reference time"
   ]
  },
  {
   "cell_type": "code",
   "execution_count": 21,
   "metadata": {},
   "outputs": [],
   "source": [
    "time = '1950-01-01,12:00:00,1day'"
   ]
  },
  {
   "cell_type": "markdown",
   "metadata": {},
   "source": [
    "Write value array to file data/var.txt"
   ]
  },
  {
   "cell_type": "code",
   "execution_count": 22,
   "metadata": {},
   "outputs": [],
   "source": [
    "fv = open('data/var.txt', 'w')\n",
    "[fv.write(str(s)+'\\n') for s in values]\n",
    "fv.close()"
   ]
  },
  {
   "cell_type": "markdown",
   "metadata": {},
   "source": [
    "Write grid description file"
   ]
  },
  {
   "cell_type": "code",
   "execution_count": 23,
   "metadata": {},
   "outputs": [],
   "source": [
    "f = open('data/gridfile.txt', 'w')\n",
    "f.write('gridtype  = unstructured'+'\\n')\n",
    "f = open('data/gridfile.txt', 'a')\n",
    "f.write('gridsize  = '+str(nlines)+'\\n')\n",
    "f.write('xname     = lon'+'\\n')\n",
    "f.write('xlongname = longitude'+'\\n')\n",
    "f.write('xunits    = degrees_east'+'\\n')\n",
    "f.write('yname     = lat'+'\\n')\n",
    "f.write('ylongname = latitude'+'\\n')\n",
    "f.write('yunits    = degrees_north'+'\\n')\n",
    "f.write('xsize     = ' + str(nlon)+'\\n')\n",
    "f.write('ysize     = ' + str(nlat)+'\\n')\n",
    "f.write('xvals     = ' + ', '.join(str(x) for x in tuple(lon))+'\\n')\n",
    "f.write('yvals     = ' + ', '.join(str(x) for x in tuple(lat))+'\\n')\n",
    "f.close()"
   ]
  },
  {
   "cell_type": "markdown",
   "metadata": {},
   "source": [
    "CDO command"
   ]
  },
  {
   "cell_type": "code",
   "execution_count": 24,
   "metadata": {},
   "outputs": [
    {
     "data": {
      "text/plain": [
       "'input.nc'"
      ]
     },
     "execution_count": 24,
     "metadata": {},
     "output_type": "execute_result"
    }
   ],
   "source": [
    "cdo.settaxis(\n",
    "        time, \n",
    "        input='-setname,'+varname+ \\\n",
    "        ' -input,data/gridfile.txt < data/var.txt',\n",
    "        output='input.nc',\n",
    "        options = '-f nc')"
   ]
  }
 ],
 "metadata": {
  "kernelspec": {
   "display_name": "Python 3",
   "language": "python",
   "name": "python3"
  },
  "language_info": {
   "codemirror_mode": {
    "name": "ipython",
    "version": 3
   },
   "file_extension": ".py",
   "mimetype": "text/x-python",
   "name": "python",
   "nbconvert_exporter": "python",
   "pygments_lexer": "ipython3",
   "version": "3.8.3"
  }
 },
 "nbformat": 4,
 "nbformat_minor": 4
}
