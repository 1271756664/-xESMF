{
 "cells": [
  {
   "cell_type": "markdown",
   "metadata": {},
   "source": [
    "# Data Analysis with CDO\n",
    "\n",
    "CDO User Guide https://code.mpimet.mpg.de/projects/cdo/embedded/cdo.pdf\n",
    "\n",
    "\n",
    "### Table of contents\n",
    "1. About CDO\n",
    "1. Import CDO module\n",
    "1. Show CDO version\n",
    "1. List CDO operators\n",
    "1. List all operators starting with 'sel'\n",
    "1. Show information about an operator\n",
    "1. Turn debugging on\n",
    "1. Show information about file content\n",
    "1. Copy file\n",
    "1. Select variables\n",
    "1. Select timesteps\n",
    "1. Select a sub-region\n",
    "1. \n",
    "1. \n",
    "\n",
    "\n"
   ]
  },
  {
   "cell_type": "markdown",
   "metadata": {},
   "source": [
    "## About CDO\n",
    "\n",
    "See also https://code.mpimet.mpg.de/projects/cdo/wiki\n",
    "\n",
    "CDO is a large tool set for working on climate and NWP model data. NetCDF 3/4, GRIB 1/2 including SZIP (or AEC) and JPEG compression, EXTRA, SERVICE and IEG are supported as IO-formats. Apart from that CDO can be used to analyse any kind of gridded data not related to climate science. CDO has very small memory requirements and can process files larger than the physical memory.\n",
    "\n",
    "CDO is open source and released under the terms of the GNU General Public License v2 (GPL)."
   ]
  },
  {
   "cell_type": "markdown",
   "metadata": {},
   "source": [
    "## Import CDO module\n",
    "\n",
    "Import the CDO module and set cdo to Cdo() which makes writing a little easier."
   ]
  },
  {
   "cell_type": "code",
   "execution_count": 1,
   "metadata": {},
   "outputs": [],
   "source": [
    "from cdo import *\n",
    "\n",
    "cdo = Cdo()"
   ]
  },
  {
   "cell_type": "markdown",
   "metadata": {},
   "source": [
    "## Show CDO version\n",
    "\n",
    "python-cdo version:"
   ]
  },
  {
   "cell_type": "code",
   "execution_count": 2,
   "metadata": {},
   "outputs": [
    {
     "name": "stdout",
     "output_type": "stream",
     "text": [
      "1.5.3rc1\n"
     ]
    }
   ],
   "source": [
    "print(cdo.__version__())\n"
   ]
  },
  {
   "cell_type": "markdown",
   "metadata": {},
   "source": [
    "Based on CDO version:"
   ]
  },
  {
   "cell_type": "code",
   "execution_count": 3,
   "metadata": {},
   "outputs": [
    {
     "name": "stdout",
     "output_type": "stream",
     "text": [
      "1.9.8\n"
     ]
    }
   ],
   "source": [
    "print(cdo.version())"
   ]
  },
  {
   "cell_type": "markdown",
   "metadata": {},
   "source": [
    "## Set temporary directory\n",
    "\n",
    "Set another directory for storing tempfiles with a constructor option and remove anything left in there when you experienced a crash or something like this"
   ]
  },
  {
   "cell_type": "code",
   "execution_count": 4,
   "metadata": {},
   "outputs": [],
   "source": [
    "tempPath = './tmp/'\n",
    "cdo = Cdo(tempdir=tempPath)"
   ]
  },
  {
   "cell_type": "markdown",
   "metadata": {},
   "source": [
    "## Delete temporary files"
   ]
  },
  {
   "cell_type": "code",
   "execution_count": 5,
   "metadata": {},
   "outputs": [],
   "source": [
    "cdo.cleanTempDir()"
   ]
  },
  {
   "cell_type": "markdown",
   "metadata": {},
   "source": [
    "## List CDO operators\n",
    "\n",
    "More than 800 operators are available."
   ]
  },
  {
   "cell_type": "code",
   "execution_count": 6,
   "metadata": {},
   "outputs": [
    {
     "name": "stdout",
     "output_type": "stream",
     "text": [
      "838\n"
     ]
    }
   ],
   "source": [
    "print(len(dict(list(cdo.operators.items()))))"
   ]
  },
  {
   "cell_type": "markdown",
   "metadata": {},
   "source": [
    "To get the first 50 operators you can do"
   ]
  },
  {
   "cell_type": "code",
   "execution_count": 7,
   "metadata": {},
   "outputs": [
    {
     "name": "stdout",
     "output_type": "stream",
     "text": [
      "{'abs': 1, 'acos': 1, 'add': 1, 'addc': 1, 'adipot': 1, 'adisit': 1, 'aexpr': 1, 'aexprf': 1, 'after': 1, 'afterburner': 1, 'anomaly': 1, 'ap2hl': 1, 'ap2hlx': 1, 'ap2pl': 1, 'ap2pl_lp': 1, 'ap2plx': 1, 'ap2plx_lp': 1, 'arg': 1, 'asin': 1, 'atan': 1, 'atan2': 1, 'bandpass': 1, 'boxavg': 1, 'cat': 1, 'cdiread': 0, 'cdiwrite': 1, 'changemulti': 1, 'chcode': 1, 'chlevel': 1, 'chlevelc': 1, 'chlevelv': 1, 'chltype': 1, 'chname': 1, 'chparam': 1, 'chtabnum': 1, 'chunit': 1, 'chvar': 1, 'cloudlayer': 1, 'cmor': 0, 'cmorlite': 1, 'codetab': 0, 'collgrid': 1, 'complextopol': 2, 'complextorect': 2, 'conj': 1, 'consecsum': 1, 'consects': 1, 'const': 1, 'contour': 1, 'conv_cmor_table': 0}\n"
     ]
    }
   ],
   "source": [
    "print(dict(list(cdo.operators.items())[0:50]))"
   ]
  },
  {
   "cell_type": "markdown",
   "metadata": {},
   "source": [
    "## List all operators starting with 'sel'\n",
    "\n",
    "Use list comprehension\n"
   ]
  },
  {
   "cell_type": "code",
   "execution_count": 8,
   "metadata": {},
   "outputs": [
    {
     "data": {
      "text/plain": [
       "['selall',\n",
       " 'selcode',\n",
       " 'seldate',\n",
       " 'selday',\n",
       " 'select',\n",
       " 'selgrid',\n",
       " 'selgridcell',\n",
       " 'selgridname',\n",
       " 'selhour',\n",
       " 'selindex',\n",
       " 'selindexbox',\n",
       " 'sellevel',\n",
       " 'sellevidx',\n",
       " 'sellonlatbox',\n",
       " 'selltype',\n",
       " 'selmon',\n",
       " 'selmonth',\n",
       " 'selmulti',\n",
       " 'selname',\n",
       " 'seloperator',\n",
       " 'selparam',\n",
       " 'selrec',\n",
       " 'selseas',\n",
       " 'selseason',\n",
       " 'selsmon',\n",
       " 'selstdname',\n",
       " 'seltabnum',\n",
       " 'seltime',\n",
       " 'seltimeidx',\n",
       " 'seltimestep',\n",
       " 'selvar',\n",
       " 'selyear',\n",
       " 'selyearidx',\n",
       " 'selzaxis',\n",
       " 'selzaxisname']"
      ]
     },
     "execution_count": 8,
     "metadata": {},
     "output_type": "execute_result"
    }
   ],
   "source": [
    "[key for key, value in cdo.operators.items() if key.startswith('sel')]"
   ]
  },
  {
   "cell_type": "markdown",
   "metadata": {},
   "source": [
    "## Show information about an operator"
   ]
  },
  {
   "cell_type": "code",
   "execution_count": 9,
   "metadata": {},
   "outputs": [
    {
     "name": "stdout",
     "output_type": "stream",
     "text": [
      "Help on method get in module cdo:\n",
      "\n",
      "get(*args, **kwargs) method of cdo.Cdo instance\n",
      "    NAME\n",
      "        selparam, delparam, selcode, delcode, selname, delname, selstdname, sellevel, \n",
      "        sellevidx, selgrid, selzaxis, selzaxisname, selltype, seltabnum - Select fields\n",
      "    \n",
      "    SYNOPSIS\n",
      "        <operator>,params  infile outfile\n",
      "        selcode,codes  infile outfile\n",
      "        delcode,codes  infile outfile\n",
      "        selname,names  infile outfile\n",
      "        delname,names  infile outfile\n",
      "        selstdname,stdnames  infile outfile\n",
      "        sellevel,levels  infile outfile\n",
      "        sellevidx,levidx  infile outfile\n",
      "        selgrid,grids  infile outfile\n",
      "        selzaxis,zaxes  infile outfile\n",
      "        selzaxisname,zaxisnames  infile outfile\n",
      "        selltype,ltypes  infile outfile\n",
      "        seltabnum,tabnums  infile outfile\n",
      "    \n",
      "    DESCRIPTION\n",
      "        This module selects some fields from infile and writes them to outfile.\n",
      "        The fields selected depends on the chosen operator and the parameters. A range of integer\n",
      "        values can be specified by first/last[/inc].\n",
      "    \n",
      "    OPERATORS\n",
      "        selparam      Select parameters by identifier\n",
      "                      Selects all fields with parameter identifiers in a user given list.\n",
      "        delparam      Delete parameters by identifier\n",
      "                      Deletes all fields with parameter identifiers in a user given list.\n",
      "        selcode       Select parameters by code number\n",
      "                      Selects all fields with code numbers in a user given list or range.\n",
      "        delcode       Delete parameters by code number\n",
      "                      Deletes all fields with code numbers in a user given list or range.\n",
      "        selname       Select parameters by name\n",
      "                      Selects all fields with parameter names in a user given list.\n",
      "        delname       Delete parameters by name\n",
      "                      Deletes all fields with parameter names in a user given list.\n",
      "        selstdname    Select parameters by standard name\n",
      "                      Selects all fields with standard names in a user given list.\n",
      "        sellevel      Select levels\n",
      "                      Selects all fields with levels in a user given list.\n",
      "        sellevidx     Select levels by index\n",
      "                      Selects all fields with index of levels in a user given list or range.\n",
      "        selgrid       Select grids\n",
      "                      Selects all fields with grids in a user given list.\n",
      "        selzaxis      Select z-axes\n",
      "                      Selects all fields with z-axes in a user given list.\n",
      "        selzaxisname  Select z-axes by name\n",
      "                      Selects all fields with z-axis names in a user given list.\n",
      "        selltype      Select GRIB level types\n",
      "                      Selects all fields with GRIB level type in a user given list or range.\n",
      "        seltabnum     Select parameter table numbers\n",
      "                      Selects all fields with parameter table numbers in a user given list or range.\n",
      "    \n",
      "    PARAMETER\n",
      "        params      STRING   Comma-separated list of parameter identifiers.\n",
      "        codes       INTEGER  Comma-separated list or first/last[/inc] range of code numbers.\n",
      "        names       STRING   Comma-separated list of variable names.\n",
      "        stdnames    STRING   Comma-separated list of standard names.\n",
      "        levels      FLOAT    Comma-separated list of vertical levels.\n",
      "        levidx      INTEGER  Comma-separated list or first/last[/inc] range of index of levels.\n",
      "        ltypes      INTEGER  Comma-separated list or first/last[/inc] range of GRIB level types.\n",
      "        grids       STRING   Comma-separated list of grid names or numbers.\n",
      "        zaxes       STRING   Comma-separated list of z-axis types or numbers.\n",
      "        zaxisnames  STRING   Comma-separated list of z-axis names.\n",
      "        tabnums     INTEGER  Comma-separated list or range of parameter table numbers.\n",
      "\n"
     ]
    }
   ],
   "source": [
    "help(cdo.selname)"
   ]
  },
  {
   "cell_type": "markdown",
   "metadata": {},
   "source": [
    "## Turn debugging on"
   ]
  },
  {
   "cell_type": "code",
   "execution_count": 10,
   "metadata": {},
   "outputs": [],
   "source": [
    "cdo.debug = True"
   ]
  },
  {
   "cell_type": "markdown",
   "metadata": {},
   "source": [
    "## Show information about file content"
   ]
  },
  {
   "cell_type": "code",
   "execution_count": 11,
   "metadata": {},
   "outputs": [
    {
     "name": "stdout",
     "output_type": "stream",
     "text": [
      "Found method:sinfon\n",
      "# DEBUG - start =============================================================\n",
      "CALL  :cdo -O -sinfon data/rectilinear_grid_2D.nc\n",
      "STDOUT:\n",
      "   File format : NetCDF\n",
      "    -1 : Institut Source   T Steptype Levels Num    Points Num Dtype : Parameter name\n",
      "     1 : unknown  unknown  v instant       1   1     18432   1  F32  : tsurf         \n",
      "     2 : unknown  unknown  v instant       1   1     18432   1  F32  : precip        \n",
      "     3 : unknown  unknown  v instant       1   1     18432   1  F32  : u10           \n",
      "     4 : unknown  unknown  v instant       1   1     18432   1  F32  : v10           \n",
      "     5 : unknown  unknown  v instant       1   1     18432   1  F32  : qvi           \n",
      "     6 : unknown  unknown  v instant       1   1     18432   1  F32  : slp           \n",
      "   Grid coordinates :\n",
      "     1 : gaussian                 : points=18432 (192x96)\n",
      "                              lon : -180 to 178.125 by 1.875 degrees_east  circular\n",
      "                              lat : 88.57217 to -88.57217 degrees_north\n",
      "   Vertical coordinates :\n",
      "     1 : surface                  : levels=1\n",
      "   Time coordinate :  40 steps\n",
      "     RefTime =  2001-01-01 00:00:00  Units = hours  Calendar = standard\n",
      "  YYYY-MM-DD hh:mm:ss  YYYY-MM-DD hh:mm:ss  YYYY-MM-DD hh:mm:ss  YYYY-MM-DD hh:mm:ss\n",
      "  2001-01-01 00:00:00  2001-01-01 06:00:00  2001-01-01 12:00:00  2001-01-01 18:00:00\n",
      "  2001-01-02 00:00:00  2001-01-02 06:00:00  2001-01-02 12:00:00  2001-01-02 18:00:00\n",
      "  2001-01-03 00:00:00  2001-01-03 06:00:00  2001-01-03 12:00:00  2001-01-03 18:00:00\n",
      "  2001-01-04 00:00:00  2001-01-04 06:00:00  2001-01-04 12:00:00  2001-01-04 18:00:00\n",
      "  2001-01-05 00:00:00  2001-01-05 06:00:00  2001-01-05 12:00:00  2001-01-05 18:00:00\n",
      "  2001-01-06 00:00:00  2001-01-06 06:00:00  2001-01-06 12:00:00  2001-01-06 18:00:00\n",
      "  2001-01-07 00:00:00  2001-01-07 06:00:00  2001-01-07 12:00:00  2001-01-07 18:00:00\n",
      "  2001-01-08 00:00:00  2001-01-08 06:00:00  2001-01-08 12:00:00  2001-01-08 18:00:00\n",
      "  2001-01-09 00:00:00  2001-01-09 06:00:00  2001-01-09 12:00:00  2001-01-09 18:00:00\n",
      "  2001-01-10 00:00:00  2001-01-10 06:00:00  2001-01-10 12:00:00  2001-01-10 18:00:00\n",
      "\n",
      "STDERR:\n",
      "cdo    sinfon: Processed 6 variables over 40 timesteps [0.01s 9872KB].\n",
      "\n",
      "# DEBUG - end ===============================================================\n",
      "RETURNCODE:0\n"
     ]
    },
    {
     "data": {
      "text/plain": [
       "['File format : NetCDF',\n",
       " '-1 : Institut Source   T Steptype Levels Num    Points Num Dtype : Parameter name',\n",
       " '1 : unknown  unknown  v instant       1   1     18432   1  F32  : tsurf',\n",
       " '2 : unknown  unknown  v instant       1   1     18432   1  F32  : precip',\n",
       " '3 : unknown  unknown  v instant       1   1     18432   1  F32  : u10',\n",
       " '4 : unknown  unknown  v instant       1   1     18432   1  F32  : v10',\n",
       " '5 : unknown  unknown  v instant       1   1     18432   1  F32  : qvi',\n",
       " '6 : unknown  unknown  v instant       1   1     18432   1  F32  : slp',\n",
       " 'Grid coordinates :',\n",
       " '1 : gaussian                 : points=18432 (192x96)',\n",
       " 'lon : -180 to 178.125 by 1.875 degrees_east  circular',\n",
       " 'lat : 88.57217 to -88.57217 degrees_north',\n",
       " 'Vertical coordinates :',\n",
       " '1 : surface                  : levels=1',\n",
       " 'Time coordinate :  40 steps',\n",
       " 'RefTime =  2001-01-01 00:00:00  Units = hours  Calendar = standard',\n",
       " 'YYYY-MM-DD hh:mm:ss  YYYY-MM-DD hh:mm:ss  YYYY-MM-DD hh:mm:ss  YYYY-MM-DD hh:mm:ss',\n",
       " '2001-01-01 00:00:00  2001-01-01 06:00:00  2001-01-01 12:00:00  2001-01-01 18:00:00',\n",
       " '2001-01-02 00:00:00  2001-01-02 06:00:00  2001-01-02 12:00:00  2001-01-02 18:00:00',\n",
       " '2001-01-03 00:00:00  2001-01-03 06:00:00  2001-01-03 12:00:00  2001-01-03 18:00:00',\n",
       " '2001-01-04 00:00:00  2001-01-04 06:00:00  2001-01-04 12:00:00  2001-01-04 18:00:00',\n",
       " '2001-01-05 00:00:00  2001-01-05 06:00:00  2001-01-05 12:00:00  2001-01-05 18:00:00',\n",
       " '2001-01-06 00:00:00  2001-01-06 06:00:00  2001-01-06 12:00:00  2001-01-06 18:00:00',\n",
       " '2001-01-07 00:00:00  2001-01-07 06:00:00  2001-01-07 12:00:00  2001-01-07 18:00:00',\n",
       " '2001-01-08 00:00:00  2001-01-08 06:00:00  2001-01-08 12:00:00  2001-01-08 18:00:00',\n",
       " '2001-01-09 00:00:00  2001-01-09 06:00:00  2001-01-09 12:00:00  2001-01-09 18:00:00',\n",
       " '2001-01-10 00:00:00  2001-01-10 06:00:00  2001-01-10 12:00:00  2001-01-10 18:00:00']"
      ]
     },
     "execution_count": 11,
     "metadata": {},
     "output_type": "execute_result"
    }
   ],
   "source": [
    "cdo.sinfon(input='data/rectilinear_grid_2D.nc')"
   ]
  },
  {
   "cell_type": "markdown",
   "metadata": {},
   "source": [
    "## Turn off debugging"
   ]
  },
  {
   "cell_type": "code",
   "execution_count": 12,
   "metadata": {},
   "outputs": [],
   "source": [
    "cdo.debug = False"
   ]
  },
  {
   "cell_type": "code",
   "execution_count": 13,
   "metadata": {},
   "outputs": [
    {
     "data": {
      "text/plain": [
       "['File format : NetCDF',\n",
       " '-1 : Institut Source   T Steptype Levels Num    Points Num Dtype : Parameter name',\n",
       " '1 : unknown  unknown  v instant       1   1     18432   1  F32  : tsurf',\n",
       " '2 : unknown  unknown  v instant       1   1     18432   1  F32  : precip',\n",
       " '3 : unknown  unknown  v instant       1   1     18432   1  F32  : u10',\n",
       " '4 : unknown  unknown  v instant       1   1     18432   1  F32  : v10',\n",
       " '5 : unknown  unknown  v instant       1   1     18432   1  F32  : qvi',\n",
       " '6 : unknown  unknown  v instant       1   1     18432   1  F32  : slp',\n",
       " 'Grid coordinates :',\n",
       " '1 : gaussian                 : points=18432 (192x96)',\n",
       " 'lon : -180 to 178.125 by 1.875 degrees_east  circular',\n",
       " 'lat : 88.57217 to -88.57217 degrees_north',\n",
       " 'Vertical coordinates :',\n",
       " '1 : surface                  : levels=1',\n",
       " 'Time coordinate :  40 steps',\n",
       " 'RefTime =  2001-01-01 00:00:00  Units = hours  Calendar = standard',\n",
       " 'YYYY-MM-DD hh:mm:ss  YYYY-MM-DD hh:mm:ss  YYYY-MM-DD hh:mm:ss  YYYY-MM-DD hh:mm:ss',\n",
       " '2001-01-01 00:00:00  2001-01-01 06:00:00  2001-01-01 12:00:00  2001-01-01 18:00:00',\n",
       " '2001-01-02 00:00:00  2001-01-02 06:00:00  2001-01-02 12:00:00  2001-01-02 18:00:00',\n",
       " '2001-01-03 00:00:00  2001-01-03 06:00:00  2001-01-03 12:00:00  2001-01-03 18:00:00',\n",
       " '2001-01-04 00:00:00  2001-01-04 06:00:00  2001-01-04 12:00:00  2001-01-04 18:00:00',\n",
       " '2001-01-05 00:00:00  2001-01-05 06:00:00  2001-01-05 12:00:00  2001-01-05 18:00:00',\n",
       " '2001-01-06 00:00:00  2001-01-06 06:00:00  2001-01-06 12:00:00  2001-01-06 18:00:00',\n",
       " '2001-01-07 00:00:00  2001-01-07 06:00:00  2001-01-07 12:00:00  2001-01-07 18:00:00',\n",
       " '2001-01-08 00:00:00  2001-01-08 06:00:00  2001-01-08 12:00:00  2001-01-08 18:00:00',\n",
       " '2001-01-09 00:00:00  2001-01-09 06:00:00  2001-01-09 12:00:00  2001-01-09 18:00:00',\n",
       " '2001-01-10 00:00:00  2001-01-10 06:00:00  2001-01-10 12:00:00  2001-01-10 18:00:00']"
      ]
     },
     "execution_count": 13,
     "metadata": {},
     "output_type": "execute_result"
    }
   ],
   "source": [
    "infile = 'data/rectilinear_grid_2D.nc'\n",
    "\n",
    "cdo.sinfon(input=infile)"
   ]
  },
  {
   "cell_type": "markdown",
   "metadata": {},
   "source": [
    "In comparison to xarray's dataset information."
   ]
  },
  {
   "cell_type": "code",
   "execution_count": 14,
   "metadata": {},
   "outputs": [
    {
     "data": {
      "text/html": [
       "<div><svg style=\"position: absolute; width: 0; height: 0; overflow: hidden\">\n",
       "<defs>\n",
       "<symbol id=\"icon-database\" viewBox=\"0 0 32 32\">\n",
       "<path d=\"M16 0c-8.837 0-16 2.239-16 5v4c0 2.761 7.163 5 16 5s16-2.239 16-5v-4c0-2.761-7.163-5-16-5z\"></path>\n",
       "<path d=\"M16 17c-8.837 0-16-2.239-16-5v6c0 2.761 7.163 5 16 5s16-2.239 16-5v-6c0 2.761-7.163 5-16 5z\"></path>\n",
       "<path d=\"M16 26c-8.837 0-16-2.239-16-5v6c0 2.761 7.163 5 16 5s16-2.239 16-5v-6c0 2.761-7.163 5-16 5z\"></path>\n",
       "</symbol>\n",
       "<symbol id=\"icon-file-text2\" viewBox=\"0 0 32 32\">\n",
       "<path d=\"M28.681 7.159c-0.694-0.947-1.662-2.053-2.724-3.116s-2.169-2.030-3.116-2.724c-1.612-1.182-2.393-1.319-2.841-1.319h-15.5c-1.378 0-2.5 1.121-2.5 2.5v27c0 1.378 1.122 2.5 2.5 2.5h23c1.378 0 2.5-1.122 2.5-2.5v-19.5c0-0.448-0.137-1.23-1.319-2.841zM24.543 5.457c0.959 0.959 1.712 1.825 2.268 2.543h-4.811v-4.811c0.718 0.556 1.584 1.309 2.543 2.268zM28 29.5c0 0.271-0.229 0.5-0.5 0.5h-23c-0.271 0-0.5-0.229-0.5-0.5v-27c0-0.271 0.229-0.5 0.5-0.5 0 0 15.499-0 15.5 0v7c0 0.552 0.448 1 1 1h7v19.5z\"></path>\n",
       "<path d=\"M23 26h-14c-0.552 0-1-0.448-1-1s0.448-1 1-1h14c0.552 0 1 0.448 1 1s-0.448 1-1 1z\"></path>\n",
       "<path d=\"M23 22h-14c-0.552 0-1-0.448-1-1s0.448-1 1-1h14c0.552 0 1 0.448 1 1s-0.448 1-1 1z\"></path>\n",
       "<path d=\"M23 18h-14c-0.552 0-1-0.448-1-1s0.448-1 1-1h14c0.552 0 1 0.448 1 1s-0.448 1-1 1z\"></path>\n",
       "</symbol>\n",
       "</defs>\n",
       "</svg>\n",
       "<style>/* CSS stylesheet for displaying xarray objects in jupyterlab.\n",
       " *\n",
       " */\n",
       "\n",
       ":root {\n",
       "  --xr-font-color0: var(--jp-content-font-color0, rgba(0, 0, 0, 1));\n",
       "  --xr-font-color2: var(--jp-content-font-color2, rgba(0, 0, 0, 0.54));\n",
       "  --xr-font-color3: var(--jp-content-font-color3, rgba(0, 0, 0, 0.38));\n",
       "  --xr-border-color: var(--jp-border-color2, #e0e0e0);\n",
       "  --xr-disabled-color: var(--jp-layout-color3, #bdbdbd);\n",
       "  --xr-background-color: var(--jp-layout-color0, white);\n",
       "  --xr-background-color-row-even: var(--jp-layout-color1, white);\n",
       "  --xr-background-color-row-odd: var(--jp-layout-color2, #eeeeee);\n",
       "}\n",
       "\n",
       "html[theme=dark],\n",
       "body.vscode-dark {\n",
       "  --xr-font-color0: rgba(255, 255, 255, 1);\n",
       "  --xr-font-color2: rgba(255, 255, 255, 0.54);\n",
       "  --xr-font-color3: rgba(255, 255, 255, 0.38);\n",
       "  --xr-border-color: #1F1F1F;\n",
       "  --xr-disabled-color: #515151;\n",
       "  --xr-background-color: #111111;\n",
       "  --xr-background-color-row-even: #111111;\n",
       "  --xr-background-color-row-odd: #313131;\n",
       "}\n",
       "\n",
       ".xr-wrap {\n",
       "  display: block;\n",
       "  min-width: 300px;\n",
       "  max-width: 700px;\n",
       "}\n",
       "\n",
       ".xr-text-repr-fallback {\n",
       "  /* fallback to plain text repr when CSS is not injected (untrusted notebook) */\n",
       "  display: none;\n",
       "}\n",
       "\n",
       ".xr-header {\n",
       "  padding-top: 6px;\n",
       "  padding-bottom: 6px;\n",
       "  margin-bottom: 4px;\n",
       "  border-bottom: solid 1px var(--xr-border-color);\n",
       "}\n",
       "\n",
       ".xr-header > div,\n",
       ".xr-header > ul {\n",
       "  display: inline;\n",
       "  margin-top: 0;\n",
       "  margin-bottom: 0;\n",
       "}\n",
       "\n",
       ".xr-obj-type,\n",
       ".xr-array-name {\n",
       "  margin-left: 2px;\n",
       "  margin-right: 10px;\n",
       "}\n",
       "\n",
       ".xr-obj-type {\n",
       "  color: var(--xr-font-color2);\n",
       "}\n",
       "\n",
       ".xr-sections {\n",
       "  padding-left: 0 !important;\n",
       "  display: grid;\n",
       "  grid-template-columns: 150px auto auto 1fr 20px 20px;\n",
       "}\n",
       "\n",
       ".xr-section-item {\n",
       "  display: contents;\n",
       "}\n",
       "\n",
       ".xr-section-item input {\n",
       "  display: none;\n",
       "}\n",
       "\n",
       ".xr-section-item input + label {\n",
       "  color: var(--xr-disabled-color);\n",
       "}\n",
       "\n",
       ".xr-section-item input:enabled + label {\n",
       "  cursor: pointer;\n",
       "  color: var(--xr-font-color2);\n",
       "}\n",
       "\n",
       ".xr-section-item input:enabled + label:hover {\n",
       "  color: var(--xr-font-color0);\n",
       "}\n",
       "\n",
       ".xr-section-summary {\n",
       "  grid-column: 1;\n",
       "  color: var(--xr-font-color2);\n",
       "  font-weight: 500;\n",
       "}\n",
       "\n",
       ".xr-section-summary > span {\n",
       "  display: inline-block;\n",
       "  padding-left: 0.5em;\n",
       "}\n",
       "\n",
       ".xr-section-summary-in:disabled + label {\n",
       "  color: var(--xr-font-color2);\n",
       "}\n",
       "\n",
       ".xr-section-summary-in + label:before {\n",
       "  display: inline-block;\n",
       "  content: '►';\n",
       "  font-size: 11px;\n",
       "  width: 15px;\n",
       "  text-align: center;\n",
       "}\n",
       "\n",
       ".xr-section-summary-in:disabled + label:before {\n",
       "  color: var(--xr-disabled-color);\n",
       "}\n",
       "\n",
       ".xr-section-summary-in:checked + label:before {\n",
       "  content: '▼';\n",
       "}\n",
       "\n",
       ".xr-section-summary-in:checked + label > span {\n",
       "  display: none;\n",
       "}\n",
       "\n",
       ".xr-section-summary,\n",
       ".xr-section-inline-details {\n",
       "  padding-top: 4px;\n",
       "  padding-bottom: 4px;\n",
       "}\n",
       "\n",
       ".xr-section-inline-details {\n",
       "  grid-column: 2 / -1;\n",
       "}\n",
       "\n",
       ".xr-section-details {\n",
       "  display: none;\n",
       "  grid-column: 1 / -1;\n",
       "  margin-bottom: 5px;\n",
       "}\n",
       "\n",
       ".xr-section-summary-in:checked ~ .xr-section-details {\n",
       "  display: contents;\n",
       "}\n",
       "\n",
       ".xr-array-wrap {\n",
       "  grid-column: 1 / -1;\n",
       "  display: grid;\n",
       "  grid-template-columns: 20px auto;\n",
       "}\n",
       "\n",
       ".xr-array-wrap > label {\n",
       "  grid-column: 1;\n",
       "  vertical-align: top;\n",
       "}\n",
       "\n",
       ".xr-preview {\n",
       "  color: var(--xr-font-color3);\n",
       "}\n",
       "\n",
       ".xr-array-preview,\n",
       ".xr-array-data {\n",
       "  padding: 0 5px !important;\n",
       "  grid-column: 2;\n",
       "}\n",
       "\n",
       ".xr-array-data,\n",
       ".xr-array-in:checked ~ .xr-array-preview {\n",
       "  display: none;\n",
       "}\n",
       "\n",
       ".xr-array-in:checked ~ .xr-array-data,\n",
       ".xr-array-preview {\n",
       "  display: inline-block;\n",
       "}\n",
       "\n",
       ".xr-dim-list {\n",
       "  display: inline-block !important;\n",
       "  list-style: none;\n",
       "  padding: 0 !important;\n",
       "  margin: 0;\n",
       "}\n",
       "\n",
       ".xr-dim-list li {\n",
       "  display: inline-block;\n",
       "  padding: 0;\n",
       "  margin: 0;\n",
       "}\n",
       "\n",
       ".xr-dim-list:before {\n",
       "  content: '(';\n",
       "}\n",
       "\n",
       ".xr-dim-list:after {\n",
       "  content: ')';\n",
       "}\n",
       "\n",
       ".xr-dim-list li:not(:last-child):after {\n",
       "  content: ',';\n",
       "  padding-right: 5px;\n",
       "}\n",
       "\n",
       ".xr-has-index {\n",
       "  font-weight: bold;\n",
       "}\n",
       "\n",
       ".xr-var-list,\n",
       ".xr-var-item {\n",
       "  display: contents;\n",
       "}\n",
       "\n",
       ".xr-var-item > div,\n",
       ".xr-var-item label,\n",
       ".xr-var-item > .xr-var-name span {\n",
       "  background-color: var(--xr-background-color-row-even);\n",
       "  margin-bottom: 0;\n",
       "}\n",
       "\n",
       ".xr-var-item > .xr-var-name:hover span {\n",
       "  padding-right: 5px;\n",
       "}\n",
       "\n",
       ".xr-var-list > li:nth-child(odd) > div,\n",
       ".xr-var-list > li:nth-child(odd) > label,\n",
       ".xr-var-list > li:nth-child(odd) > .xr-var-name span {\n",
       "  background-color: var(--xr-background-color-row-odd);\n",
       "}\n",
       "\n",
       ".xr-var-name {\n",
       "  grid-column: 1;\n",
       "}\n",
       "\n",
       ".xr-var-dims {\n",
       "  grid-column: 2;\n",
       "}\n",
       "\n",
       ".xr-var-dtype {\n",
       "  grid-column: 3;\n",
       "  text-align: right;\n",
       "  color: var(--xr-font-color2);\n",
       "}\n",
       "\n",
       ".xr-var-preview {\n",
       "  grid-column: 4;\n",
       "}\n",
       "\n",
       ".xr-var-name,\n",
       ".xr-var-dims,\n",
       ".xr-var-dtype,\n",
       ".xr-preview,\n",
       ".xr-attrs dt {\n",
       "  white-space: nowrap;\n",
       "  overflow: hidden;\n",
       "  text-overflow: ellipsis;\n",
       "  padding-right: 10px;\n",
       "}\n",
       "\n",
       ".xr-var-name:hover,\n",
       ".xr-var-dims:hover,\n",
       ".xr-var-dtype:hover,\n",
       ".xr-attrs dt:hover {\n",
       "  overflow: visible;\n",
       "  width: auto;\n",
       "  z-index: 1;\n",
       "}\n",
       "\n",
       ".xr-var-attrs,\n",
       ".xr-var-data {\n",
       "  display: none;\n",
       "  background-color: var(--xr-background-color) !important;\n",
       "  padding-bottom: 5px !important;\n",
       "}\n",
       "\n",
       ".xr-var-attrs-in:checked ~ .xr-var-attrs,\n",
       ".xr-var-data-in:checked ~ .xr-var-data {\n",
       "  display: block;\n",
       "}\n",
       "\n",
       ".xr-var-data > table {\n",
       "  float: right;\n",
       "}\n",
       "\n",
       ".xr-var-name span,\n",
       ".xr-var-data,\n",
       ".xr-attrs {\n",
       "  padding-left: 25px !important;\n",
       "}\n",
       "\n",
       ".xr-attrs,\n",
       ".xr-var-attrs,\n",
       ".xr-var-data {\n",
       "  grid-column: 1 / -1;\n",
       "}\n",
       "\n",
       "dl.xr-attrs {\n",
       "  padding: 0;\n",
       "  margin: 0;\n",
       "  display: grid;\n",
       "  grid-template-columns: 125px auto;\n",
       "}\n",
       "\n",
       ".xr-attrs dt, dd {\n",
       "  padding: 0;\n",
       "  margin: 0;\n",
       "  float: left;\n",
       "  padding-right: 10px;\n",
       "  width: auto;\n",
       "}\n",
       "\n",
       ".xr-attrs dt {\n",
       "  font-weight: normal;\n",
       "  grid-column: 1;\n",
       "}\n",
       "\n",
       ".xr-attrs dt:hover span {\n",
       "  display: inline-block;\n",
       "  background: var(--xr-background-color);\n",
       "  padding-right: 10px;\n",
       "}\n",
       "\n",
       ".xr-attrs dd {\n",
       "  grid-column: 2;\n",
       "  white-space: pre-wrap;\n",
       "  word-break: break-all;\n",
       "}\n",
       "\n",
       ".xr-icon-database,\n",
       ".xr-icon-file-text2 {\n",
       "  display: inline-block;\n",
       "  vertical-align: middle;\n",
       "  width: 1em;\n",
       "  height: 1.5em !important;\n",
       "  stroke-width: 0;\n",
       "  stroke: currentColor;\n",
       "  fill: currentColor;\n",
       "}\n",
       "</style><pre class='xr-text-repr-fallback'>&lt;xarray.Dataset&gt;\n",
       "Dimensions:  (lat: 96, lon: 192, time: 40)\n",
       "Coordinates:\n",
       "  * lon      (lon) float64 -180.0 -178.1 -176.2 -174.4 ... 174.4 176.2 178.1\n",
       "  * lat      (lat) float64 88.57 86.72 84.86 83.0 ... -83.0 -84.86 -86.72 -88.57\n",
       "  * time     (time) datetime64[ns] 2001-01-01 ... 2001-01-10T18:00:00\n",
       "Data variables:\n",
       "    tsurf    (time, lat, lon) float32 ...\n",
       "    precip   (time, lat, lon) float32 ...\n",
       "    u10      (time, lat, lon) float32 ...\n",
       "    v10      (time, lat, lon) float32 ...\n",
       "    qvi      (time, lat, lon) float32 ...\n",
       "    slp      (time, lat, lon) float32 ...</pre><div class='xr-wrap' hidden><div class='xr-header'><div class='xr-obj-type'>xarray.Dataset</div></div><ul class='xr-sections'><li class='xr-section-item'><input id='section-c83e27ea-43fa-4d23-ab17-fe01fa85ccfb' class='xr-section-summary-in' type='checkbox' disabled ><label for='section-c83e27ea-43fa-4d23-ab17-fe01fa85ccfb' class='xr-section-summary'  title='Expand/collapse section'>Dimensions:</label><div class='xr-section-inline-details'><ul class='xr-dim-list'><li><span class='xr-has-index'>lat</span>: 96</li><li><span class='xr-has-index'>lon</span>: 192</li><li><span class='xr-has-index'>time</span>: 40</li></ul></div><div class='xr-section-details'></div></li><li class='xr-section-item'><input id='section-d47f4661-178b-4ff3-b3f6-62258d37d078' class='xr-section-summary-in' type='checkbox'  checked><label for='section-d47f4661-178b-4ff3-b3f6-62258d37d078' class='xr-section-summary' >Coordinates: <span>(3)</span></label><div class='xr-section-inline-details'></div><div class='xr-section-details'><ul class='xr-var-list'><li class='xr-var-item'><div class='xr-var-name'><span class='xr-has-index'>lon</span></div><div class='xr-var-dims'>(lon)</div><div class='xr-var-dtype'>float64</div><div class='xr-var-preview xr-preview'>-180.0 -178.1 ... 176.2 178.1</div><input id='attrs-9a2eb6cb-4e35-4924-9723-b8ce1f29c578' class='xr-var-attrs-in' type='checkbox' ><label for='attrs-9a2eb6cb-4e35-4924-9723-b8ce1f29c578' title='Show/Hide attributes'><svg class='icon xr-icon-file-text2'><use xlink:href='#icon-file-text2'></use></svg></label><input id='data-cb64ebc7-b7f2-4617-90bb-885ab8d2bf63' class='xr-var-data-in' type='checkbox'><label for='data-cb64ebc7-b7f2-4617-90bb-885ab8d2bf63' title='Show/Hide data repr'><svg class='icon xr-icon-database'><use xlink:href='#icon-database'></use></svg></label><div class='xr-var-attrs'><dl class='xr-attrs'><dt><span>standard_name :</span></dt><dd>longitude</dd><dt><span>long_name :</span></dt><dd>longitude</dd><dt><span>units :</span></dt><dd>degrees_east</dd><dt><span>axis :</span></dt><dd>X</dd></dl></div><div class='xr-var-data'><pre>array([-180.   , -178.125, -176.25 , -174.375, -172.5  , -170.625, -168.75 ,\n",
       "       -166.875, -165.   , -163.125, -161.25 , -159.375, -157.5  , -155.625,\n",
       "       -153.75 , -151.875, -150.   , -148.125, -146.25 , -144.375, -142.5  ,\n",
       "       -140.625, -138.75 , -136.875, -135.   , -133.125, -131.25 , -129.375,\n",
       "       -127.5  , -125.625, -123.75 , -121.875, -120.   , -118.125, -116.25 ,\n",
       "       -114.375, -112.5  , -110.625, -108.75 , -106.875, -105.   , -103.125,\n",
       "       -101.25 ,  -99.375,  -97.5  ,  -95.625,  -93.75 ,  -91.875,  -90.   ,\n",
       "        -88.125,  -86.25 ,  -84.375,  -82.5  ,  -80.625,  -78.75 ,  -76.875,\n",
       "        -75.   ,  -73.125,  -71.25 ,  -69.375,  -67.5  ,  -65.625,  -63.75 ,\n",
       "        -61.875,  -60.   ,  -58.125,  -56.25 ,  -54.375,  -52.5  ,  -50.625,\n",
       "        -48.75 ,  -46.875,  -45.   ,  -43.125,  -41.25 ,  -39.375,  -37.5  ,\n",
       "        -35.625,  -33.75 ,  -31.875,  -30.   ,  -28.125,  -26.25 ,  -24.375,\n",
       "        -22.5  ,  -20.625,  -18.75 ,  -16.875,  -15.   ,  -13.125,  -11.25 ,\n",
       "         -9.375,   -7.5  ,   -5.625,   -3.75 ,   -1.875,    0.   ,    1.875,\n",
       "          3.75 ,    5.625,    7.5  ,    9.375,   11.25 ,   13.125,   15.   ,\n",
       "         16.875,   18.75 ,   20.625,   22.5  ,   24.375,   26.25 ,   28.125,\n",
       "         30.   ,   31.875,   33.75 ,   35.625,   37.5  ,   39.375,   41.25 ,\n",
       "         43.125,   45.   ,   46.875,   48.75 ,   50.625,   52.5  ,   54.375,\n",
       "         56.25 ,   58.125,   60.   ,   61.875,   63.75 ,   65.625,   67.5  ,\n",
       "         69.375,   71.25 ,   73.125,   75.   ,   76.875,   78.75 ,   80.625,\n",
       "         82.5  ,   84.375,   86.25 ,   88.125,   90.   ,   91.875,   93.75 ,\n",
       "         95.625,   97.5  ,   99.375,  101.25 ,  103.125,  105.   ,  106.875,\n",
       "        108.75 ,  110.625,  112.5  ,  114.375,  116.25 ,  118.125,  120.   ,\n",
       "        121.875,  123.75 ,  125.625,  127.5  ,  129.375,  131.25 ,  133.125,\n",
       "        135.   ,  136.875,  138.75 ,  140.625,  142.5  ,  144.375,  146.25 ,\n",
       "        148.125,  150.   ,  151.875,  153.75 ,  155.625,  157.5  ,  159.375,\n",
       "        161.25 ,  163.125,  165.   ,  166.875,  168.75 ,  170.625,  172.5  ,\n",
       "        174.375,  176.25 ,  178.125])</pre></div></li><li class='xr-var-item'><div class='xr-var-name'><span class='xr-has-index'>lat</span></div><div class='xr-var-dims'>(lat)</div><div class='xr-var-dtype'>float64</div><div class='xr-var-preview xr-preview'>88.57 86.72 84.86 ... -86.72 -88.57</div><input id='attrs-12ede6b4-8a62-4e58-85d0-9d45ac46b98f' class='xr-var-attrs-in' type='checkbox' ><label for='attrs-12ede6b4-8a62-4e58-85d0-9d45ac46b98f' title='Show/Hide attributes'><svg class='icon xr-icon-file-text2'><use xlink:href='#icon-file-text2'></use></svg></label><input id='data-f2dd8675-365a-46d9-b309-539ae8d781ee' class='xr-var-data-in' type='checkbox'><label for='data-f2dd8675-365a-46d9-b309-539ae8d781ee' title='Show/Hide data repr'><svg class='icon xr-icon-database'><use xlink:href='#icon-database'></use></svg></label><div class='xr-var-attrs'><dl class='xr-attrs'><dt><span>standard_name :</span></dt><dd>latitude</dd><dt><span>long_name :</span></dt><dd>latitude</dd><dt><span>units :</span></dt><dd>degrees_north</dd><dt><span>axis :</span></dt><dd>Y</dd></dl></div><div class='xr-var-data'><pre>array([ 88.572169,  86.722531,  84.86197 ,  82.998942,  81.134977,  79.270559,\n",
       "        77.405888,  75.541061,  73.676132,  71.811132,  69.946081,  68.080991,\n",
       "        66.215872,  64.35073 ,  62.485571,  60.620396,  58.755209,  56.890013,\n",
       "        55.024808,  53.159595,  51.294377,  49.429154,  47.563926,  45.698694,\n",
       "        43.833459,  41.96822 ,  40.102979,  38.237736,  36.372491,  34.507243,\n",
       "        32.641994,  30.776744,  28.911492,  27.046239,  25.180986,  23.315731,\n",
       "        21.450475,  19.585219,  17.719962,  15.854704,  13.989446,  12.124187,\n",
       "        10.258928,   8.393669,   6.528409,   4.66315 ,   2.79789 ,   0.93263 ,\n",
       "        -0.93263 ,  -2.79789 ,  -4.66315 ,  -6.528409,  -8.393669, -10.258928,\n",
       "       -12.124187, -13.989446, -15.854704, -17.719962, -19.585219, -21.450475,\n",
       "       -23.315731, -25.180986, -27.046239, -28.911492, -30.776744, -32.641994,\n",
       "       -34.507243, -36.372491, -38.237736, -40.102979, -41.96822 , -43.833459,\n",
       "       -45.698694, -47.563926, -49.429154, -51.294377, -53.159595, -55.024808,\n",
       "       -56.890013, -58.755209, -60.620396, -62.485571, -64.35073 , -66.215872,\n",
       "       -68.080991, -69.946081, -71.811132, -73.676132, -75.541061, -77.405888,\n",
       "       -79.270559, -81.134977, -82.998942, -84.86197 , -86.722531, -88.572169])</pre></div></li><li class='xr-var-item'><div class='xr-var-name'><span class='xr-has-index'>time</span></div><div class='xr-var-dims'>(time)</div><div class='xr-var-dtype'>datetime64[ns]</div><div class='xr-var-preview xr-preview'>2001-01-01 ... 2001-01-10T18:00:00</div><input id='attrs-86a8f042-b495-4321-8477-8f0777ef44a5' class='xr-var-attrs-in' type='checkbox' ><label for='attrs-86a8f042-b495-4321-8477-8f0777ef44a5' title='Show/Hide attributes'><svg class='icon xr-icon-file-text2'><use xlink:href='#icon-file-text2'></use></svg></label><input id='data-0cf7bb63-4bf2-441e-9efb-3acbfc7700db' class='xr-var-data-in' type='checkbox'><label for='data-0cf7bb63-4bf2-441e-9efb-3acbfc7700db' title='Show/Hide data repr'><svg class='icon xr-icon-database'><use xlink:href='#icon-database'></use></svg></label><div class='xr-var-attrs'><dl class='xr-attrs'><dt><span>standard_name :</span></dt><dd>time</dd></dl></div><div class='xr-var-data'><pre>array([&#x27;2001-01-01T00:00:00.000000000&#x27;, &#x27;2001-01-01T06:00:00.000000000&#x27;,\n",
       "       &#x27;2001-01-01T12:00:00.000000000&#x27;, &#x27;2001-01-01T18:00:00.000000000&#x27;,\n",
       "       &#x27;2001-01-02T00:00:00.000000000&#x27;, &#x27;2001-01-02T06:00:00.000000000&#x27;,\n",
       "       &#x27;2001-01-02T12:00:00.000000000&#x27;, &#x27;2001-01-02T18:00:00.000000000&#x27;,\n",
       "       &#x27;2001-01-03T00:00:00.000000000&#x27;, &#x27;2001-01-03T06:00:00.000000000&#x27;,\n",
       "       &#x27;2001-01-03T12:00:00.000000000&#x27;, &#x27;2001-01-03T18:00:00.000000000&#x27;,\n",
       "       &#x27;2001-01-04T00:00:00.000000000&#x27;, &#x27;2001-01-04T06:00:00.000000000&#x27;,\n",
       "       &#x27;2001-01-04T12:00:00.000000000&#x27;, &#x27;2001-01-04T18:00:00.000000000&#x27;,\n",
       "       &#x27;2001-01-05T00:00:00.000000000&#x27;, &#x27;2001-01-05T06:00:00.000000000&#x27;,\n",
       "       &#x27;2001-01-05T12:00:00.000000000&#x27;, &#x27;2001-01-05T18:00:00.000000000&#x27;,\n",
       "       &#x27;2001-01-06T00:00:00.000000000&#x27;, &#x27;2001-01-06T06:00:00.000000000&#x27;,\n",
       "       &#x27;2001-01-06T12:00:00.000000000&#x27;, &#x27;2001-01-06T18:00:00.000000000&#x27;,\n",
       "       &#x27;2001-01-07T00:00:00.000000000&#x27;, &#x27;2001-01-07T06:00:00.000000000&#x27;,\n",
       "       &#x27;2001-01-07T12:00:00.000000000&#x27;, &#x27;2001-01-07T18:00:00.000000000&#x27;,\n",
       "       &#x27;2001-01-08T00:00:00.000000000&#x27;, &#x27;2001-01-08T06:00:00.000000000&#x27;,\n",
       "       &#x27;2001-01-08T12:00:00.000000000&#x27;, &#x27;2001-01-08T18:00:00.000000000&#x27;,\n",
       "       &#x27;2001-01-09T00:00:00.000000000&#x27;, &#x27;2001-01-09T06:00:00.000000000&#x27;,\n",
       "       &#x27;2001-01-09T12:00:00.000000000&#x27;, &#x27;2001-01-09T18:00:00.000000000&#x27;,\n",
       "       &#x27;2001-01-10T00:00:00.000000000&#x27;, &#x27;2001-01-10T06:00:00.000000000&#x27;,\n",
       "       &#x27;2001-01-10T12:00:00.000000000&#x27;, &#x27;2001-01-10T18:00:00.000000000&#x27;],\n",
       "      dtype=&#x27;datetime64[ns]&#x27;)</pre></div></li></ul></div></li><li class='xr-section-item'><input id='section-11affa5e-c631-49cc-8a86-87ec19d7e568' class='xr-section-summary-in' type='checkbox'  checked><label for='section-11affa5e-c631-49cc-8a86-87ec19d7e568' class='xr-section-summary' >Data variables: <span>(6)</span></label><div class='xr-section-inline-details'></div><div class='xr-section-details'><ul class='xr-var-list'><li class='xr-var-item'><div class='xr-var-name'><span>tsurf</span></div><div class='xr-var-dims'>(time, lat, lon)</div><div class='xr-var-dtype'>float32</div><div class='xr-var-preview xr-preview'>...</div><input id='attrs-acd0597e-ca66-481c-a7db-611a539bbf3f' class='xr-var-attrs-in' type='checkbox' ><label for='attrs-acd0597e-ca66-481c-a7db-611a539bbf3f' title='Show/Hide attributes'><svg class='icon xr-icon-file-text2'><use xlink:href='#icon-file-text2'></use></svg></label><input id='data-976e1466-08ef-492f-beb4-c41d880a9cb8' class='xr-var-data-in' type='checkbox'><label for='data-976e1466-08ef-492f-beb4-c41d880a9cb8' title='Show/Hide data repr'><svg class='icon xr-icon-database'><use xlink:href='#icon-database'></use></svg></label><div class='xr-var-attrs'><dl class='xr-attrs'><dt><span>long_name :</span></dt><dd>surface temperature</dd><dt><span>units :</span></dt><dd>K</dd><dt><span>code :</span></dt><dd>169</dd><dt><span>table :</span></dt><dd>128</dd><dt><span>grid_type :</span></dt><dd>gaussian</dd></dl></div><div class='xr-var-data'><pre>[737280 values with dtype=float32]</pre></div></li><li class='xr-var-item'><div class='xr-var-name'><span>precip</span></div><div class='xr-var-dims'>(time, lat, lon)</div><div class='xr-var-dtype'>float32</div><div class='xr-var-preview xr-preview'>...</div><input id='attrs-10c785d3-398e-47b5-949a-a91e4c899489' class='xr-var-attrs-in' type='checkbox' ><label for='attrs-10c785d3-398e-47b5-949a-a91e4c899489' title='Show/Hide attributes'><svg class='icon xr-icon-file-text2'><use xlink:href='#icon-file-text2'></use></svg></label><input id='data-4d1f685d-93f4-47fa-8999-415e4c12b7ec' class='xr-var-data-in' type='checkbox'><label for='data-4d1f685d-93f4-47fa-8999-415e4c12b7ec' title='Show/Hide data repr'><svg class='icon xr-icon-database'><use xlink:href='#icon-database'></use></svg></label><div class='xr-var-attrs'><dl class='xr-attrs'><dt><span>long_name :</span></dt><dd>total precipitation</dd><dt><span>units :</span></dt><dd>kg/m^2s</dd><dt><span>code :</span></dt><dd>4</dd><dt><span>table :</span></dt><dd>128</dd><dt><span>grid_type :</span></dt><dd>gaussian</dd></dl></div><div class='xr-var-data'><pre>[737280 values with dtype=float32]</pre></div></li><li class='xr-var-item'><div class='xr-var-name'><span>u10</span></div><div class='xr-var-dims'>(time, lat, lon)</div><div class='xr-var-dtype'>float32</div><div class='xr-var-preview xr-preview'>...</div><input id='attrs-5c4806c5-8ec3-472b-9774-54fb425d842f' class='xr-var-attrs-in' type='checkbox' ><label for='attrs-5c4806c5-8ec3-472b-9774-54fb425d842f' title='Show/Hide attributes'><svg class='icon xr-icon-file-text2'><use xlink:href='#icon-file-text2'></use></svg></label><input id='data-5f5d9448-345a-480a-aa92-4d9e5a544664' class='xr-var-data-in' type='checkbox'><label for='data-5f5d9448-345a-480a-aa92-4d9e5a544664' title='Show/Hide data repr'><svg class='icon xr-icon-database'><use xlink:href='#icon-database'></use></svg></label><div class='xr-var-attrs'><dl class='xr-attrs'><dt><span>long_name :</span></dt><dd>10m u-velocity</dd><dt><span>units :</span></dt><dd>m/s</dd><dt><span>code :</span></dt><dd>165</dd><dt><span>table :</span></dt><dd>128</dd><dt><span>grid_type :</span></dt><dd>gaussian</dd></dl></div><div class='xr-var-data'><pre>[737280 values with dtype=float32]</pre></div></li><li class='xr-var-item'><div class='xr-var-name'><span>v10</span></div><div class='xr-var-dims'>(time, lat, lon)</div><div class='xr-var-dtype'>float32</div><div class='xr-var-preview xr-preview'>...</div><input id='attrs-7d75bbc2-2ddc-4c46-869a-3977b361aa65' class='xr-var-attrs-in' type='checkbox' ><label for='attrs-7d75bbc2-2ddc-4c46-869a-3977b361aa65' title='Show/Hide attributes'><svg class='icon xr-icon-file-text2'><use xlink:href='#icon-file-text2'></use></svg></label><input id='data-d1df5979-d629-4c69-a17c-971a88ebb7ba' class='xr-var-data-in' type='checkbox'><label for='data-d1df5979-d629-4c69-a17c-971a88ebb7ba' title='Show/Hide data repr'><svg class='icon xr-icon-database'><use xlink:href='#icon-database'></use></svg></label><div class='xr-var-attrs'><dl class='xr-attrs'><dt><span>long_name :</span></dt><dd>10m v-velocity</dd><dt><span>units :</span></dt><dd>m/s</dd><dt><span>code :</span></dt><dd>166</dd><dt><span>table :</span></dt><dd>128</dd><dt><span>grid_type :</span></dt><dd>gaussian</dd></dl></div><div class='xr-var-data'><pre>[737280 values with dtype=float32]</pre></div></li><li class='xr-var-item'><div class='xr-var-name'><span>qvi</span></div><div class='xr-var-dims'>(time, lat, lon)</div><div class='xr-var-dtype'>float32</div><div class='xr-var-preview xr-preview'>...</div><input id='attrs-604b8684-7b4e-4475-9732-bd88ca0630d6' class='xr-var-attrs-in' type='checkbox' ><label for='attrs-604b8684-7b4e-4475-9732-bd88ca0630d6' title='Show/Hide attributes'><svg class='icon xr-icon-file-text2'><use xlink:href='#icon-file-text2'></use></svg></label><input id='data-a316b707-60bf-44f1-8495-94fd3d90338c' class='xr-var-data-in' type='checkbox'><label for='data-a316b707-60bf-44f1-8495-94fd3d90338c' title='Show/Hide data repr'><svg class='icon xr-icon-database'><use xlink:href='#icon-database'></use></svg></label><div class='xr-var-attrs'><dl class='xr-attrs'><dt><span>long_name :</span></dt><dd>vertically integrated water vapor</dd><dt><span>units :</span></dt><dd>kg/m^2</dd><dt><span>code :</span></dt><dd>230</dd><dt><span>table :</span></dt><dd>128</dd><dt><span>grid_type :</span></dt><dd>gaussian</dd></dl></div><div class='xr-var-data'><pre>[737280 values with dtype=float32]</pre></div></li><li class='xr-var-item'><div class='xr-var-name'><span>slp</span></div><div class='xr-var-dims'>(time, lat, lon)</div><div class='xr-var-dtype'>float32</div><div class='xr-var-preview xr-preview'>...</div><input id='attrs-ee55d31c-34df-4a03-a6dd-d79895919929' class='xr-var-attrs-in' type='checkbox' ><label for='attrs-ee55d31c-34df-4a03-a6dd-d79895919929' title='Show/Hide attributes'><svg class='icon xr-icon-file-text2'><use xlink:href='#icon-file-text2'></use></svg></label><input id='data-64d36795-b1f8-4e46-bd63-dd72d61eade1' class='xr-var-data-in' type='checkbox'><label for='data-64d36795-b1f8-4e46-bd63-dd72d61eade1' title='Show/Hide data repr'><svg class='icon xr-icon-database'><use xlink:href='#icon-database'></use></svg></label><div class='xr-var-attrs'><dl class='xr-attrs'><dt><span>long_name :</span></dt><dd>mean sea level pressure</dd><dt><span>units :</span></dt><dd>Pa</dd><dt><span>code :</span></dt><dd>151</dd><dt><span>table :</span></dt><dd>128</dd><dt><span>grid_type :</span></dt><dd>gaussian</dd></dl></div><div class='xr-var-data'><pre>[737280 values with dtype=float32]</pre></div></li></ul></div></li><li class='xr-section-item'><input id='section-2cc99ba8-cb78-4da9-b8c7-08b2e782168c' class='xr-section-summary-in' type='checkbox' disabled ><label for='section-2cc99ba8-cb78-4da9-b8c7-08b2e782168c' class='xr-section-summary'  title='Expand/collapse section'>Attributes: <span>(0)</span></label><div class='xr-section-inline-details'></div><div class='xr-section-details'><dl class='xr-attrs'></dl></div></li></ul></div></div>"
      ],
      "text/plain": [
       "<xarray.Dataset>\n",
       "Dimensions:  (lat: 96, lon: 192, time: 40)\n",
       "Coordinates:\n",
       "  * lon      (lon) float64 -180.0 -178.1 -176.2 -174.4 ... 174.4 176.2 178.1\n",
       "  * lat      (lat) float64 88.57 86.72 84.86 83.0 ... -83.0 -84.86 -86.72 -88.57\n",
       "  * time     (time) datetime64[ns] 2001-01-01 ... 2001-01-10T18:00:00\n",
       "Data variables:\n",
       "    tsurf    (time, lat, lon) float32 ...\n",
       "    precip   (time, lat, lon) float32 ...\n",
       "    u10      (time, lat, lon) float32 ...\n",
       "    v10      (time, lat, lon) float32 ...\n",
       "    qvi      (time, lat, lon) float32 ...\n",
       "    slp      (time, lat, lon) float32 ..."
      ]
     },
     "execution_count": 14,
     "metadata": {},
     "output_type": "execute_result"
    }
   ],
   "source": [
    "import xarray as xr\n",
    "\n",
    "xr.open_dataset(infile)"
   ]
  },
  {
   "cell_type": "markdown",
   "metadata": {},
   "source": [
    "## Show information about the variables value range, times, levels in more detail"
   ]
  },
  {
   "cell_type": "code",
   "execution_count": 15,
   "metadata": {},
   "outputs": [
    {
     "data": {
      "text/plain": [
       "['-1 :       Date     Time   Level Gridsize    Miss :     Minimum        Mean     Maximum : Parameter name',\n",
       " '1 : 2001-01-01 00:00:00       0    18432       0 :      221.79      276.76      313.94 : tsurf',\n",
       " '2 : 2001-01-01 00:00:00       0    18432       0 :  1.4714e-18  2.7047e-05  0.00098652 : precip',\n",
       " '3 : 2001-01-01 00:00:00       0    18432       0 :     -21.745    -0.19579      26.105 : u10',\n",
       " '4 : 2001-01-01 00:00:00       0    18432       0 :     -25.935    -0.23724      24.625 : v10',\n",
       " '5 : 2001-01-01 00:00:00       0    18432       0 :     0.32495      17.897      66.040 : qvi',\n",
       " '6 : 2001-01-01 00:00:00       0    18432       0 :      96715.  1.0094e+05  1.0536e+05 : slp',\n",
       " '7 : 2001-01-01 06:00:00       0    18432       0 :      221.39      276.85      318.76 : tsurf',\n",
       " '8 : 2001-01-01 06:00:00       0    18432       0 :  1.5052e-18  2.7256e-05   0.0012521 : precip',\n",
       " '9 : 2001-01-01 06:00:00       0    18432       0 :     -21.440   -0.062360      26.679 : u10',\n",
       " '10 : 2001-01-01 06:00:00       0    18432       0 :     -24.305    -0.16694      25.285 : v10',\n",
       " '11 : 2001-01-01 06:00:00       0    18432       0 :     0.31753      17.919      66.581 : qvi',\n",
       " '12 : 2001-01-01 06:00:00       0    18432       0 :      96376.  1.0090e+05  1.0544e+05 : slp',\n",
       " '13 : 2001-01-01 12:00:00       0    18432       0 :      221.05      277.40      316.58 : tsurf',\n",
       " '14 : 2001-01-01 12:00:00       0    18432       0 :  1.5234e-18  2.8733e-05   0.0010871 : precip',\n",
       " '15 : 2001-01-01 12:00:00       0    18432       0 :     -23.603    0.068302      26.566 : u10',\n",
       " '16 : 2001-01-01 12:00:00       0    18432       0 :     -23.059   -0.082429      25.905 : v10',\n",
       " '17 : 2001-01-01 12:00:00       0    18432       0 :     0.31514      17.939      69.633 : qvi',\n",
       " '18 : 2001-01-01 12:00:00       0    18432       0 :      96061.  1.0088e+05  1.0538e+05 : slp',\n",
       " '19 : 2001-01-01 18:00:00       0    18432       0 :      220.71      277.41      312.46 : tsurf',\n",
       " '20 : 2001-01-01 18:00:00       0    18432       0 :  1.5158e-18  2.9737e-05   0.0011589 : precip',\n",
       " '21 : 2001-01-01 18:00:00       0    18432       0 :     -23.862     0.18145      26.574 : u10',\n",
       " '22 : 2001-01-01 18:00:00       0    18432       0 :     -23.325   -0.030930      23.925 : v10',\n",
       " '23 : 2001-01-01 18:00:00       0    18432       0 :     0.31533      17.945      68.102 : qvi',\n",
       " '24 : 2001-01-01 18:00:00       0    18432       0 :      95853.  1.0086e+05  1.0553e+05 : slp',\n",
       " '25 : 2001-01-02 00:00:00       0    18432       0 :      220.74      277.11      312.53 : tsurf',\n",
       " '26 : 2001-01-02 00:00:00       0    18432       0 :  1.6393e-18  2.8701e-05   0.0013230 : precip',\n",
       " '27 : 2001-01-02 00:00:00       0    18432       0 :     -24.517     0.18397      24.502 : u10',\n",
       " '28 : 2001-01-02 00:00:00       0    18432       0 :     -22.741   -0.034993      23.521 : v10',\n",
       " '29 : 2001-01-02 00:00:00       0    18432       0 :     0.30647      17.919      68.467 : qvi',\n",
       " '30 : 2001-01-02 00:00:00       0    18432       0 :      95813.  1.0086e+05  1.0564e+05 : slp',\n",
       " '31 : 2001-01-02 06:00:00       0    18432       0 :      221.42      277.03      318.46 : tsurf',\n",
       " '32 : 2001-01-02 06:00:00       0    18432       0 :  1.5358e-18  2.7611e-05   0.0011396 : precip',\n",
       " '33 : 2001-01-02 06:00:00       0    18432       0 :     -25.338     0.14215      22.303 : u10',\n",
       " '34 : 2001-01-02 06:00:00       0    18432       0 :     -22.122    -0.11770      21.961 : v10',\n",
       " '35 : 2001-01-02 06:00:00       0    18432       0 :     0.29315      17.871      69.653 : qvi',\n",
       " '36 : 2001-01-02 06:00:00       0    18432       0 :      95822.  1.0085e+05  1.0595e+05 : slp',\n",
       " '37 : 2001-01-02 12:00:00       0    18432       0 :      222.06      277.35      316.96 : tsurf',\n",
       " '38 : 2001-01-02 12:00:00       0    18432       0 :  1.5499e-18  2.7573e-05   0.0013801 : precip',\n",
       " '39 : 2001-01-02 12:00:00       0    18432       0 :     -25.674    0.053441      21.922 : u10',\n",
       " '40 : 2001-01-02 12:00:00       0    18432       0 :     -20.965    -0.13196      20.839 : v10',\n",
       " '41 : 2001-01-02 12:00:00       0    18432       0 :     0.28635      17.843      70.808 : qvi',\n",
       " '42 : 2001-01-02 12:00:00       0    18432       0 :      95954.  1.0086e+05  1.0578e+05 : slp',\n",
       " '43 : 2001-01-02 18:00:00       0    18432       0 :      223.14      277.20      313.22 : tsurf',\n",
       " '44 : 2001-01-02 18:00:00       0    18432       0 :  1.7853e-18  2.7119e-05   0.0014641 : precip',\n",
       " '45 : 2001-01-02 18:00:00       0    18432       0 :     -24.807    0.031788      24.348 : u10',\n",
       " '46 : 2001-01-02 18:00:00       0    18432       0 :     -20.576    -0.13089      21.205 : v10',\n",
       " '47 : 2001-01-02 18:00:00       0    18432       0 :     0.28273      17.843      70.509 : qvi',\n",
       " '48 : 2001-01-02 18:00:00       0    18432       0 :      95970.  1.0088e+05  1.0559e+05 : slp',\n",
       " '49 : 2001-01-03 00:00:00       0    18432       0 :      223.49      276.79      310.81 : tsurf',\n",
       " '50 : 2001-01-03 00:00:00       0    18432       0 :  1.6379e-18  2.6688e-05   0.0015447 : precip',\n",
       " '51 : 2001-01-03 00:00:00       0    18432       0 :     -24.009    0.037278      22.986 : u10',\n",
       " '52 : 2001-01-03 00:00:00       0    18432       0 :     -25.509    -0.14792      20.085 : v10',\n",
       " '53 : 2001-01-03 00:00:00       0    18432       0 :     0.27829      17.848      69.728 : qvi',\n",
       " '54 : 2001-01-03 00:00:00       0    18432       0 :      95560.  1.0091e+05  1.0526e+05 : slp',\n",
       " '55 : 2001-01-03 06:00:00       0    18432       0 :      223.22      276.69      316.33 : tsurf',\n",
       " '56 : 2001-01-03 06:00:00       0    18432       0 :  1.7539e-18  2.6560e-05   0.0016081 : precip',\n",
       " '57 : 2001-01-03 06:00:00       0    18432       0 :     -21.388    0.032984      27.909 : u10',\n",
       " '58 : 2001-01-03 06:00:00       0    18432       0 :     -24.129    -0.16281      19.928 : v10',\n",
       " '59 : 2001-01-03 06:00:00       0    18432       0 :     0.27522      17.839      70.994 : qvi',\n",
       " '60 : 2001-01-03 06:00:00       0    18432       0 :      95103.  1.0092e+05  1.0520e+05 : slp',\n",
       " '61 : 2001-01-03 12:00:00       0    18432       0 :      222.96      277.06      317.07 : tsurf',\n",
       " '62 : 2001-01-03 12:00:00       0    18432       0 :  1.7206e-18  2.6935e-05   0.0017018 : precip',\n",
       " '63 : 2001-01-03 12:00:00       0    18432       0 :     -23.429    0.036175      24.439 : u10',\n",
       " '64 : 2001-01-03 12:00:00       0    18432       0 :     -25.055    -0.14070      20.751 : v10',\n",
       " '65 : 2001-01-03 12:00:00       0    18432       0 :     0.27874      17.849      72.128 : qvi',\n",
       " '66 : 2001-01-03 12:00:00       0    18432       0 :      95274.  1.0094e+05  1.0514e+05 : slp',\n",
       " '67 : 2001-01-03 18:00:00       0    18432       0 :      222.34      276.95      311.55 : tsurf',\n",
       " '68 : 2001-01-03 18:00:00       0    18432       0 :  1.7123e-18  2.7693e-05   0.0018699 : precip',\n",
       " '69 : 2001-01-03 18:00:00       0    18432       0 :     -22.834    0.071758      24.510 : u10',\n",
       " '70 : 2001-01-03 18:00:00       0    18432       0 :     -21.271    -0.11462      20.692 : v10',\n",
       " '71 : 2001-01-03 18:00:00       0    18432       0 :     0.28618      17.869      72.069 : qvi',\n",
       " '72 : 2001-01-03 18:00:00       0    18432       0 :      95430.  1.0097e+05  1.0515e+05 : slp',\n",
       " '73 : 2001-01-04 00:00:00       0    18432       0 :      223.50      276.58      310.99 : tsurf',\n",
       " '74 : 2001-01-04 00:00:00       0    18432       0 :  1.5732e-18  2.7074e-05   0.0016856 : precip',\n",
       " '75 : 2001-01-04 00:00:00       0    18432       0 :     -23.263    0.088161      24.637 : u10',\n",
       " '76 : 2001-01-04 00:00:00       0    18432       0 :     -18.849   -0.088080      20.896 : v10',\n",
       " '77 : 2001-01-04 00:00:00       0    18432       0 :     0.28687      17.886      72.760 : qvi',\n",
       " '78 : 2001-01-04 00:00:00       0    18432       0 :      95742.  1.0099e+05  1.0522e+05 : slp',\n",
       " '79 : 2001-01-04 06:00:00       0    18432       0 :      224.83      276.52      318.19 : tsurf',\n",
       " '80 : 2001-01-04 06:00:00       0    18432       0 :  1.5704e-18  2.6966e-05   0.0011746 : precip',\n",
       " '81 : 2001-01-04 06:00:00       0    18432       0 :     -23.879    0.086436      23.237 : u10',\n",
       " '82 : 2001-01-04 06:00:00       0    18432       0 :     -25.157   -0.086377      20.945 : v10',\n",
       " '83 : 2001-01-04 06:00:00       0    18432       0 :     0.26318      17.875      72.546 : qvi',\n",
       " '84 : 2001-01-04 06:00:00       0    18432       0 :      95993.  1.0100e+05  1.0531e+05 : slp',\n",
       " '85 : 2001-01-04 12:00:00       0    18432       0 :      225.30      276.95      316.15 : tsurf',\n",
       " '86 : 2001-01-04 12:00:00       0    18432       0 :  1.5218e-18  2.7277e-05   0.0012928 : precip',\n",
       " '87 : 2001-01-04 12:00:00       0    18432       0 :     -20.982    0.081775      23.332 : u10',\n",
       " '88 : 2001-01-04 12:00:00       0    18432       0 :     -25.479   -0.047348      23.695 : v10',\n",
       " '89 : 2001-01-04 12:00:00       0    18432       0 :     0.28994      17.883      74.286 : qvi',\n",
       " '90 : 2001-01-04 12:00:00       0    18432       0 :      96303.  1.0100e+05  1.0515e+05 : slp',\n",
       " '91 : 2001-01-04 18:00:00       0    18432       0 :      224.38      276.90      312.79 : tsurf',\n",
       " '92 : 2001-01-04 18:00:00       0    18432       0 :  1.5463e-18  2.6541e-05   0.0010982 : precip',\n",
       " '93 : 2001-01-04 18:00:00       0    18432       0 :     -22.321     0.12803      23.318 : u10',\n",
       " '94 : 2001-01-04 18:00:00       0    18432       0 :     -22.915   -0.052900      23.523 : v10',\n",
       " '95 : 2001-01-04 18:00:00       0    18432       0 :     0.29024      17.912      73.722 : qvi',\n",
       " '96 : 2001-01-04 18:00:00       0    18432       0 :      96389.  1.0101e+05  1.0523e+05 : slp',\n",
       " '97 : 2001-01-05 00:00:00       0    18432       0 :      223.51      276.60      311.57 : tsurf',\n",
       " '98 : 2001-01-05 00:00:00       0    18432       0 :  1.5662e-18  2.5348e-05   0.0012362 : precip',\n",
       " '99 : 2001-01-05 00:00:00       0    18432       0 :     -21.590     0.12967      22.844 : u10',\n",
       " '100 : 2001-01-05 00:00:00       0    18432       0 :     -21.705   -0.080258      21.436 : v10',\n",
       " '101 : 2001-01-05 00:00:00       0    18432       0 :     0.24257      17.954      72.616 : qvi',\n",
       " '102 : 2001-01-05 00:00:00       0    18432       0 :      96468.  1.0101e+05  1.0491e+05 : slp',\n",
       " '103 : 2001-01-05 06:00:00       0    18432       0 :      223.22      276.54      318.78 : tsurf',\n",
       " '104 : 2001-01-05 06:00:00       0    18432       0 :  1.5406e-18  2.5937e-05  0.00096740 : precip',\n",
       " '105 : 2001-01-05 06:00:00       0    18432       0 :     -19.067     0.14783      21.855 : u10',\n",
       " '106 : 2001-01-05 06:00:00       0    18432       0 :     -20.435   -0.099114      21.029 : v10',\n",
       " '107 : 2001-01-05 06:00:00       0    18432       0 :     0.28417      17.973      71.858 : qvi',\n",
       " '108 : 2001-01-05 06:00:00       0    18432       0 :      95955.  1.0099e+05  1.0475e+05 : slp',\n",
       " '109 : 2001-01-05 12:00:00       0    18432       0 :      223.45      276.98      314.69 : tsurf',\n",
       " '110 : 2001-01-05 12:00:00       0    18432       0 :  1.4712e-18  2.6988e-05  0.00095891 : precip',\n",
       " '111 : 2001-01-05 12:00:00       0    18432       0 :     -20.410     0.17618      23.429 : u10',\n",
       " '112 : 2001-01-05 12:00:00       0    18432       0 :     -20.179   -0.071380      23.752 : v10',\n",
       " '113 : 2001-01-05 12:00:00       0    18432       0 :     0.28158      17.987      72.715 : qvi',\n",
       " '114 : 2001-01-05 12:00:00       0    18432       0 :      95535.  1.0098e+05  1.0462e+05 : slp',\n",
       " '115 : 2001-01-05 18:00:00       0    18432       0 :      223.24      277.00      314.05 : tsurf',\n",
       " '116 : 2001-01-05 18:00:00       0    18432       0 :  1.4956e-18  2.8155e-05   0.0016925 : precip',\n",
       " '117 : 2001-01-05 18:00:00       0    18432       0 :     -24.969     0.24744      23.549 : u10',\n",
       " '118 : 2001-01-05 18:00:00       0    18432       0 :     -22.476   -0.066732      24.196 : v10',\n",
       " '119 : 2001-01-05 18:00:00       0    18432       0 :     0.28300      18.007      72.150 : qvi',\n",
       " '120 : 2001-01-05 18:00:00       0    18432       0 :      95390.  1.0098e+05  1.0459e+05 : slp',\n",
       " '121 : 2001-01-06 00:00:00       0    18432       0 :      224.53      276.76      311.02 : tsurf',\n",
       " '122 : 2001-01-06 00:00:00       0    18432       0 :  1.4768e-18  2.8558e-05   0.0015137 : precip',\n",
       " '123 : 2001-01-06 00:00:00       0    18432       0 :     -23.143     0.21961      23.753 : u10',\n",
       " '124 : 2001-01-06 00:00:00       0    18432       0 :     -21.001    -0.11243      20.447 : v10',\n",
       " '125 : 2001-01-06 00:00:00       0    18432       0 :     0.28181      18.006      69.981 : qvi',\n",
       " '126 : 2001-01-06 00:00:00       0    18432       0 :      95476.  1.0098e+05  1.0481e+05 : slp',\n",
       " '127 : 2001-01-06 06:00:00       0    18432       0 :      224.76      276.71      320.22 : tsurf',\n",
       " '128 : 2001-01-06 06:00:00       0    18432       0 :  1.5159e-18  2.8367e-05   0.0013979 : precip',\n",
       " '129 : 2001-01-06 06:00:00       0    18432       0 :     -21.883     0.20311      27.394 : u10',\n",
       " '130 : 2001-01-06 06:00:00       0    18432       0 :     -21.357    -0.15809      20.193 : v10',\n",
       " '131 : 2001-01-06 06:00:00       0    18432       0 :     0.28245      17.967      69.070 : qvi',\n",
       " '132 : 2001-01-06 06:00:00       0    18432       0 :      95513.  1.0097e+05  1.0504e+05 : slp',\n",
       " '133 : 2001-01-06 12:00:00       0    18432       0 :      224.66      277.14      313.49 : tsurf',\n",
       " '134 : 2001-01-06 12:00:00       0    18432       0 :  1.5088e-18  2.8081e-05   0.0015039 : precip',\n",
       " '135 : 2001-01-06 12:00:00       0    18432       0 :     -22.475     0.16643      25.247 : u10',\n",
       " '136 : 2001-01-06 12:00:00       0    18432       0 :     -22.996    -0.18444      21.005 : v10',\n",
       " '137 : 2001-01-06 12:00:00       0    18432       0 :     0.28742      17.954      67.397 : qvi',\n",
       " '138 : 2001-01-06 12:00:00       0    18432       0 :      95646.  1.0097e+05  1.0501e+05 : slp',\n",
       " '139 : 2001-01-06 18:00:00       0    18432       0 :      224.18      277.13      313.91 : tsurf',\n",
       " '140 : 2001-01-06 18:00:00       0    18432       0 :  1.5069e-18  2.9109e-05   0.0016315 : precip',\n",
       " '141 : 2001-01-06 18:00:00       0    18432       0 :     -21.142     0.23600      23.688 : u10',\n",
       " '142 : 2001-01-06 18:00:00       0    18432       0 :     -23.726    -0.16888      21.041 : v10',\n",
       " '143 : 2001-01-06 18:00:00       0    18432       0 :     0.29902      17.959      67.139 : qvi',\n",
       " '144 : 2001-01-06 18:00:00       0    18432       0 :      95723.  1.0097e+05  1.0495e+05 : slp',\n",
       " '145 : 2001-01-07 00:00:00       0    18432       0 :      223.44      276.81      314.58 : tsurf',\n",
       " '146 : 2001-01-07 00:00:00       0    18432       0 :  1.5071e-18  2.7830e-05   0.0013965 : precip',\n",
       " '147 : 2001-01-07 00:00:00       0    18432       0 :     -22.086     0.22349      22.193 : u10',\n",
       " '148 : 2001-01-07 00:00:00       0    18432       0 :     -23.838    -0.17445      26.162 : v10',\n",
       " '149 : 2001-01-07 00:00:00       0    18432       0 :     0.29571      17.951      65.749 : qvi',\n",
       " '150 : 2001-01-07 00:00:00       0    18432       0 :      95859.  1.0099e+05  1.0482e+05 : slp',\n",
       " '151 : 2001-01-07 06:00:00       0    18432       0 :      222.18      276.76      319.17 : tsurf',\n",
       " '152 : 2001-01-07 06:00:00       0    18432       0 :  1.5252e-18  2.7843e-05   0.0013394 : precip',\n",
       " '153 : 2001-01-07 06:00:00       0    18432       0 :     -21.086     0.21372      25.268 : u10',\n",
       " '154 : 2001-01-07 06:00:00       0    18432       0 :     -23.295    -0.21006      26.741 : v10',\n",
       " '155 : 2001-01-07 06:00:00       0    18432       0 :     0.26476      17.915      67.112 : qvi',\n",
       " '156 : 2001-01-07 06:00:00       0    18432       0 :      95811.  1.0097e+05  1.0468e+05 : slp',\n",
       " '157 : 2001-01-07 12:00:00       0    18432       0 :      221.57      277.16      313.94 : tsurf',\n",
       " '158 : 2001-01-07 12:00:00       0    18432       0 :  1.4910e-18  2.7170e-05   0.0013499 : precip',\n",
       " '159 : 2001-01-07 12:00:00       0    18432       0 :     -21.785     0.14866      24.703 : u10',\n",
       " '160 : 2001-01-07 12:00:00       0    18432       0 :     -21.747    -0.15830      21.351 : v10',\n",
       " '161 : 2001-01-07 12:00:00       0    18432       0 :     0.30361      17.892      67.458 : qvi',\n",
       " '162 : 2001-01-07 12:00:00       0    18432       0 :      95856.  1.0097e+05  1.0469e+05 : slp',\n",
       " '163 : 2001-01-07 18:00:00       0    18432       0 :      221.38      277.12      315.24 : tsurf',\n",
       " '164 : 2001-01-07 18:00:00       0    18432       0 :  1.5181e-18  2.7595e-05   0.0012127 : precip',\n",
       " '165 : 2001-01-07 18:00:00       0    18432       0 :     -20.209     0.13863      24.295 : u10',\n",
       " '166 : 2001-01-07 18:00:00       0    18432       0 :     -20.668   -0.077436      21.461 : v10',\n",
       " '167 : 2001-01-07 18:00:00       0    18432       0 :     0.34961      17.901      66.539 : qvi',\n",
       " '168 : 2001-01-07 18:00:00       0    18432       0 :      95578.  1.0097e+05  1.0455e+05 : slp',\n",
       " '169 : 2001-01-08 00:00:00       0    18432       0 :      221.13      276.76      311.87 : tsurf',\n",
       " '170 : 2001-01-08 00:00:00       0    18432       0 :  1.5119e-18  2.6613e-05   0.0010611 : precip',\n",
       " '171 : 2001-01-08 00:00:00       0    18432       0 :     -21.855     0.11541      24.200 : u10',\n",
       " '172 : 2001-01-08 00:00:00       0    18432       0 :     -21.517   -0.052627      20.450 : v10',\n",
       " '173 : 2001-01-08 00:00:00       0    18432       0 :     0.35153      17.905      65.799 : qvi',\n",
       " '174 : 2001-01-08 00:00:00       0    18432       0 :      95055.  1.0098e+05  1.0455e+05 : slp',\n",
       " '175 : 2001-01-08 06:00:00       0    18432       0 :      221.36      276.68      320.15 : tsurf',\n",
       " '176 : 2001-01-08 06:00:00       0    18432       0 :  1.5277e-18  2.6094e-05   0.0015536 : precip',\n",
       " '177 : 2001-01-08 06:00:00       0    18432       0 :     -21.572    0.076606      26.490 : u10',\n",
       " '178 : 2001-01-08 06:00:00       0    18432       0 :     -22.041    -0.10481      20.033 : v10',\n",
       " '179 : 2001-01-08 06:00:00       0    18432       0 :     0.35360      17.894      64.908 : qvi',\n",
       " '180 : 2001-01-08 06:00:00       0    18432       0 :      94854.  1.0095e+05  1.0450e+05 : slp',\n",
       " '181 : 2001-01-08 12:00:00       0    18432       0 :      222.18      277.05      315.64 : tsurf',\n",
       " '182 : 2001-01-08 12:00:00       0    18432       0 :  1.4259e-18  2.6693e-05   0.0013704 : precip',\n",
       " '183 : 2001-01-08 12:00:00       0    18432       0 :     -21.016   0.0081468      24.958 : u10',\n",
       " '184 : 2001-01-08 12:00:00       0    18432       0 :     -22.561    -0.11738      22.644 : v10',\n",
       " '185 : 2001-01-08 12:00:00       0    18432       0 :     0.36041      17.898      65.065 : qvi',\n",
       " '186 : 2001-01-08 12:00:00       0    18432       0 :      94953.  1.0095e+05  1.0456e+05 : slp',\n",
       " '187 : 2001-01-08 18:00:00       0    18432       0 :      222.65      276.97      315.02 : tsurf',\n",
       " '188 : 2001-01-08 18:00:00       0    18432       0 :  1.5082e-18  2.8437e-05   0.0010900 : precip',\n",
       " '189 : 2001-01-08 18:00:00       0    18432       0 :     -21.377    0.030919      25.026 : u10',\n",
       " '190 : 2001-01-08 18:00:00       0    18432       0 :     -22.014   -0.090228      23.246 : v10',\n",
       " '191 : 2001-01-08 18:00:00       0    18432       0 :     0.35961      17.907      62.797 : qvi',\n",
       " '192 : 2001-01-08 18:00:00       0    18432       0 :      95199.  1.0094e+05  1.0445e+05 : slp',\n",
       " '193 : 2001-01-09 00:00:00       0    18432       0 :      222.56      276.60      315.03 : tsurf',\n",
       " '194 : 2001-01-09 00:00:00       0    18432       0 :  1.5081e-18  2.6909e-05   0.0012095 : precip',\n",
       " '195 : 2001-01-09 00:00:00       0    18432       0 :     -20.164 -0.00043244      24.892 : u10',\n",
       " '196 : 2001-01-09 00:00:00       0    18432       0 :     -20.136    -0.12053      20.701 : v10',\n",
       " '197 : 2001-01-09 00:00:00       0    18432       0 :     0.35561      17.908      62.986 : qvi',\n",
       " '198 : 2001-01-09 00:00:00       0    18432       0 :      95445.  1.0094e+05  1.0442e+05 : slp',\n",
       " '199 : 2001-01-09 06:00:00       0    18432       0 :      222.21      276.52      319.67 : tsurf',\n",
       " '200 : 2001-01-09 06:00:00       0    18432       0 :  1.5012e-18  2.6066e-05   0.0013371 : precip',\n",
       " '201 : 2001-01-09 06:00:00       0    18432       0 :     -20.937   -0.026654      24.459 : u10',\n",
       " '202 : 2001-01-09 06:00:00       0    18432       0 :     -17.515    -0.20829      23.743 : v10',\n",
       " '203 : 2001-01-09 06:00:00       0    18432       0 :     0.35358      17.907      64.248 : qvi',\n",
       " '204 : 2001-01-09 06:00:00       0    18432       0 :      95084.  1.0091e+05  1.0426e+05 : slp',\n",
       " '205 : 2001-01-09 12:00:00       0    18432       0 :      221.58      276.94      315.98 : tsurf',\n",
       " '206 : 2001-01-09 12:00:00       0    18432       0 :  1.4173e-18  2.6819e-05   0.0013098 : precip',\n",
       " '207 : 2001-01-09 12:00:00       0    18432       0 :     -21.723   -0.020077      26.382 : u10',\n",
       " '208 : 2001-01-09 12:00:00       0    18432       0 :     -17.747    -0.23819      19.763 : v10',\n",
       " '209 : 2001-01-09 12:00:00       0    18432       0 :     0.35714      17.925      63.559 : qvi',\n",
       " '210 : 2001-01-09 12:00:00       0    18432       0 :      94675.  1.0090e+05  1.0426e+05 : slp',\n",
       " '211 : 2001-01-09 18:00:00       0    18432       0 :      221.03      276.91      316.38 : tsurf',\n",
       " '212 : 2001-01-09 18:00:00       0    18432       0 :  1.4774e-18  2.9543e-05   0.0013680 : precip',\n",
       " '213 : 2001-01-09 18:00:00       0    18432       0 :     -22.315    0.062408      25.864 : u10',\n",
       " '214 : 2001-01-09 18:00:00       0    18432       0 :     -19.207    -0.21374      18.493 : v10',\n",
       " '215 : 2001-01-09 18:00:00       0    18432       0 :     0.36391      17.941      63.603 : qvi',\n",
       " '216 : 2001-01-09 18:00:00       0    18432       0 :      94404.  1.0089e+05  1.0427e+05 : slp',\n",
       " '217 : 2001-01-10 00:00:00       0    18432       0 :      220.68      276.60      315.66 : tsurf',\n",
       " '218 : 2001-01-10 00:00:00       0    18432       0 :  1.5231e-18  2.7917e-05   0.0013511 : precip',\n",
       " '219 : 2001-01-10 00:00:00       0    18432       0 :     -21.962    0.074847      24.714 : u10',\n",
       " '220 : 2001-01-10 00:00:00       0    18432       0 :     -20.213    -0.22827      17.894 : v10',\n",
       " '221 : 2001-01-10 00:00:00       0    18432       0 :     0.34996      17.948      63.817 : qvi',\n",
       " '222 : 2001-01-10 00:00:00       0    18432       0 :      94504.  1.0089e+05  1.0461e+05 : slp',\n",
       " '223 : 2001-01-10 06:00:00       0    18432       0 :      220.26      276.60      321.54 : tsurf',\n",
       " '224 : 2001-01-10 06:00:00       0    18432       0 :  1.5105e-18  2.6336e-05   0.0012182 : precip',\n",
       " '225 : 2001-01-10 06:00:00       0    18432       0 :     -22.200    0.079309      24.737 : u10',\n",
       " '226 : 2001-01-10 06:00:00       0    18432       0 :     -20.947    -0.27905      18.856 : v10',\n",
       " '227 : 2001-01-10 06:00:00       0    18432       0 :     0.32603      17.973      64.713 : qvi',\n",
       " '228 : 2001-01-10 06:00:00       0    18432       0 :      94475.  1.0087e+05  1.0422e+05 : slp',\n",
       " '229 : 2001-01-10 12:00:00       0    18432       0 :      219.87      277.11      317.24 : tsurf',\n",
       " '230 : 2001-01-10 12:00:00       0    18432       0 :  1.4026e-18  2.7880e-05   0.0013968 : precip',\n",
       " '231 : 2001-01-10 12:00:00       0    18432       0 :     -22.391    0.025245      22.118 : u10',\n",
       " '232 : 2001-01-10 12:00:00       0    18432       0 :     -21.261    -0.26564      20.798 : v10',\n",
       " '233 : 2001-01-10 12:00:00       0    18432       0 :     0.31440      18.015      64.269 : qvi',\n",
       " '234 : 2001-01-10 12:00:00       0    18432       0 :      94494.  1.0088e+05  1.0431e+05 : slp',\n",
       " '235 : 2001-01-10 18:00:00       0    18432       0 :      219.59      277.13      316.58 : tsurf',\n",
       " '236 : 2001-01-10 18:00:00       0    18432       0 :  1.4819e-18  2.9543e-05   0.0012724 : precip',\n",
       " '237 : 2001-01-10 18:00:00       0    18432       0 :     -24.338    0.035490      22.710 : u10',\n",
       " '238 : 2001-01-10 18:00:00       0    18432       0 :     -21.470    -0.20819      18.623 : v10',\n",
       " '239 : 2001-01-10 18:00:00       0    18432       0 :     0.30045      18.058      63.715 : qvi',\n",
       " '240 : 2001-01-10 18:00:00       0    18432       0 :      94964.  1.0089e+05  1.0421e+05 : slp',\n",
       " ':       Date     Time   Level Gridsize    Miss :     Minimum        Mean     Maximum : Parameter name']"
      ]
     },
     "execution_count": 15,
     "metadata": {},
     "output_type": "execute_result"
    }
   ],
   "source": [
    "cdo.infon(input=infile)"
   ]
  },
  {
   "cell_type": "markdown",
   "metadata": {},
   "source": [
    "**Set output file.**"
   ]
  },
  {
   "cell_type": "code",
   "execution_count": 16,
   "metadata": {},
   "outputs": [],
   "source": [
    "outfile = 'outfile.nc'"
   ]
  },
  {
   "cell_type": "markdown",
   "metadata": {},
   "source": [
    "## Copy file\n",
    "\n",
    "Copy the input file to outfile.nc and change the data precision from float32 to float64."
   ]
  },
  {
   "cell_type": "code",
   "execution_count": 17,
   "metadata": {},
   "outputs": [
    {
     "data": {
      "text/plain": [
       "['File format : NetCDF',\n",
       " '-1 : Institut Source   T Steptype Levels Num    Points Num Dtype : Parameter name',\n",
       " '1 : unknown  unknown  v instant       1   1     18432   1  F64  : tsurf',\n",
       " '2 : unknown  unknown  v instant       1   1     18432   1  F64  : precip',\n",
       " '3 : unknown  unknown  v instant       1   1     18432   1  F64  : u10',\n",
       " '4 : unknown  unknown  v instant       1   1     18432   1  F64  : v10',\n",
       " '5 : unknown  unknown  v instant       1   1     18432   1  F64  : qvi',\n",
       " '6 : unknown  unknown  v instant       1   1     18432   1  F64  : slp',\n",
       " 'Grid coordinates :',\n",
       " '1 : gaussian                 : points=18432 (192x96)  F48',\n",
       " 'lon : -180 to 178.125 by 1.875 degrees_east  circular',\n",
       " 'lat : 88.57217 to -88.57217 degrees_north',\n",
       " 'Vertical coordinates :',\n",
       " '1 : surface                  : levels=1',\n",
       " 'Time coordinate :  40 steps',\n",
       " 'RefTime =  2001-01-01 00:00:00  Units = hours  Calendar = standard',\n",
       " 'YYYY-MM-DD hh:mm:ss  YYYY-MM-DD hh:mm:ss  YYYY-MM-DD hh:mm:ss  YYYY-MM-DD hh:mm:ss',\n",
       " '2001-01-01 00:00:00  2001-01-01 06:00:00  2001-01-01 12:00:00  2001-01-01 18:00:00',\n",
       " '2001-01-02 00:00:00  2001-01-02 06:00:00  2001-01-02 12:00:00  2001-01-02 18:00:00',\n",
       " '2001-01-03 00:00:00  2001-01-03 06:00:00  2001-01-03 12:00:00  2001-01-03 18:00:00',\n",
       " '2001-01-04 00:00:00  2001-01-04 06:00:00  2001-01-04 12:00:00  2001-01-04 18:00:00',\n",
       " '2001-01-05 00:00:00  2001-01-05 06:00:00  2001-01-05 12:00:00  2001-01-05 18:00:00',\n",
       " '2001-01-06 00:00:00  2001-01-06 06:00:00  2001-01-06 12:00:00  2001-01-06 18:00:00',\n",
       " '2001-01-07 00:00:00  2001-01-07 06:00:00  2001-01-07 12:00:00  2001-01-07 18:00:00',\n",
       " '2001-01-08 00:00:00  2001-01-08 06:00:00  2001-01-08 12:00:00  2001-01-08 18:00:00',\n",
       " '2001-01-09 00:00:00  2001-01-09 06:00:00  2001-01-09 12:00:00  2001-01-09 18:00:00',\n",
       " '2001-01-10 00:00:00  2001-01-10 06:00:00  2001-01-10 12:00:00  2001-01-10 18:00:00']"
      ]
     },
     "execution_count": 17,
     "metadata": {},
     "output_type": "execute_result"
    }
   ],
   "source": [
    "cdo.copy(input=infile, options='-b F64', output=outfile)\n",
    "cdo.sinfon(input=outfile)"
   ]
  },
  {
   "cell_type": "markdown",
   "metadata": {},
   "source": [
    "## Select variables"
   ]
  },
  {
   "cell_type": "code",
   "execution_count": 18,
   "metadata": {},
   "outputs": [
    {
     "data": {
      "text/plain": [
       "['File format : NetCDF',\n",
       " '-1 : Institut Source   T Steptype Levels Num    Points Num Dtype : Parameter name',\n",
       " '1 : unknown  unknown  v instant       1   1     18432   1  F32  : tsurf',\n",
       " 'Grid coordinates :',\n",
       " '1 : gaussian                 : points=18432 (192x96)  F48',\n",
       " 'lon : -180 to 178.125 by 1.875 degrees_east  circular',\n",
       " 'lat : 88.57217 to -88.57217 degrees_north',\n",
       " 'Vertical coordinates :',\n",
       " '1 : surface                  : levels=1',\n",
       " 'Time coordinate :  40 steps',\n",
       " 'RefTime =  2001-01-01 00:00:00  Units = hours  Calendar = standard',\n",
       " 'YYYY-MM-DD hh:mm:ss  YYYY-MM-DD hh:mm:ss  YYYY-MM-DD hh:mm:ss  YYYY-MM-DD hh:mm:ss',\n",
       " '2001-01-01 00:00:00  2001-01-01 06:00:00  2001-01-01 12:00:00  2001-01-01 18:00:00',\n",
       " '2001-01-02 00:00:00  2001-01-02 06:00:00  2001-01-02 12:00:00  2001-01-02 18:00:00',\n",
       " '2001-01-03 00:00:00  2001-01-03 06:00:00  2001-01-03 12:00:00  2001-01-03 18:00:00',\n",
       " '2001-01-04 00:00:00  2001-01-04 06:00:00  2001-01-04 12:00:00  2001-01-04 18:00:00',\n",
       " '2001-01-05 00:00:00  2001-01-05 06:00:00  2001-01-05 12:00:00  2001-01-05 18:00:00',\n",
       " '2001-01-06 00:00:00  2001-01-06 06:00:00  2001-01-06 12:00:00  2001-01-06 18:00:00',\n",
       " '2001-01-07 00:00:00  2001-01-07 06:00:00  2001-01-07 12:00:00  2001-01-07 18:00:00',\n",
       " '2001-01-08 00:00:00  2001-01-08 06:00:00  2001-01-08 12:00:00  2001-01-08 18:00:00',\n",
       " '2001-01-09 00:00:00  2001-01-09 06:00:00  2001-01-09 12:00:00  2001-01-09 18:00:00',\n",
       " '2001-01-10 00:00:00  2001-01-10 06:00:00  2001-01-10 12:00:00  2001-01-10 18:00:00']"
      ]
     },
     "execution_count": 18,
     "metadata": {},
     "output_type": "execute_result"
    }
   ],
   "source": [
    "cdo.selvar('tsurf', input=infile, output=outfile)\n",
    "cdo.sinfon(input=outfile)"
   ]
  },
  {
   "cell_type": "code",
   "execution_count": 19,
   "metadata": {},
   "outputs": [
    {
     "data": {
      "text/plain": [
       "['File format : NetCDF',\n",
       " '-1 : Institut Source   T Steptype Levels Num    Points Num Dtype : Parameter name',\n",
       " '1 : unknown  unknown  v instant       1   1     18432   1  F32  : u10',\n",
       " '2 : unknown  unknown  v instant       1   1     18432   1  F32  : v10',\n",
       " 'Grid coordinates :',\n",
       " '1 : gaussian                 : points=18432 (192x96)  F48',\n",
       " 'lon : -180 to 178.125 by 1.875 degrees_east  circular',\n",
       " 'lat : 88.57217 to -88.57217 degrees_north',\n",
       " 'Vertical coordinates :',\n",
       " '1 : surface                  : levels=1',\n",
       " 'Time coordinate :  40 steps',\n",
       " 'RefTime =  2001-01-01 00:00:00  Units = hours  Calendar = standard',\n",
       " 'YYYY-MM-DD hh:mm:ss  YYYY-MM-DD hh:mm:ss  YYYY-MM-DD hh:mm:ss  YYYY-MM-DD hh:mm:ss',\n",
       " '2001-01-01 00:00:00  2001-01-01 06:00:00  2001-01-01 12:00:00  2001-01-01 18:00:00',\n",
       " '2001-01-02 00:00:00  2001-01-02 06:00:00  2001-01-02 12:00:00  2001-01-02 18:00:00',\n",
       " '2001-01-03 00:00:00  2001-01-03 06:00:00  2001-01-03 12:00:00  2001-01-03 18:00:00',\n",
       " '2001-01-04 00:00:00  2001-01-04 06:00:00  2001-01-04 12:00:00  2001-01-04 18:00:00',\n",
       " '2001-01-05 00:00:00  2001-01-05 06:00:00  2001-01-05 12:00:00  2001-01-05 18:00:00',\n",
       " '2001-01-06 00:00:00  2001-01-06 06:00:00  2001-01-06 12:00:00  2001-01-06 18:00:00',\n",
       " '2001-01-07 00:00:00  2001-01-07 06:00:00  2001-01-07 12:00:00  2001-01-07 18:00:00',\n",
       " '2001-01-08 00:00:00  2001-01-08 06:00:00  2001-01-08 12:00:00  2001-01-08 18:00:00',\n",
       " '2001-01-09 00:00:00  2001-01-09 06:00:00  2001-01-09 12:00:00  2001-01-09 18:00:00',\n",
       " '2001-01-10 00:00:00  2001-01-10 06:00:00  2001-01-10 12:00:00  2001-01-10 18:00:00']"
      ]
     },
     "execution_count": 19,
     "metadata": {},
     "output_type": "execute_result"
    }
   ],
   "source": [
    "cdo.selvar('u10,v10', input=infile, output=outfile)\n",
    "cdo.sinfon(input=outfile)"
   ]
  },
  {
   "cell_type": "markdown",
   "metadata": {},
   "source": [
    "## Select timesteps\n",
    "\n",
    "Select timestep 1 and 10:"
   ]
  },
  {
   "cell_type": "code",
   "execution_count": 20,
   "metadata": {},
   "outputs": [
    {
     "data": {
      "text/plain": [
       "['File format : NetCDF',\n",
       " '-1 : Institut Source   T Steptype Levels Num    Points Num Dtype : Parameter name',\n",
       " '1 : unknown  unknown  v instant       1   1     18432   1  F32  : tsurf',\n",
       " '2 : unknown  unknown  v instant       1   1     18432   1  F32  : precip',\n",
       " '3 : unknown  unknown  v instant       1   1     18432   1  F32  : u10',\n",
       " '4 : unknown  unknown  v instant       1   1     18432   1  F32  : v10',\n",
       " '5 : unknown  unknown  v instant       1   1     18432   1  F32  : qvi',\n",
       " '6 : unknown  unknown  v instant       1   1     18432   1  F32  : slp',\n",
       " 'Grid coordinates :',\n",
       " '1 : gaussian                 : points=18432 (192x96)  F48',\n",
       " 'lon : -180 to 178.125 by 1.875 degrees_east  circular',\n",
       " 'lat : 88.57217 to -88.57217 degrees_north',\n",
       " 'Vertical coordinates :',\n",
       " '1 : surface                  : levels=1',\n",
       " 'Time coordinate :  2 steps',\n",
       " 'RefTime =  2001-01-01 00:00:00  Units = hours  Calendar = standard',\n",
       " 'YYYY-MM-DD hh:mm:ss  YYYY-MM-DD hh:mm:ss  YYYY-MM-DD hh:mm:ss  YYYY-MM-DD hh:mm:ss',\n",
       " '2001-01-01 00:00:00  2001-01-03 06:00:00']"
      ]
     },
     "execution_count": 20,
     "metadata": {},
     "output_type": "execute_result"
    }
   ],
   "source": [
    "cdo.seltimestep('1,10', input=infile, output=outfile)\n",
    "cdo.sinfon(input=outfile)"
   ]
  },
  {
   "cell_type": "markdown",
   "metadata": {},
   "source": [
    "Select timestep 1 to 10:"
   ]
  },
  {
   "cell_type": "code",
   "execution_count": 21,
   "metadata": {},
   "outputs": [
    {
     "data": {
      "text/plain": [
       "['File format : NetCDF',\n",
       " '-1 : Institut Source   T Steptype Levels Num    Points Num Dtype : Parameter name',\n",
       " '1 : unknown  unknown  v instant       1   1     18432   1  F32  : tsurf',\n",
       " '2 : unknown  unknown  v instant       1   1     18432   1  F32  : precip',\n",
       " '3 : unknown  unknown  v instant       1   1     18432   1  F32  : u10',\n",
       " '4 : unknown  unknown  v instant       1   1     18432   1  F32  : v10',\n",
       " '5 : unknown  unknown  v instant       1   1     18432   1  F32  : qvi',\n",
       " '6 : unknown  unknown  v instant       1   1     18432   1  F32  : slp',\n",
       " 'Grid coordinates :',\n",
       " '1 : gaussian                 : points=18432 (192x96)  F48',\n",
       " 'lon : -180 to 178.125 by 1.875 degrees_east  circular',\n",
       " 'lat : 88.57217 to -88.57217 degrees_north',\n",
       " 'Vertical coordinates :',\n",
       " '1 : surface                  : levels=1',\n",
       " 'Time coordinate :  10 steps',\n",
       " 'RefTime =  2001-01-01 00:00:00  Units = hours  Calendar = standard',\n",
       " 'YYYY-MM-DD hh:mm:ss  YYYY-MM-DD hh:mm:ss  YYYY-MM-DD hh:mm:ss  YYYY-MM-DD hh:mm:ss',\n",
       " '2001-01-01 00:00:00  2001-01-01 06:00:00  2001-01-01 12:00:00  2001-01-01 18:00:00',\n",
       " '2001-01-02 00:00:00  2001-01-02 06:00:00  2001-01-02 12:00:00  2001-01-02 18:00:00',\n",
       " '2001-01-03 00:00:00  2001-01-03 06:00:00']"
      ]
     },
     "execution_count": 21,
     "metadata": {},
     "output_type": "execute_result"
    }
   ],
   "source": [
    "cdo.seltimestep('1/10', input=infile, output=outfile)\n",
    "cdo.sinfon(input=outfile)"
   ]
  },
  {
   "cell_type": "markdown",
   "metadata": {},
   "source": [
    "## Operator chaining\n",
    "\n",
    "Operators with a fixed number of input files (streams) and only one output file can be combined. The input parameters must begin with an '-' and they will be executed from right to left.\n",
    "\n",
    "Select the variables u10 and v10 and then select the first 10 timesteps:"
   ]
  },
  {
   "cell_type": "code",
   "execution_count": 22,
   "metadata": {},
   "outputs": [
    {
     "data": {
      "text/plain": [
       "['File format : NetCDF',\n",
       " '-1 : Institut Source   T Steptype Levels Num    Points Num Dtype : Parameter name',\n",
       " '1 : unknown  unknown  v instant       1   1     18432   1  F32  : u10',\n",
       " '2 : unknown  unknown  v instant       1   1     18432   1  F32  : v10',\n",
       " 'Grid coordinates :',\n",
       " '1 : gaussian                 : points=18432 (192x96)  F48',\n",
       " 'lon : -180 to 178.125 by 1.875 degrees_east  circular',\n",
       " 'lat : 88.57217 to -88.57217 degrees_north',\n",
       " 'Vertical coordinates :',\n",
       " '1 : surface                  : levels=1',\n",
       " 'Time coordinate :  10 steps',\n",
       " 'RefTime =  2001-01-01 00:00:00  Units = hours  Calendar = standard',\n",
       " 'YYYY-MM-DD hh:mm:ss  YYYY-MM-DD hh:mm:ss  YYYY-MM-DD hh:mm:ss  YYYY-MM-DD hh:mm:ss',\n",
       " '2001-01-01 00:00:00  2001-01-01 06:00:00  2001-01-01 12:00:00  2001-01-01 18:00:00',\n",
       " '2001-01-02 00:00:00  2001-01-02 06:00:00  2001-01-02 12:00:00  2001-01-02 18:00:00',\n",
       " '2001-01-03 00:00:00  2001-01-03 06:00:00']"
      ]
     },
     "execution_count": 22,
     "metadata": {},
     "output_type": "execute_result"
    }
   ],
   "source": [
    "cdo.seltimestep('1/10', input='-selvar,u10,v10 '+infile, output=outfile)\n",
    "cdo.sinfon(input=outfile)"
   ]
  },
  {
   "cell_type": "markdown",
   "metadata": {},
   "source": [
    "Use operators and options at once to do the above sections and change the output precision:"
   ]
  },
  {
   "cell_type": "code",
   "execution_count": 23,
   "metadata": {},
   "outputs": [
    {
     "data": {
      "text/plain": [
       "['File format : NetCDF',\n",
       " '-1 : Institut Source   T Steptype Levels Num    Points Num Dtype : Parameter name',\n",
       " '1 : unknown  unknown  v instant       1   1     18432   1  F64  : u10',\n",
       " '2 : unknown  unknown  v instant       1   1     18432   1  F64  : v10',\n",
       " 'Grid coordinates :',\n",
       " '1 : gaussian                 : points=18432 (192x96)  F48',\n",
       " 'lon : -180 to 178.125 by 1.875 degrees_east  circular',\n",
       " 'lat : 88.57217 to -88.57217 degrees_north',\n",
       " 'Vertical coordinates :',\n",
       " '1 : surface                  : levels=1',\n",
       " 'Time coordinate :  10 steps',\n",
       " 'RefTime =  2001-01-01 00:00:00  Units = hours  Calendar = standard',\n",
       " 'YYYY-MM-DD hh:mm:ss  YYYY-MM-DD hh:mm:ss  YYYY-MM-DD hh:mm:ss  YYYY-MM-DD hh:mm:ss',\n",
       " '2001-01-01 00:00:00  2001-01-01 06:00:00  2001-01-01 12:00:00  2001-01-01 18:00:00',\n",
       " '2001-01-02 00:00:00  2001-01-02 06:00:00  2001-01-02 12:00:00  2001-01-02 18:00:00',\n",
       " '2001-01-03 00:00:00  2001-01-03 06:00:00']"
      ]
     },
     "execution_count": 23,
     "metadata": {},
     "output_type": "execute_result"
    }
   ],
   "source": [
    "cdo.seltimestep('1/10', input='-selvar,u10,v10 '+infile, options='-b F64', output=outfile)\n",
    "cdo.sinfon(input=outfile)"
   ]
  },
  {
   "cell_type": "markdown",
   "metadata": {},
   "source": [
    "## Select a sub-region"
   ]
  },
  {
   "cell_type": "code",
   "execution_count": 24,
   "metadata": {},
   "outputs": [
    {
     "data": {
      "text/plain": [
       "['File format : NetCDF',\n",
       " '-1 : Institut Source   T Steptype Levels Num    Points Num Dtype : Parameter name',\n",
       " '1 : unknown  unknown  v instant       1   1        30   1  F32  : tsurf',\n",
       " '2 : unknown  unknown  v instant       1   1        30   1  F32  : precip',\n",
       " '3 : unknown  unknown  v instant       1   1        30   1  F32  : u10',\n",
       " '4 : unknown  unknown  v instant       1   1        30   1  F32  : v10',\n",
       " '5 : unknown  unknown  v instant       1   1        30   1  F32  : qvi',\n",
       " '6 : unknown  unknown  v instant       1   1        30   1  F32  : slp',\n",
       " 'Grid coordinates :',\n",
       " '1 : lonlat                   : points=30 (6x5)',\n",
       " 'lon : 20.625 to 30 by 1.875 degrees_east',\n",
       " 'lat : 79.27056 to 71.81113 by -1.864857 degrees_north',\n",
       " 'Vertical coordinates :',\n",
       " '1 : surface                  : levels=1',\n",
       " 'Time coordinate :  1 step',\n",
       " 'RefTime =  2001-01-01 00:00:00  Units = hours  Calendar = standard',\n",
       " 'YYYY-MM-DD hh:mm:ss  YYYY-MM-DD hh:mm:ss  YYYY-MM-DD hh:mm:ss  YYYY-MM-DD hh:mm:ss',\n",
       " '2001-01-01 00:00:00']"
      ]
     },
     "execution_count": 24,
     "metadata": {},
     "output_type": "execute_result"
    }
   ],
   "source": [
    "cdo.sellonlatbox('20,30,70,80', input='-seltimestep,1 '+infile, output=outfile)\n",
    "cdo.sinfon(input=outfile)"
   ]
  },
  {
   "cell_type": "markdown",
   "metadata": {},
   "source": [
    "## Compute the field mean\n",
    "\n",
    "Compute the mean of the horizontal field for each timestep (-> time series)."
   ]
  },
  {
   "cell_type": "code",
   "execution_count": 25,
   "metadata": {},
   "outputs": [
    {
     "data": {
      "text/plain": [
       "['File format : NetCDF',\n",
       " '-1 : Institut Source   T Steptype Levels Num    Points Num Dtype : Parameter name',\n",
       " '1 : unknown  unknown  v instant       1   1         1   1  F32  : tsurf',\n",
       " 'Grid coordinates :',\n",
       " '1 : lonlat                   : points=1 (1x1)',\n",
       " 'lon : 0 degrees_east',\n",
       " 'lat : 0 degrees_north',\n",
       " 'Vertical coordinates :',\n",
       " '1 : surface                  : levels=1',\n",
       " 'Time coordinate :  40 steps',\n",
       " 'RefTime =  2001-01-01 00:00:00  Units = hours  Calendar = standard',\n",
       " 'YYYY-MM-DD hh:mm:ss  YYYY-MM-DD hh:mm:ss  YYYY-MM-DD hh:mm:ss  YYYY-MM-DD hh:mm:ss',\n",
       " '2001-01-01 00:00:00  2001-01-01 06:00:00  2001-01-01 12:00:00  2001-01-01 18:00:00',\n",
       " '2001-01-02 00:00:00  2001-01-02 06:00:00  2001-01-02 12:00:00  2001-01-02 18:00:00',\n",
       " '2001-01-03 00:00:00  2001-01-03 06:00:00  2001-01-03 12:00:00  2001-01-03 18:00:00',\n",
       " '2001-01-04 00:00:00  2001-01-04 06:00:00  2001-01-04 12:00:00  2001-01-04 18:00:00',\n",
       " '2001-01-05 00:00:00  2001-01-05 06:00:00  2001-01-05 12:00:00  2001-01-05 18:00:00',\n",
       " '2001-01-06 00:00:00  2001-01-06 06:00:00  2001-01-06 12:00:00  2001-01-06 18:00:00',\n",
       " '2001-01-07 00:00:00  2001-01-07 06:00:00  2001-01-07 12:00:00  2001-01-07 18:00:00',\n",
       " '2001-01-08 00:00:00  2001-01-08 06:00:00  2001-01-08 12:00:00  2001-01-08 18:00:00',\n",
       " '2001-01-09 00:00:00  2001-01-09 06:00:00  2001-01-09 12:00:00  2001-01-09 18:00:00',\n",
       " '2001-01-10 00:00:00  2001-01-10 06:00:00  2001-01-10 12:00:00  2001-01-10 18:00:00']"
      ]
     },
     "execution_count": 25,
     "metadata": {},
     "output_type": "execute_result"
    }
   ],
   "source": [
    "cdo.fldmean(input=\"-selname,tsurf \"+infile, output='outfile.nc')\n",
    "cdo.sinfon(input=outfile)"
   ]
  },
  {
   "cell_type": "markdown",
   "metadata": {},
   "source": [
    "Plot the fieldmean data:"
   ]
  },
  {
   "cell_type": "code",
   "execution_count": 26,
   "metadata": {},
   "outputs": [
    {
     "data": {
      "text/plain": [
       "[<matplotlib.lines.Line2D at 0x7f9779d212b0>]"
      ]
     },
     "execution_count": 26,
     "metadata": {},
     "output_type": "execute_result"
    },
    {
     "data": {
      "image/png": "[encoded data removed]",
      "text/plain": [
       "<Figure size 432x288 with 1 Axes>"
      ]
     },
     "metadata": {
      "needs_background": "light"
     },
     "output_type": "display_data"
    }
   ],
   "source": [
    "cdo.fldmean(input=\"-selname,tsurf \"+infile, returnXArray='tsurf').plot()"
   ]
  },
  {
   "cell_type": "markdown",
   "metadata": {},
   "source": [
    "## Assign data to variable\n",
    "\n",
    "Assign the file variable precip to the python variable precipitation:"
   ]
  },
  {
   "cell_type": "code",
   "execution_count": 27,
   "metadata": {},
   "outputs": [
    {
     "name": "stdout",
     "output_type": "stream",
     "text": [
      "<xarray.DataArray 'precip' (time: 40, lat: 96, lon: 192)>\n",
      "[737280 values with dtype=float32]\n",
      "Coordinates:\n",
      "  * time     (time) datetime64[ns] 2001-01-01 ... 2001-01-10T18:00:00\n",
      "  * lon      (lon) float64 -180.0 -178.1 -176.2 -174.4 ... 174.4 176.2 178.1\n",
      "  * lat      (lat) float64 88.57 86.72 84.86 83.0 ... -83.0 -84.86 -86.72 -88.57\n",
      "Attributes:\n",
      "    long_name:  total precipitation\n",
      "    units:      kg/m^2s\n",
      "    code:       4\n",
      "    table:      128\n"
     ]
    }
   ],
   "source": [
    "precipitation = cdo.selvar('precip', input=infile, returnXArray='precip')\n",
    "print(precipitation)"
   ]
  },
  {
   "cell_type": "markdown",
   "metadata": {},
   "source": [
    "Print the value of the first timestep, first latitude, first longitude:"
   ]
  },
  {
   "cell_type": "code",
   "execution_count": 28,
   "metadata": {},
   "outputs": [
    {
     "name": "stdout",
     "output_type": "stream",
     "text": [
      "1.8439023e-06\n"
     ]
    }
   ],
   "source": [
    "print(precipitation.values[0,0,0])"
   ]
  },
  {
   "cell_type": "markdown",
   "metadata": {},
   "source": [
    "Compute the fieldmean:"
   ]
  },
  {
   "cell_type": "code",
   "execution_count": 29,
   "metadata": {},
   "outputs": [
    {
     "name": "stdout",
     "output_type": "stream",
     "text": [
      "[285.91788 285.8857  286.46826 286.4037  285.9395  285.8711  286.40665\n",
      " 286.34302 285.84647 285.7593 ]\n"
     ]
    }
   ],
   "source": [
    "tsurf_fldmean = cdo.fldmean(input=infile, returnXArray='tsurf')\n",
    "print(tsurf_fldmean.values[0:10,0,0])"
   ]
  },
  {
   "cell_type": "markdown",
   "metadata": {},
   "source": [
    "## Remapping\n",
    "\n",
    "Interpolate the data of input file to a new grid using the bilinear interpolation method.\n",
    "\n",
    "For the ease of use, we select the variable tsurf and only the first timestep to interpolate the data to a longitude 1 deg x latitude 1 deg (r360x180) grid."
   ]
  },
  {
   "cell_type": "code",
   "execution_count": 30,
   "metadata": {},
   "outputs": [
    {
     "data": {
      "text/plain": [
       "'outfile.nc'"
      ]
     },
     "execution_count": 30,
     "metadata": {},
     "output_type": "execute_result"
    }
   ],
   "source": [
    "cdo.remapbil('r360x180', input='-seltimestep,1 -selvar,tsurf '+infile, output=outfile)"
   ]
  },
  {
   "cell_type": "markdown",
   "metadata": {},
   "source": [
    "To demonstrate the functionality we increase the resolution of the input data to a 0.5 deg grid and plot the original and the interpolated data.\n",
    "\n",
    "Original input data:"
   ]
  },
  {
   "cell_type": "code",
   "execution_count": 31,
   "metadata": {},
   "outputs": [
    {
     "data": {
      "text/plain": [
       "<cartopy.mpl.feature_artist.FeatureArtist at 0x7f9779fb27c0>"
      ]
     },
     "execution_count": 31,
     "metadata": {},
     "output_type": "execute_result"
    },
    {
     "data": {
      "image/png": "[encoded data removed]",
      "text/plain": [
       "<Figure size 432x288 with 2 Axes>"
      ]
     },
     "metadata": {
      "needs_background": "light"
     },
     "output_type": "display_data"
    }
   ],
   "source": [
    "import cartopy.crs as ccrs\n",
    "\n",
    "tsurf_orig = xr.open_dataset(infile).tsurf[0,:,:]\n",
    "\n",
    "data = tsurf_orig.plot(subplot_kws=dict(projection=ccrs.PlateCarree(), facecolor='gray'), transform=ccrs.PlateCarree(),)\n",
    "\n",
    "data.axes.set_extent([-10.,20.,30.,60.])\n",
    "data.axes.coastlines()"
   ]
  },
  {
   "cell_type": "code",
   "execution_count": 32,
   "metadata": {},
   "outputs": [
    {
     "data": {
      "text/plain": [
       "<cartopy.mpl.feature_artist.FeatureArtist at 0x7f977b608940>"
      ]
     },
     "execution_count": 32,
     "metadata": {},
     "output_type": "execute_result"
    },
    {
     "data": {
      "image/png": "[encoded data removed]",
      "text/plain": [
       "<Figure size 432x288 with 2 Axes>"
      ]
     },
     "metadata": {
      "needs_background": "light"
     },
     "output_type": "display_data"
    }
   ],
   "source": [
    "tsurf = cdo.remapbil('r720x360', input='-seltimestep,1 '+infile, returnXArray='tsurf')\n",
    "\n",
    "data = tsurf.plot(subplot_kws=dict(projection=ccrs.PlateCarree(), facecolor='gray'), transform=ccrs.PlateCarree(),)\n",
    "\n",
    "data.axes.set_extent([-10.,20.,30.,60.])\n",
    "data.axes.coastlines()"
   ]
  },
  {
   "cell_type": "markdown",
   "metadata": {},
   "source": [
    "## Remap data to a grid of another file"
   ]
  },
  {
   "cell_type": "code",
   "execution_count": 33,
   "metadata": {},
   "outputs": [],
   "source": [
    "cdo.topo(options='-f nc', output='topo.nc')\n",
    "\n",
    "tsurf_2 = cdo.remapbil('topo.nc', input=\"-seltimestep,1 \"+infile, returnXArray='tsurf')"
   ]
  },
  {
   "cell_type": "markdown",
   "metadata": {},
   "source": [
    "## Create a land sea mask\n",
    "\n",
    "CDO provides a global 0.5 degree topography dataset that can be used to generate a land sea mask. First, we interpolate the topography data to the same grid as the data file. With the operator `gtc` we set all values greater than 0.5 m to 1 and all other values to 0."
   ]
  },
  {
   "cell_type": "code",
   "execution_count": 34,
   "metadata": {},
   "outputs": [
    {
     "name": "stdout",
     "output_type": "stream",
     "text": [
      "<xarray.DataArray 'topo' (lat: 96, lon: 192)>\n",
      "array([[0., 0., 0., ..., 0., 0., 0.],\n",
      "       [0., 0., 0., ..., 0., 0., 0.],\n",
      "       [0., 0., 0., ..., 0., 0., 0.],\n",
      "       ...,\n",
      "       [1., 1., 1., ..., 1., 1., 1.],\n",
      "       [1., 1., 1., ..., 1., 1., 1.],\n",
      "       [1., 1., 1., ..., 1., 1., 1.]], dtype=float32)\n",
      "Coordinates:\n",
      "  * lon      (lon) float64 -180.0 -178.1 -176.2 -174.4 ... 174.4 176.2 178.1\n",
      "  * lat      (lat) float64 88.57 86.72 84.86 83.0 ... -83.0 -84.86 -86.72 -88.57\n",
      "Attributes:\n",
      "    units:    m\n"
     ]
    }
   ],
   "source": [
    "lsm = cdo.gtc(0.5, input='-remapbil,'+infile+' -topo', returnXArray='topo')\n",
    "print(lsm)"
   ]
  },
  {
   "cell_type": "code",
   "execution_count": 35,
   "metadata": {},
   "outputs": [
    {
     "data": {
      "text/plain": [
       "<cartopy.mpl.feature_artist.FeatureArtist at 0x7f977b64dfd0>"
      ]
     },
     "execution_count": 35,
     "metadata": {},
     "output_type": "execute_result"
    },
    {
     "data": {
      "image/png": "[encoded data removed]",
      "text/plain": [
       "<Figure size 432x288 with 2 Axes>"
      ]
     },
     "metadata": {
      "needs_background": "light"
     },
     "output_type": "display_data"
    }
   ],
   "source": [
    "p = lsm.plot(subplot_kws=dict(projection=ccrs.PlateCarree(), facecolor='gray'), transform=ccrs.PlateCarree(),)\n",
    "p.axes.set_extent([-20.,20.,30.,60.])\n",
    "p.axes.coastlines()"
   ]
  },
  {
   "cell_type": "markdown",
   "metadata": {},
   "source": [
    "## Masking data\n",
    "\n",
    "Before we can use a mask on a data variable we need to create a mask file using the same grid as the data variable."
   ]
  },
  {
   "cell_type": "code",
   "execution_count": 36,
   "metadata": {},
   "outputs": [
    {
     "data": {
      "text/plain": [
       "'lsm.nc'"
      ]
     },
     "execution_count": 36,
     "metadata": {},
     "output_type": "execute_result"
    }
   ],
   "source": [
    "cdo.setname('lsm', input='-gtc,0.5 -remapbil,'+infile+' -topo', options='-f nc', output='lsm.nc')"
   ]
  },
  {
   "cell_type": "markdown",
   "metadata": {},
   "source": [
    "Now, we want to get only tsurf values over land for timestep 1."
   ]
  },
  {
   "cell_type": "code",
   "execution_count": 37,
   "metadata": {},
   "outputs": [],
   "source": [
    "masked = cdo.setctomiss(0, input='-mul lsm.nc -seltimestep,1 '+infile, returnXArray='tsurf')"
   ]
  },
  {
   "cell_type": "markdown",
   "metadata": {},
   "source": [
    "Let's see how it looks like."
   ]
  },
  {
   "cell_type": "code",
   "execution_count": 38,
   "metadata": {},
   "outputs": [
    {
     "data": {
      "text/plain": [
       "<cartopy.mpl.feature_artist.FeatureArtist at 0x7f977d0bb6d0>"
      ]
     },
     "execution_count": 38,
     "metadata": {},
     "output_type": "execute_result"
    },
    {
     "data": {
      "image/png": "[encoded data removed]",
      "text/plain": [
       "<Figure size 432x288 with 2 Axes>"
      ]
     },
     "metadata": {
      "needs_background": "light"
     },
     "output_type": "display_data"
    }
   ],
   "source": [
    "p = masked.plot(subplot_kws=dict(projection=ccrs.PlateCarree(), facecolor='gray'), transform=ccrs.PlateCarree(),)\n",
    "p.axes.set_extent([-20.,20.,30.,60.])\n",
    "p.axes.coastlines()"
   ]
  },
  {
   "cell_type": "markdown",
   "metadata": {},
   "source": [
    "Use a variables instead of output files."
   ]
  },
  {
   "cell_type": "code",
   "execution_count": 39,
   "metadata": {},
   "outputs": [],
   "source": [
    "lsm = cdo.setname('lsm', input='-gtc,0.5 -remapbil,'+infile+' -topo', options='-f nc', returnXArray='lsm')"
   ]
  },
  {
   "cell_type": "code",
   "execution_count": 40,
   "metadata": {},
   "outputs": [],
   "source": [
    "tsurf = cdo.seltimestep(1, input='-selvar,tsurf '+infile, returnXArray='tsurf')"
   ]
  },
  {
   "cell_type": "code",
   "execution_count": 41,
   "metadata": {},
   "outputs": [
    {
     "name": "stdout",
     "output_type": "stream",
     "text": [
      "<xarray.DataArray (time: 1, lat: 96, lon: 192)>\n",
      "array([[[  0.     ,   0.     ,   0.     , ...,   0.     ,   0.     ,\n",
      "           0.     ],\n",
      "        [  0.     ,   0.     ,   0.     , ...,   0.     ,   0.     ,\n",
      "           0.     ],\n",
      "        [  0.     ,   0.     ,   0.     , ...,   0.     ,   0.     ,\n",
      "           0.     ],\n",
      "        ...,\n",
      "        [256.27307, 256.78674, 257.43127, ..., 254.5895 , 255.06606,\n",
      "         255.69496],\n",
      "        [242.54457, 242.53676, 242.91371, ..., 241.52113, 241.91566,\n",
      "         242.33168],\n",
      "        [236.11879, 235.98012, 235.96059, ..., 236.11488, 236.09145,\n",
      "         236.07191]]], dtype=float32)\n",
      "Coordinates:\n",
      "  * time     (time) datetime64[ns] 2001-01-01\n",
      "  * lon      (lon) float64 -180.0 -178.1 -176.2 -174.4 ... 174.4 176.2 178.1\n",
      "  * lat      (lat) float64 88.57 86.72 84.86 83.0 ... -83.0 -84.86 -86.72 -88.57\n"
     ]
    }
   ],
   "source": [
    "masked = tsurf * lsm\n",
    "print(masked)"
   ]
  },
  {
   "cell_type": "markdown",
   "metadata": {},
   "source": [
    "Plot the masked data."
   ]
  },
  {
   "cell_type": "code",
   "execution_count": 42,
   "metadata": {},
   "outputs": [
    {
     "data": {
      "text/plain": [
       "<cartopy.mpl.feature_artist.FeatureArtist at 0x7f977a9c57c0>"
      ]
     },
     "execution_count": 42,
     "metadata": {},
     "output_type": "execute_result"
    },
    {
     "data": {
      "image/png": "[encoded data removed]",
      "text/plain": [
       "<Figure size 432x288 with 2 Axes>"
      ]
     },
     "metadata": {
      "needs_background": "light"
     },
     "output_type": "display_data"
    }
   ],
   "source": [
    "masked.plot(subplot_kws=dict(projection=ccrs.PlateCarree(), facecolor='gray'), transform=ccrs.PlateCarree(),\n",
    "           cbar_kwargs={'orientation': 'horizontal'})\n",
    "p.axes.set_extent([-20.,20.,30.,60.])\n",
    "p.axes.coastlines()  "
   ]
  },
  {
   "cell_type": "markdown",
   "metadata": {},
   "source": [
    "And now we want to mask the land part of the data. The easiest way is to set all zeros to one and all ones to NaN. Matplotlib will automatically use the color _grey_ for the missing values."
   ]
  },
  {
   "cell_type": "code",
   "execution_count": 43,
   "metadata": {},
   "outputs": [
    {
     "data": {
      "text/plain": [
       "<cartopy.mpl.feature_artist.FeatureArtist at 0x7f977d0bbeb0>"
      ]
     },
     "execution_count": 43,
     "metadata": {},
     "output_type": "execute_result"
    },
    {
     "data": {
      "image/png": "[encoded data removed]",
      "text/plain": [
       "<Figure size 432x288 with 2 Axes>"
      ]
     },
     "metadata": {
      "needs_background": "light"
     },
     "output_type": "display_data"
    }
   ],
   "source": [
    "import numpy as np\n",
    "import matplotlib as mpl\n",
    "import copy\n",
    "\n",
    "lsm = np.where(lsm==0, 1, np.nan)\n",
    "\n",
    "masked = tsurf * lsm\n",
    "\n",
    "masked.plot(subplot_kws=dict(projection=ccrs.PlateCarree(), facecolor='gray'), transform=ccrs.PlateCarree(),\n",
    "           cbar_kwargs={'orientation': 'horizontal'})\n",
    "p.axes.set_extent([-20.,20.,30.,60.])\n",
    "p.axes.coastlines()"
   ]
  },
  {
   "cell_type": "markdown",
   "metadata": {},
   "source": [
    "## Delete temporary files"
   ]
  },
  {
   "cell_type": "code",
   "execution_count": 44,
   "metadata": {},
   "outputs": [],
   "source": [
    "cdo.cleanTempDir()"
   ]
  },
  {
   "cell_type": "code",
   "execution_count": null,
   "metadata": {},
   "outputs": [],
   "source": []
  }
 ],
 "metadata": {
  "kernelspec": {
   "display_name": "Python 3",
   "language": "python",
   "name": "python3"
  },
  "language_info": {
   "codemirror_mode": {
    "name": "ipython",
    "version": 3
   },
   "file_extension": ".py",
   "mimetype": "text/x-python",
   "name": "python",
   "nbconvert_exporter": "python",
   "pygments_lexer": "ipython3",
   "version": "3.8.3"
  }
 },
 "nbformat": 4,
 "nbformat_minor": 4
}
